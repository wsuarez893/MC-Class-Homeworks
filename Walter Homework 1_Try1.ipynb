{
 "cells": [
  {
   "cell_type": "markdown",
   "metadata": {},
   "source": [
    "1. Print out your favorite color and write comment about what you are doing above the code."
   ]
  },
  {
   "cell_type": "code",
   "execution_count": 1,
   "metadata": {},
   "outputs": [
    {
     "name": "stdout",
     "output_type": "stream",
     "text": [
      "brown\n"
     ]
    }
   ],
   "source": [
    "x = \"brown\"\n",
    "print(x)       # My favorite color is brown"
   ]
  },
  {
   "cell_type": "markdown",
   "metadata": {},
   "source": [
    "2. Print the sumation of numbers 1 through 10"
   ]
  },
  {
   "cell_type": "code",
   "execution_count": 7,
   "metadata": {},
   "outputs": [
    {
     "name": "stdout",
     "output_type": "stream",
     "text": [
      "45\n"
     ]
    }
   ],
   "source": [
    "a = 1\n",
    "b = 2 \n",
    "c = 3\n",
    "d = 4\n",
    "e = 5\n",
    "f = 6\n",
    "g = 7\n",
    "h = 8\n",
    "i = 9\n",
    "j =10 \n",
    "\n",
    "print(a + b + c+d+e+f+g+h+i)"
   ]
  },
  {
   "cell_type": "markdown",
   "metadata": {},
   "source": [
    "3. Print what 2 to the 8th power is."
   ]
  },
  {
   "cell_type": "code",
   "execution_count": 8,
   "metadata": {},
   "outputs": [
    {
     "name": "stdout",
     "output_type": "stream",
     "text": [
      "256\n"
     ]
    }
   ],
   "source": [
    "numb1 = 2\n",
    "numb2 = 8 \n",
    "print(numb1**numb2)"
   ]
  },
  {
   "cell_type": "markdown",
   "metadata": {},
   "source": [
    "4. Print the remainder of 100 divided by 11. "
   ]
  },
  {
   "cell_type": "code",
   "execution_count": 9,
   "metadata": {},
   "outputs": [
    {
     "name": "stdout",
     "output_type": "stream",
     "text": [
      "1\n"
     ]
    }
   ],
   "source": [
    "numb3 = 100\n",
    "numb4 = 11\n",
    "print(numb3%numb4)"
   ]
  },
  {
   "cell_type": "markdown",
   "metadata": {},
   "source": [
    "5. What is the result of adding strings: 20, 8, 77?"
   ]
  },
  {
   "cell_type": "code",
   "execution_count": 11,
   "metadata": {},
   "outputs": [
    {
     "name": "stdout",
     "output_type": "stream",
     "text": [
      "20877\n"
     ]
    }
   ],
   "source": [
    "j = \"20\"\n",
    "k = \"8\"\n",
    "l = \"77\"\n",
    "print ( j + k + l)"
   ]
  },
  {
   "cell_type": "markdown",
   "metadata": {},
   "source": [
    "6. Print out 100 divided by 5"
   ]
  },
  {
   "cell_type": "code",
   "execution_count": 13,
   "metadata": {},
   "outputs": [
    {
     "name": "stdout",
     "output_type": "stream",
     "text": [
      "20.0\n"
     ]
    }
   ],
   "source": [
    "numb5 = 100\n",
    "numb6 = 5\n",
    "print(numb5/numb6)"
   ]
  },
  {
   "cell_type": "markdown",
   "metadata": {},
   "source": [
    "7. What is the difference (subtraction) between 10/4 and 10//4?  Print out the result"
   ]
  },
  {
   "cell_type": "code",
   "execution_count": 14,
   "metadata": {},
   "outputs": [
    {
     "name": "stdout",
     "output_type": "stream",
     "text": [
      "2.5\n",
      "2\n"
     ]
    }
   ],
   "source": [
    "numb7 = 10\n",
    "numb8 = 4\n",
    "print(numb7/numb8)\n",
    "print(numb7//numb8)"
   ]
  },
  {
   "cell_type": "markdown",
   "metadata": {},
   "source": [
    "8. Create a variable called height and store your height value there.\n",
    "Print a sentence describing your height and use the variable in the sentence as well."
   ]
  },
  {
   "cell_type": "code",
   "execution_count": 17,
   "metadata": {},
   "outputs": [
    {
     "name": "stdout",
     "output_type": "stream",
     "text": [
      "My height is height\n"
     ]
    }
   ],
   "source": [
    "height = \"1.84 meters\" \n",
    "print(f\"My height is height\")\n",
    "\n"
   ]
  },
  {
   "cell_type": "markdown",
   "metadata": {},
   "source": [
    "9. Print the same information as exercise 8 using a formatted string. "
   ]
  },
  {
   "cell_type": "code",
   "execution_count": 18,
   "metadata": {},
   "outputs": [
    {
     "name": "stdout",
     "output_type": "stream",
     "text": [
      "My height is 1.84 meters\n"
     ]
    }
   ],
   "source": [
    "height = \"1.84 meters\" \n",
    "print(f\"My height is {height}\")"
   ]
  },
  {
   "cell_type": "markdown",
   "metadata": {},
   "source": [
    "10. Use two different (single and double) quotes in a string to print out a sentence"
   ]
  },
  {
   "cell_type": "code",
   "execution_count": 19,
   "metadata": {},
   "outputs": [
    {
     "data": {
      "text/plain": [
       "\"'Here is a random sentence' hey said\""
      ]
     },
     "execution_count": 19,
     "metadata": {},
     "output_type": "execute_result"
    }
   ],
   "source": [
    "\"'Here is a random sentence' hey said\""
   ]
  },
  {
   "cell_type": "markdown",
   "metadata": {},
   "source": [
    "11. Print out Hello World! 7 times each on a new line using only one line of code."
   ]
  },
  {
   "cell_type": "code",
   "execution_count": 22,
   "metadata": {},
   "outputs": [
    {
     "name": "stdout",
     "output_type": "stream",
     "text": [
      "Hello World!\n",
      "Hello World!\n",
      "Hello World!\n",
      "Hello World!\n",
      "Hello World!\n",
      "Hello World!\n",
      "Hello World!\n"
     ]
    }
   ],
   "source": [
    "print(\"Hello World!\\nHello World!\\nHello World!\\nHello World!\\nHello World!\\nHello World!\\nHello World!\")"
   ]
  },
  {
   "cell_type": "markdown",
   "metadata": {},
   "source": [
    "12. Write a code to get two integers from a user. Then print out their summation, subtraction, multiplication, and division."
   ]
  },
  {
   "cell_type": "code",
   "execution_count": 25,
   "metadata": {},
   "outputs": [
    {
     "name": "stdout",
     "output_type": "stream",
     "text": [
      "6\n",
      "3\n"
     ]
    }
   ],
   "source": [
    "x1 = int(input())\n",
    "x2 = int(input())"
   ]
  },
  {
   "cell_type": "code",
   "execution_count": 26,
   "metadata": {},
   "outputs": [
    {
     "name": "stdout",
     "output_type": "stream",
     "text": [
      "9\n",
      "3\n",
      "18\n",
      "2.0\n"
     ]
    }
   ],
   "source": [
    "print(x1+x2)\n",
    "print(x1-x2)\n",
    "print(x1*x2)\n",
    "print(x1/x2)"
   ]
  },
  {
   "cell_type": "markdown",
   "metadata": {},
   "source": [
    "13. You and your collegue have been tasked to write a code to get 5 numbers from a user and then print out their summation and average in a formatted string.  Your partner wrote codes below.  Now it is up to you to fix all errors."
   ]
  },
  {
   "cell_type": "code",
   "execution_count": 32,
   "metadata": {},
   "outputs": [
    {
     "name": "stdout",
     "output_type": "stream",
     "text": [
      "Enter a number: 3\n",
      "Enter a number: 4\n",
      "Enter a number: 5\n",
      "Enter a number: 6\n",
      "Enter a number: 7\n",
      "25\n",
      "5\n"
     ]
    }
   ],
   "source": [
    "prompt = f\"Enter a number: \"\n",
    "\n",
    "numb1 = int(input(\"Enter a number: \"))\n",
    "numb2 = int(input(\"Enter a number: \"))\n",
    "numb3 = int(input(\"Enter a number: \"))\n",
    "numb4 = int(input(\"Enter a number: \"))\n",
    "numb5 = int(input(\"Enter a number: \"))\n",
    "\n",
    "total = (numb1 + numb2 + numb3 + numb4 + numb5)\n",
    "avg = total // 5\n",
    "\n",
    "print(total)\n",
    "print(avg)\n"
   ]
  },
  {
   "cell_type": "markdown",
   "metadata": {},
   "source": [
    "14. You and your partner have been assigned to a project to write a program to calculate the amount of runoff rain on a roof from any given rainfall.  \n",
    "\n",
    "You and your partner have figured out that to calculate the runoff from any given rainfall. \n",
    "\n",
    "You need to take the dimensions of the footprint of the roof and <b>convert them to inches</b> (ex - a 50' x 20' roof is 600\" x 240\"). The dimensions should be user submitted. \n",
    "\n",
    "Then, multiply the roof dimensions by the number of inches of rainfall. As an example, 600\" x 240\" x 1\" = 144,000 cubic inches of water for an inch of rainfall. Finally, divide that result by 231 to get the number of gallons (because 1 gallon = 231 cubic inches; 144,000/231 = 623.38).\n",
    "\n",
    "Your partner started coding before getting sick and it is up to you to finish the program."
   ]
  },
  {
   "cell_type": "code",
   "execution_count": 37,
   "metadata": {},
   "outputs": [
    {
     "name": "stdout",
     "output_type": "stream",
     "text": [
      "\n",
      "Rainfall Calculation ***\n",
      "\n",
      "What's roof's width in foot? 50\n",
      "What's roof's length in foot? 20\n",
      "How much did it rain? 1\n",
      "623.3766233766233\n"
     ]
    }
   ],
   "source": [
    "print(\"\\nRainfall Calculation ***\\n\")\n",
    "\n",
    "width = int(input(\"What's roof's width in foot? \")) * 12\n",
    "length = int(input(\"What's roof's length in foot? \")) * 12\n",
    "rain = int(input(\"How much did it rain? \"))\n",
    "\n",
    "\n",
    "area = width * length * rain\n",
    "resultGallons = area/231\n",
    "\n",
    "print(resultGallons)\n",
    "\n",
    "\n"
   ]
  },
  {
   "cell_type": "markdown",
   "metadata": {},
   "source": [
    "15. A program is required to get a customer’s name, a purchase amount and a discount rate (in %). The program must compute the discount amount, sales tax (6%) and the total amount due. Using one print statement, print the customer’s name, purchase amount, discount amount, sales tax and total amount due in friendly format."
   ]
  },
  {
   "cell_type": "code",
   "execution_count": 55,
   "metadata": {},
   "outputs": [
    {
     "name": "stdout",
     "output_type": "stream",
     "text": [
      "What is your name?  Rachel\n",
      "what is the purchase amount?  100\n",
      "What is the discount rate?  0.4\n",
      "Rachel \n",
      " 100.0 \n",
      " 0.4 \n",
      " 0.06 \n",
      " 63.6\n"
     ]
    }
   ],
   "source": [
    "name =    input(\"What is your name?  \" )\n",
    "purchase_amount =   float(input(\"what is the purchase amount?  \" ))\n",
    "discount_rate =    float(input(\"What is the discount rate?  \"  ))\n",
    "\n",
    "sales_tax = 0.06\n",
    "\n",
    "total_amount = (purchase_amount*(1-discount_rate)) * (1 +sales_tax)\n",
    "\n",
    "print(name,\"\\n\",purchase_amount,\"\\n\", discount_rate,\"\\n\", sales_tax,\"\\n\", total_amount)"
   ]
  },
  {
   "cell_type": "code",
   "execution_count": null,
   "metadata": {},
   "outputs": [],
   "source": []
  }
 ],
 "metadata": {
  "kernelspec": {
   "display_name": "Python 3 (ipykernel)",
   "language": "python",
   "name": "python3"
  },
  "language_info": {
   "codemirror_mode": {
    "name": "ipython",
    "version": 3
   },
   "file_extension": ".py",
   "mimetype": "text/x-python",
   "name": "python",
   "nbconvert_exporter": "python",
   "pygments_lexer": "ipython3",
   "version": "3.9.7"
  }
 },
 "nbformat": 4,
 "nbformat_minor": 4
}
