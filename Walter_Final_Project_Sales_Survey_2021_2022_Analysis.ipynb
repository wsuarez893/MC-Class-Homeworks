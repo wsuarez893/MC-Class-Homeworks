{
  "nbformat": 4,
  "nbformat_minor": 0,
  "metadata": {
    "colab": {
      "name": "Walter Final Project_Sales Survey 2021-2022 - Analysis.ipynb",
      "provenance": []
    },
    "kernelspec": {
      "name": "python3",
      "display_name": "Python 3"
    },
    "language_info": {
      "name": "python"
    }
  },
  "cells": [
    {
      "cell_type": "code",
      "execution_count": 1,
      "metadata": {
        "id": "al0FNtgytsF6"
      },
      "outputs": [],
      "source": [
        "from google.colab import drive "
      ]
    },
    {
      "cell_type": "code",
      "source": [
        "drive.mount('/content/gdrive')"
      ],
      "metadata": {
        "colab": {
          "base_uri": "https://localhost:8080/"
        },
        "id": "4dYbeWWUuwTA",
        "outputId": "e7a72dad-fd1d-4123-8365-fdfd2931b762"
      },
      "execution_count": 3,
      "outputs": [
        {
          "output_type": "stream",
          "name": "stdout",
          "text": [
            "Mounted at /content/gdrive\n"
          ]
        }
      ]
    },
    {
      "cell_type": "code",
      "source": [
        "import pandas as pd"
      ],
      "metadata": {
        "id": "D2RHok1ovjxT"
      },
      "execution_count": 4,
      "outputs": []
    },
    {
      "cell_type": "code",
      "source": [
        "Data = pd.read_excel(r'/content/gdrive/My Drive/SalesSurvey2021-2022_Data.xlsx')"
      ],
      "metadata": {
        "id": "jZA7U1cHvnFm"
      },
      "execution_count": 11,
      "outputs": []
    },
    {
      "cell_type": "code",
      "source": [
        "display(pd.DataFrame(Data))"
      ],
      "metadata": {
        "colab": {
          "base_uri": "https://localhost:8080/",
          "height": 835
        },
        "id": "iABGXpcqw374",
        "outputId": "4eb9e203-9382-4f2c-ab32-b2ee73e2b299"
      },
      "execution_count": 12,
      "outputs": [
        {
          "output_type": "display_data",
          "data": {
            "text/plain": [
              "               ResponseID             EndDate  Policynumber  UserID  \\\n",
              "0       R_2Yt7JuAZhlHlSVa 2021-10-01 00:00:11    6081982818  SAPINB   \n",
              "1       R_1CCje1G7UcdzL8W 2021-10-01 00:00:48    6081980481  U95Q4F   \n",
              "2       R_2tEAieOyFaoWQby 2021-10-01 00:02:51    6081975085  U713VY   \n",
              "3       R_2PC4l4hBX2Gzk9Z 2021-10-01 00:05:52    6082034460  U951EP   \n",
              "4       R_22ExdsehQovLj7Z 2021-10-01 00:07:43    6082040228  SAPINB   \n",
              "...                   ...                 ...           ...     ...   \n",
              "135171  R_sAoayy5Xap9dSr7 2022-03-31 23:50:39    6101750054  U82RQO   \n",
              "135172  R_UyDDWJXMmKenE3L 2022-03-31 23:51:52    6101720172  U82DWX   \n",
              "135173  R_CghjwgxDHtx5Z85 2022-03-31 23:52:12    6101824792  U626F3   \n",
              "135174  R_wZQLo3t4iOLA5KF 2022-03-31 23:54:58    6101829494  U74F7P   \n",
              "135175  R_3xTkLAs4s7xGJk5 2022-03-31 23:55:21    6101727748  U713CM   \n",
              "\n",
              "       RatedState  SatAgent  SATFlag  CovgUnderstand   LOB SOBCode  ...  \\\n",
              "0              UT       1.0        1             NaN  Auto  ONLINE  ...   \n",
              "1              GA       2.0        0             NaN   GFR   PHONE  ...   \n",
              "2              FL       1.0        1             1.0  Auto   PHONE  ...   \n",
              "3              UT       1.0        1             1.0   GFR   PHONE  ...   \n",
              "4              GA       2.0        0             1.0  Auto  ONLINE  ...   \n",
              "...           ...       ...      ...             ...   ...     ...  ...   \n",
              "135171         FL       1.0        1             1.0  Auto   PHONE  ...   \n",
              "135172         FL       1.0        1             2.0  Auto   PHONE  ...   \n",
              "135173         NC       1.0        1             1.0  Auto   PHONE  ...   \n",
              "135174         AZ       1.0        1             1.0  Auto   PHONE  ...   \n",
              "135175         MO       1.0        1             1.0  Auto   PHONE  ...   \n",
              "\n",
              "        BundlePath CESResponse  CES  Spanish  RTD_DRVR_AG_NB  \\\n",
              "0              NaN         NaN  NaN      0.0              35   \n",
              "1              NaN         NaN  NaN      0.0              46   \n",
              "2              NaN         NaN  NaN      0.0              44   \n",
              "3              NaN         NaN  2.0      0.0              42   \n",
              "4              NaN         NaN  NaN      0.0              36   \n",
              "...            ...         ...  ...      ...             ...   \n",
              "135171         NaN         NaN  1.0      0.0              30   \n",
              "135172         NaN         NaN  2.0      1.0              60   \n",
              "135173         NaN         NaN  2.0      0.0              18   \n",
              "135174         NaN         NaN  2.0      0.0              20   \n",
              "135175         NaN         NaN  1.0      0.0              41   \n",
              "\n",
              "        RTNG_MRTL_STS_CD  RTNG_GNDR_CD  HERE_INTERVAL_1  HERE_INTERVAL_2  \\\n",
              "0                      S             M                1                1   \n",
              "1                      D             F                1                1   \n",
              "2                      S             M                1                1   \n",
              "3                      M             F                1                1   \n",
              "4                      S             F                1                1   \n",
              "...                  ...           ...              ...              ...   \n",
              "135171                 S             F                1              999   \n",
              "135172                 W             F                1              999   \n",
              "135173                 S             F                1              999   \n",
              "135174                 S             F                1              999   \n",
              "135175                 M             M                1              999   \n",
              "\n",
              "        HERE_INTERVAL_3  \n",
              "0                     1  \n",
              "1                     1  \n",
              "2                     1  \n",
              "3                     1  \n",
              "4                     1  \n",
              "...                 ...  \n",
              "135171              999  \n",
              "135172              999  \n",
              "135173              999  \n",
              "135174              999  \n",
              "135175              999  \n",
              "\n",
              "[135176 rows x 28 columns]"
            ],
            "text/html": [
              "\n",
              "  <div id=\"df-c9b504d9-e7a4-4ed2-9756-1e1052d35d86\">\n",
              "    <div class=\"colab-df-container\">\n",
              "      <div>\n",
              "<style scoped>\n",
              "    .dataframe tbody tr th:only-of-type {\n",
              "        vertical-align: middle;\n",
              "    }\n",
              "\n",
              "    .dataframe tbody tr th {\n",
              "        vertical-align: top;\n",
              "    }\n",
              "\n",
              "    .dataframe thead th {\n",
              "        text-align: right;\n",
              "    }\n",
              "</style>\n",
              "<table border=\"1\" class=\"dataframe\">\n",
              "  <thead>\n",
              "    <tr style=\"text-align: right;\">\n",
              "      <th></th>\n",
              "      <th>ResponseID</th>\n",
              "      <th>EndDate</th>\n",
              "      <th>Policynumber</th>\n",
              "      <th>UserID</th>\n",
              "      <th>RatedState</th>\n",
              "      <th>SatAgent</th>\n",
              "      <th>SATFlag</th>\n",
              "      <th>CovgUnderstand</th>\n",
              "      <th>LOB</th>\n",
              "      <th>SOBCode</th>\n",
              "      <th>...</th>\n",
              "      <th>BundlePath</th>\n",
              "      <th>CESResponse</th>\n",
              "      <th>CES</th>\n",
              "      <th>Spanish</th>\n",
              "      <th>RTD_DRVR_AG_NB</th>\n",
              "      <th>RTNG_MRTL_STS_CD</th>\n",
              "      <th>RTNG_GNDR_CD</th>\n",
              "      <th>HERE_INTERVAL_1</th>\n",
              "      <th>HERE_INTERVAL_2</th>\n",
              "      <th>HERE_INTERVAL_3</th>\n",
              "    </tr>\n",
              "  </thead>\n",
              "  <tbody>\n",
              "    <tr>\n",
              "      <th>0</th>\n",
              "      <td>R_2Yt7JuAZhlHlSVa</td>\n",
              "      <td>2021-10-01 00:00:11</td>\n",
              "      <td>6081982818</td>\n",
              "      <td>SAPINB</td>\n",
              "      <td>UT</td>\n",
              "      <td>1.0</td>\n",
              "      <td>1</td>\n",
              "      <td>NaN</td>\n",
              "      <td>Auto</td>\n",
              "      <td>ONLINE</td>\n",
              "      <td>...</td>\n",
              "      <td>NaN</td>\n",
              "      <td>NaN</td>\n",
              "      <td>NaN</td>\n",
              "      <td>0.0</td>\n",
              "      <td>35</td>\n",
              "      <td>S</td>\n",
              "      <td>M</td>\n",
              "      <td>1</td>\n",
              "      <td>1</td>\n",
              "      <td>1</td>\n",
              "    </tr>\n",
              "    <tr>\n",
              "      <th>1</th>\n",
              "      <td>R_1CCje1G7UcdzL8W</td>\n",
              "      <td>2021-10-01 00:00:48</td>\n",
              "      <td>6081980481</td>\n",
              "      <td>U95Q4F</td>\n",
              "      <td>GA</td>\n",
              "      <td>2.0</td>\n",
              "      <td>0</td>\n",
              "      <td>NaN</td>\n",
              "      <td>GFR</td>\n",
              "      <td>PHONE</td>\n",
              "      <td>...</td>\n",
              "      <td>NaN</td>\n",
              "      <td>NaN</td>\n",
              "      <td>NaN</td>\n",
              "      <td>0.0</td>\n",
              "      <td>46</td>\n",
              "      <td>D</td>\n",
              "      <td>F</td>\n",
              "      <td>1</td>\n",
              "      <td>1</td>\n",
              "      <td>1</td>\n",
              "    </tr>\n",
              "    <tr>\n",
              "      <th>2</th>\n",
              "      <td>R_2tEAieOyFaoWQby</td>\n",
              "      <td>2021-10-01 00:02:51</td>\n",
              "      <td>6081975085</td>\n",
              "      <td>U713VY</td>\n",
              "      <td>FL</td>\n",
              "      <td>1.0</td>\n",
              "      <td>1</td>\n",
              "      <td>1.0</td>\n",
              "      <td>Auto</td>\n",
              "      <td>PHONE</td>\n",
              "      <td>...</td>\n",
              "      <td>NaN</td>\n",
              "      <td>NaN</td>\n",
              "      <td>NaN</td>\n",
              "      <td>0.0</td>\n",
              "      <td>44</td>\n",
              "      <td>S</td>\n",
              "      <td>M</td>\n",
              "      <td>1</td>\n",
              "      <td>1</td>\n",
              "      <td>1</td>\n",
              "    </tr>\n",
              "    <tr>\n",
              "      <th>3</th>\n",
              "      <td>R_2PC4l4hBX2Gzk9Z</td>\n",
              "      <td>2021-10-01 00:05:52</td>\n",
              "      <td>6082034460</td>\n",
              "      <td>U951EP</td>\n",
              "      <td>UT</td>\n",
              "      <td>1.0</td>\n",
              "      <td>1</td>\n",
              "      <td>1.0</td>\n",
              "      <td>GFR</td>\n",
              "      <td>PHONE</td>\n",
              "      <td>...</td>\n",
              "      <td>NaN</td>\n",
              "      <td>NaN</td>\n",
              "      <td>2.0</td>\n",
              "      <td>0.0</td>\n",
              "      <td>42</td>\n",
              "      <td>M</td>\n",
              "      <td>F</td>\n",
              "      <td>1</td>\n",
              "      <td>1</td>\n",
              "      <td>1</td>\n",
              "    </tr>\n",
              "    <tr>\n",
              "      <th>4</th>\n",
              "      <td>R_22ExdsehQovLj7Z</td>\n",
              "      <td>2021-10-01 00:07:43</td>\n",
              "      <td>6082040228</td>\n",
              "      <td>SAPINB</td>\n",
              "      <td>GA</td>\n",
              "      <td>2.0</td>\n",
              "      <td>0</td>\n",
              "      <td>1.0</td>\n",
              "      <td>Auto</td>\n",
              "      <td>ONLINE</td>\n",
              "      <td>...</td>\n",
              "      <td>NaN</td>\n",
              "      <td>NaN</td>\n",
              "      <td>NaN</td>\n",
              "      <td>0.0</td>\n",
              "      <td>36</td>\n",
              "      <td>S</td>\n",
              "      <td>F</td>\n",
              "      <td>1</td>\n",
              "      <td>1</td>\n",
              "      <td>1</td>\n",
              "    </tr>\n",
              "    <tr>\n",
              "      <th>...</th>\n",
              "      <td>...</td>\n",
              "      <td>...</td>\n",
              "      <td>...</td>\n",
              "      <td>...</td>\n",
              "      <td>...</td>\n",
              "      <td>...</td>\n",
              "      <td>...</td>\n",
              "      <td>...</td>\n",
              "      <td>...</td>\n",
              "      <td>...</td>\n",
              "      <td>...</td>\n",
              "      <td>...</td>\n",
              "      <td>...</td>\n",
              "      <td>...</td>\n",
              "      <td>...</td>\n",
              "      <td>...</td>\n",
              "      <td>...</td>\n",
              "      <td>...</td>\n",
              "      <td>...</td>\n",
              "      <td>...</td>\n",
              "      <td>...</td>\n",
              "    </tr>\n",
              "    <tr>\n",
              "      <th>135171</th>\n",
              "      <td>R_sAoayy5Xap9dSr7</td>\n",
              "      <td>2022-03-31 23:50:39</td>\n",
              "      <td>6101750054</td>\n",
              "      <td>U82RQO</td>\n",
              "      <td>FL</td>\n",
              "      <td>1.0</td>\n",
              "      <td>1</td>\n",
              "      <td>1.0</td>\n",
              "      <td>Auto</td>\n",
              "      <td>PHONE</td>\n",
              "      <td>...</td>\n",
              "      <td>NaN</td>\n",
              "      <td>NaN</td>\n",
              "      <td>1.0</td>\n",
              "      <td>0.0</td>\n",
              "      <td>30</td>\n",
              "      <td>S</td>\n",
              "      <td>F</td>\n",
              "      <td>1</td>\n",
              "      <td>999</td>\n",
              "      <td>999</td>\n",
              "    </tr>\n",
              "    <tr>\n",
              "      <th>135172</th>\n",
              "      <td>R_UyDDWJXMmKenE3L</td>\n",
              "      <td>2022-03-31 23:51:52</td>\n",
              "      <td>6101720172</td>\n",
              "      <td>U82DWX</td>\n",
              "      <td>FL</td>\n",
              "      <td>1.0</td>\n",
              "      <td>1</td>\n",
              "      <td>2.0</td>\n",
              "      <td>Auto</td>\n",
              "      <td>PHONE</td>\n",
              "      <td>...</td>\n",
              "      <td>NaN</td>\n",
              "      <td>NaN</td>\n",
              "      <td>2.0</td>\n",
              "      <td>1.0</td>\n",
              "      <td>60</td>\n",
              "      <td>W</td>\n",
              "      <td>F</td>\n",
              "      <td>1</td>\n",
              "      <td>999</td>\n",
              "      <td>999</td>\n",
              "    </tr>\n",
              "    <tr>\n",
              "      <th>135173</th>\n",
              "      <td>R_CghjwgxDHtx5Z85</td>\n",
              "      <td>2022-03-31 23:52:12</td>\n",
              "      <td>6101824792</td>\n",
              "      <td>U626F3</td>\n",
              "      <td>NC</td>\n",
              "      <td>1.0</td>\n",
              "      <td>1</td>\n",
              "      <td>1.0</td>\n",
              "      <td>Auto</td>\n",
              "      <td>PHONE</td>\n",
              "      <td>...</td>\n",
              "      <td>NaN</td>\n",
              "      <td>NaN</td>\n",
              "      <td>2.0</td>\n",
              "      <td>0.0</td>\n",
              "      <td>18</td>\n",
              "      <td>S</td>\n",
              "      <td>F</td>\n",
              "      <td>1</td>\n",
              "      <td>999</td>\n",
              "      <td>999</td>\n",
              "    </tr>\n",
              "    <tr>\n",
              "      <th>135174</th>\n",
              "      <td>R_wZQLo3t4iOLA5KF</td>\n",
              "      <td>2022-03-31 23:54:58</td>\n",
              "      <td>6101829494</td>\n",
              "      <td>U74F7P</td>\n",
              "      <td>AZ</td>\n",
              "      <td>1.0</td>\n",
              "      <td>1</td>\n",
              "      <td>1.0</td>\n",
              "      <td>Auto</td>\n",
              "      <td>PHONE</td>\n",
              "      <td>...</td>\n",
              "      <td>NaN</td>\n",
              "      <td>NaN</td>\n",
              "      <td>2.0</td>\n",
              "      <td>0.0</td>\n",
              "      <td>20</td>\n",
              "      <td>S</td>\n",
              "      <td>F</td>\n",
              "      <td>1</td>\n",
              "      <td>999</td>\n",
              "      <td>999</td>\n",
              "    </tr>\n",
              "    <tr>\n",
              "      <th>135175</th>\n",
              "      <td>R_3xTkLAs4s7xGJk5</td>\n",
              "      <td>2022-03-31 23:55:21</td>\n",
              "      <td>6101727748</td>\n",
              "      <td>U713CM</td>\n",
              "      <td>MO</td>\n",
              "      <td>1.0</td>\n",
              "      <td>1</td>\n",
              "      <td>1.0</td>\n",
              "      <td>Auto</td>\n",
              "      <td>PHONE</td>\n",
              "      <td>...</td>\n",
              "      <td>NaN</td>\n",
              "      <td>NaN</td>\n",
              "      <td>1.0</td>\n",
              "      <td>0.0</td>\n",
              "      <td>41</td>\n",
              "      <td>M</td>\n",
              "      <td>M</td>\n",
              "      <td>1</td>\n",
              "      <td>999</td>\n",
              "      <td>999</td>\n",
              "    </tr>\n",
              "  </tbody>\n",
              "</table>\n",
              "<p>135176 rows × 28 columns</p>\n",
              "</div>\n",
              "      <button class=\"colab-df-convert\" onclick=\"convertToInteractive('df-c9b504d9-e7a4-4ed2-9756-1e1052d35d86')\"\n",
              "              title=\"Convert this dataframe to an interactive table.\"\n",
              "              style=\"display:none;\">\n",
              "        \n",
              "  <svg xmlns=\"http://www.w3.org/2000/svg\" height=\"24px\"viewBox=\"0 0 24 24\"\n",
              "       width=\"24px\">\n",
              "    <path d=\"M0 0h24v24H0V0z\" fill=\"none\"/>\n",
              "    <path d=\"M18.56 5.44l.94 2.06.94-2.06 2.06-.94-2.06-.94-.94-2.06-.94 2.06-2.06.94zm-11 1L8.5 8.5l.94-2.06 2.06-.94-2.06-.94L8.5 2.5l-.94 2.06-2.06.94zm10 10l.94 2.06.94-2.06 2.06-.94-2.06-.94-.94-2.06-.94 2.06-2.06.94z\"/><path d=\"M17.41 7.96l-1.37-1.37c-.4-.4-.92-.59-1.43-.59-.52 0-1.04.2-1.43.59L10.3 9.45l-7.72 7.72c-.78.78-.78 2.05 0 2.83L4 21.41c.39.39.9.59 1.41.59.51 0 1.02-.2 1.41-.59l7.78-7.78 2.81-2.81c.8-.78.8-2.07 0-2.86zM5.41 20L4 18.59l7.72-7.72 1.47 1.35L5.41 20z\"/>\n",
              "  </svg>\n",
              "      </button>\n",
              "      \n",
              "  <style>\n",
              "    .colab-df-container {\n",
              "      display:flex;\n",
              "      flex-wrap:wrap;\n",
              "      gap: 12px;\n",
              "    }\n",
              "\n",
              "    .colab-df-convert {\n",
              "      background-color: #E8F0FE;\n",
              "      border: none;\n",
              "      border-radius: 50%;\n",
              "      cursor: pointer;\n",
              "      display: none;\n",
              "      fill: #1967D2;\n",
              "      height: 32px;\n",
              "      padding: 0 0 0 0;\n",
              "      width: 32px;\n",
              "    }\n",
              "\n",
              "    .colab-df-convert:hover {\n",
              "      background-color: #E2EBFA;\n",
              "      box-shadow: 0px 1px 2px rgba(60, 64, 67, 0.3), 0px 1px 3px 1px rgba(60, 64, 67, 0.15);\n",
              "      fill: #174EA6;\n",
              "    }\n",
              "\n",
              "    [theme=dark] .colab-df-convert {\n",
              "      background-color: #3B4455;\n",
              "      fill: #D2E3FC;\n",
              "    }\n",
              "\n",
              "    [theme=dark] .colab-df-convert:hover {\n",
              "      background-color: #434B5C;\n",
              "      box-shadow: 0px 1px 3px 1px rgba(0, 0, 0, 0.15);\n",
              "      filter: drop-shadow(0px 1px 2px rgba(0, 0, 0, 0.3));\n",
              "      fill: #FFFFFF;\n",
              "    }\n",
              "  </style>\n",
              "\n",
              "      <script>\n",
              "        const buttonEl =\n",
              "          document.querySelector('#df-c9b504d9-e7a4-4ed2-9756-1e1052d35d86 button.colab-df-convert');\n",
              "        buttonEl.style.display =\n",
              "          google.colab.kernel.accessAllowed ? 'block' : 'none';\n",
              "\n",
              "        async function convertToInteractive(key) {\n",
              "          const element = document.querySelector('#df-c9b504d9-e7a4-4ed2-9756-1e1052d35d86');\n",
              "          const dataTable =\n",
              "            await google.colab.kernel.invokeFunction('convertToInteractive',\n",
              "                                                     [key], {});\n",
              "          if (!dataTable) return;\n",
              "\n",
              "          const docLinkHtml = 'Like what you see? Visit the ' +\n",
              "            '<a target=\"_blank\" href=https://colab.research.google.com/notebooks/data_table.ipynb>data table notebook</a>'\n",
              "            + ' to learn more about interactive tables.';\n",
              "          element.innerHTML = '';\n",
              "          dataTable['output_type'] = 'display_data';\n",
              "          await google.colab.output.renderOutput(dataTable, element);\n",
              "          const docLink = document.createElement('div');\n",
              "          docLink.innerHTML = docLinkHtml;\n",
              "          element.appendChild(docLink);\n",
              "        }\n",
              "      </script>\n",
              "    </div>\n",
              "  </div>\n",
              "  "
            ]
          },
          "metadata": {}
        }
      ]
    },
    {
      "cell_type": "code",
      "source": [
        "from sklearn.cluster import KMeans\n",
        "\n",
        "import seaborn as sns\n",
        "\n",
        "from matplotlib import pyplot as plt\n",
        "\n",
        "%matplotlib inline"
      ],
      "metadata": {
        "id": "Bf2lrVlx1ORu"
      },
      "execution_count": 13,
      "outputs": []
    },
    {
      "cell_type": "code",
      "source": [
        "len(Data) #There's 134,176 rows in this data set"
      ],
      "metadata": {
        "colab": {
          "base_uri": "https://localhost:8080/"
        },
        "id": "onQghcdIE0Xa",
        "outputId": "7cb3342f-aba5-4c6d-9281-40a978abad21"
      },
      "execution_count": 15,
      "outputs": [
        {
          "output_type": "execute_result",
          "data": {
            "text/plain": [
              "135176"
            ]
          },
          "metadata": {},
          "execution_count": 15
        }
      ]
    },
    {
      "cell_type": "markdown",
      "source": [
        "## Cleaning, Binning & Relabelling the Data "
      ],
      "metadata": {
        "id": "HyGpyk7wE9CI"
      }
    },
    {
      "cell_type": "markdown",
      "source": [
        "**Note:** I did not have to remove outliers because every single survey response is important for the analysis. "
      ],
      "metadata": {
        "id": "bD0J6QlYROa1"
      }
    },
    {
      "cell_type": "code",
      "source": [
        "Data.isnull().sum() #Having Nulls in the survey questions proper makes sense. I will only remove the Nulls in Spanish and Marital Status rows "
      ],
      "metadata": {
        "id": "_MTR9hvUFC_o"
      },
      "execution_count": null,
      "outputs": []
    },
    {
      "cell_type": "code",
      "source": [
        "Data.dropna(subset=[\"Spanish\"], inplace = True)"
      ],
      "metadata": {
        "id": "oDz9SG7EFSaB"
      },
      "execution_count": 17,
      "outputs": []
    },
    {
      "cell_type": "code",
      "source": [
        "Data.dropna(subset=[\"RTNG_MRTL_STS_CD\"], inplace = True)"
      ],
      "metadata": {
        "id": "Ebv2ISgRFYUy"
      },
      "execution_count": 18,
      "outputs": []
    },
    {
      "cell_type": "code",
      "source": [
        "Data.isnull().sum() #No More Nulls in the columns I care about "
      ],
      "metadata": {
        "colab": {
          "base_uri": "https://localhost:8080/"
        },
        "id": "shACVmc9Fc-S",
        "outputId": "209e02d4-0a19-470a-8917-b3c846274839"
      },
      "execution_count": 19,
      "outputs": [
        {
          "output_type": "execute_result",
          "data": {
            "text/plain": [
              "ResponseID                 0\n",
              "EndDate                    0\n",
              "Policynumber               0\n",
              "UserID                     0\n",
              "RatedState                 0\n",
              "SatAgent               14115\n",
              "SATFlag                    0\n",
              "CovgUnderstand         41605\n",
              "LOB                        0\n",
              "SOBCode                    0\n",
              "SOB                        0\n",
              "SOBStart                   9\n",
              "EmbedFirstQuestion         0\n",
              "Knowledgeable          73328\n",
              "Helpful                73565\n",
              "Communication          73215\n",
              "BestInterest           73194\n",
              "Patient                73464\n",
              "BundlePath            135168\n",
              "CESResponse           121053\n",
              "CES                    69108\n",
              "Spanish                    0\n",
              "RTD_DRVR_AG_NB             0\n",
              "RTNG_MRTL_STS_CD           0\n",
              "RTNG_GNDR_CD               0\n",
              "HERE_INTERVAL_1            0\n",
              "HERE_INTERVAL_2            0\n",
              "HERE_INTERVAL_3            0\n",
              "dtype: int64"
            ]
          },
          "metadata": {},
          "execution_count": 19
        }
      ]
    },
    {
      "cell_type": "code",
      "source": [
        "import numpy as np\n",
        "import scipy.stats as stats\n",
        "import statsmodels.formula.api as sm"
      ],
      "metadata": {
        "id": "Elqo5cVCFh98"
      },
      "execution_count": null,
      "outputs": []
    },
    {
      "cell_type": "code",
      "source": [
        "Data.drop(columns = \"BundlePath\", inplace = True) #Dropping the BundlePath Column. It is not necessary for analysis"
      ],
      "metadata": {
        "id": "30pBTt8-Gky9"
      },
      "execution_count": 23,
      "outputs": []
    },
    {
      "cell_type": "code",
      "source": [
        "bins = [0, 20, 30, 40, 50, 60, 70, 80]   #Created a new column binning the Age data \n",
        "bin_labels = [\"20 Under\", \"21-30\", \"31-40\", \"41-50\", \"51-60\", \"61-70\", \"71+\"]\n",
        "Data[\"Age\"] = pd.cut(Data[\"RTD_DRVR_AG_NB\"], bins, labels = bin_labels)"
      ],
      "metadata": {
        "id": "9M382_B8PJ4k"
      },
      "execution_count": 26,
      "outputs": []
    },
    {
      "cell_type": "code",
      "source": [
        "Data[\"RTNG_GNDR_CD\"].replace([\"M\", \"F\"], [\"Man\", \"Woman\"], inplace = True) #Relabeling Gender for easier readability "
      ],
      "metadata": {
        "id": "1pG-tm07Gk-d"
      },
      "execution_count": 41,
      "outputs": []
    },
    {
      "cell_type": "code",
      "source": [
        "Data[\"RTNG_MRTL_STS_CD\"].replace([\"S\", \"M\", \"D\"], [\"Single\", \"Married\", \"Divorced\"], inplace = True) #Relabeling Marital Status for easier readability "
      ],
      "metadata": {
        "id": "CdY5bKrVT3EK"
      },
      "execution_count": 42,
      "outputs": []
    },
    {
      "cell_type": "code",
      "source": [
        "Data.head() #All the Changes I wanted are present now"
      ],
      "metadata": {
        "colab": {
          "base_uri": "https://localhost:8080/",
          "height": 473
        },
        "id": "pM2AmXGtGlDj",
        "outputId": "e9202569-0d1a-4272-971c-63a25b04394d"
      },
      "execution_count": 43,
      "outputs": [
        {
          "output_type": "execute_result",
          "data": {
            "text/plain": [
              "          ResponseID             EndDate  Policynumber  UserID RatedState  \\\n",
              "0  R_2Yt7JuAZhlHlSVa 2021-10-01 00:00:11    6081982818  SAPINB         UT   \n",
              "1  R_1CCje1G7UcdzL8W 2021-10-01 00:00:48    6081980481  U95Q4F         GA   \n",
              "2  R_2tEAieOyFaoWQby 2021-10-01 00:02:51    6081975085  U713VY         FL   \n",
              "3  R_2PC4l4hBX2Gzk9Z 2021-10-01 00:05:52    6082034460  U951EP         UT   \n",
              "4  R_22ExdsehQovLj7Z 2021-10-01 00:07:43    6082040228  SAPINB         GA   \n",
              "\n",
              "   SatAgent  SATFlag  CovgUnderstand   LOB SOBCode  ...  CESResponse  CES  \\\n",
              "0       1.0        1             NaN  Auto  ONLINE  ...          NaN  NaN   \n",
              "1       2.0        0             NaN   GFR   PHONE  ...          NaN  NaN   \n",
              "2       1.0        1             1.0  Auto   PHONE  ...          NaN  NaN   \n",
              "3       1.0        1             1.0   GFR   PHONE  ...          NaN  2.0   \n",
              "4       2.0        0             1.0  Auto  ONLINE  ...          NaN  NaN   \n",
              "\n",
              "  Spanish  RTD_DRVR_AG_NB  RTNG_MRTL_STS_CD  RTNG_GNDR_CD  HERE_INTERVAL_1  \\\n",
              "0     0.0              35            Single           Man                1   \n",
              "1     0.0              46          Divorced         Woman                1   \n",
              "2     0.0              44            Single           Man                1   \n",
              "3     0.0              42           Married         Woman                1   \n",
              "4     0.0              36            Single         Woman                1   \n",
              "\n",
              "   HERE_INTERVAL_2  HERE_INTERVAL_3    Age  \n",
              "0                1                1  31-40  \n",
              "1                1                1  41-50  \n",
              "2                1                1  41-50  \n",
              "3                1                1  41-50  \n",
              "4                1                1  31-40  \n",
              "\n",
              "[5 rows x 28 columns]"
            ],
            "text/html": [
              "\n",
              "  <div id=\"df-776e8e63-4854-4427-b035-db918dc179a9\">\n",
              "    <div class=\"colab-df-container\">\n",
              "      <div>\n",
              "<style scoped>\n",
              "    .dataframe tbody tr th:only-of-type {\n",
              "        vertical-align: middle;\n",
              "    }\n",
              "\n",
              "    .dataframe tbody tr th {\n",
              "        vertical-align: top;\n",
              "    }\n",
              "\n",
              "    .dataframe thead th {\n",
              "        text-align: right;\n",
              "    }\n",
              "</style>\n",
              "<table border=\"1\" class=\"dataframe\">\n",
              "  <thead>\n",
              "    <tr style=\"text-align: right;\">\n",
              "      <th></th>\n",
              "      <th>ResponseID</th>\n",
              "      <th>EndDate</th>\n",
              "      <th>Policynumber</th>\n",
              "      <th>UserID</th>\n",
              "      <th>RatedState</th>\n",
              "      <th>SatAgent</th>\n",
              "      <th>SATFlag</th>\n",
              "      <th>CovgUnderstand</th>\n",
              "      <th>LOB</th>\n",
              "      <th>SOBCode</th>\n",
              "      <th>...</th>\n",
              "      <th>CESResponse</th>\n",
              "      <th>CES</th>\n",
              "      <th>Spanish</th>\n",
              "      <th>RTD_DRVR_AG_NB</th>\n",
              "      <th>RTNG_MRTL_STS_CD</th>\n",
              "      <th>RTNG_GNDR_CD</th>\n",
              "      <th>HERE_INTERVAL_1</th>\n",
              "      <th>HERE_INTERVAL_2</th>\n",
              "      <th>HERE_INTERVAL_3</th>\n",
              "      <th>Age</th>\n",
              "    </tr>\n",
              "  </thead>\n",
              "  <tbody>\n",
              "    <tr>\n",
              "      <th>0</th>\n",
              "      <td>R_2Yt7JuAZhlHlSVa</td>\n",
              "      <td>2021-10-01 00:00:11</td>\n",
              "      <td>6081982818</td>\n",
              "      <td>SAPINB</td>\n",
              "      <td>UT</td>\n",
              "      <td>1.0</td>\n",
              "      <td>1</td>\n",
              "      <td>NaN</td>\n",
              "      <td>Auto</td>\n",
              "      <td>ONLINE</td>\n",
              "      <td>...</td>\n",
              "      <td>NaN</td>\n",
              "      <td>NaN</td>\n",
              "      <td>0.0</td>\n",
              "      <td>35</td>\n",
              "      <td>Single</td>\n",
              "      <td>Man</td>\n",
              "      <td>1</td>\n",
              "      <td>1</td>\n",
              "      <td>1</td>\n",
              "      <td>31-40</td>\n",
              "    </tr>\n",
              "    <tr>\n",
              "      <th>1</th>\n",
              "      <td>R_1CCje1G7UcdzL8W</td>\n",
              "      <td>2021-10-01 00:00:48</td>\n",
              "      <td>6081980481</td>\n",
              "      <td>U95Q4F</td>\n",
              "      <td>GA</td>\n",
              "      <td>2.0</td>\n",
              "      <td>0</td>\n",
              "      <td>NaN</td>\n",
              "      <td>GFR</td>\n",
              "      <td>PHONE</td>\n",
              "      <td>...</td>\n",
              "      <td>NaN</td>\n",
              "      <td>NaN</td>\n",
              "      <td>0.0</td>\n",
              "      <td>46</td>\n",
              "      <td>Divorced</td>\n",
              "      <td>Woman</td>\n",
              "      <td>1</td>\n",
              "      <td>1</td>\n",
              "      <td>1</td>\n",
              "      <td>41-50</td>\n",
              "    </tr>\n",
              "    <tr>\n",
              "      <th>2</th>\n",
              "      <td>R_2tEAieOyFaoWQby</td>\n",
              "      <td>2021-10-01 00:02:51</td>\n",
              "      <td>6081975085</td>\n",
              "      <td>U713VY</td>\n",
              "      <td>FL</td>\n",
              "      <td>1.0</td>\n",
              "      <td>1</td>\n",
              "      <td>1.0</td>\n",
              "      <td>Auto</td>\n",
              "      <td>PHONE</td>\n",
              "      <td>...</td>\n",
              "      <td>NaN</td>\n",
              "      <td>NaN</td>\n",
              "      <td>0.0</td>\n",
              "      <td>44</td>\n",
              "      <td>Single</td>\n",
              "      <td>Man</td>\n",
              "      <td>1</td>\n",
              "      <td>1</td>\n",
              "      <td>1</td>\n",
              "      <td>41-50</td>\n",
              "    </tr>\n",
              "    <tr>\n",
              "      <th>3</th>\n",
              "      <td>R_2PC4l4hBX2Gzk9Z</td>\n",
              "      <td>2021-10-01 00:05:52</td>\n",
              "      <td>6082034460</td>\n",
              "      <td>U951EP</td>\n",
              "      <td>UT</td>\n",
              "      <td>1.0</td>\n",
              "      <td>1</td>\n",
              "      <td>1.0</td>\n",
              "      <td>GFR</td>\n",
              "      <td>PHONE</td>\n",
              "      <td>...</td>\n",
              "      <td>NaN</td>\n",
              "      <td>2.0</td>\n",
              "      <td>0.0</td>\n",
              "      <td>42</td>\n",
              "      <td>Married</td>\n",
              "      <td>Woman</td>\n",
              "      <td>1</td>\n",
              "      <td>1</td>\n",
              "      <td>1</td>\n",
              "      <td>41-50</td>\n",
              "    </tr>\n",
              "    <tr>\n",
              "      <th>4</th>\n",
              "      <td>R_22ExdsehQovLj7Z</td>\n",
              "      <td>2021-10-01 00:07:43</td>\n",
              "      <td>6082040228</td>\n",
              "      <td>SAPINB</td>\n",
              "      <td>GA</td>\n",
              "      <td>2.0</td>\n",
              "      <td>0</td>\n",
              "      <td>1.0</td>\n",
              "      <td>Auto</td>\n",
              "      <td>ONLINE</td>\n",
              "      <td>...</td>\n",
              "      <td>NaN</td>\n",
              "      <td>NaN</td>\n",
              "      <td>0.0</td>\n",
              "      <td>36</td>\n",
              "      <td>Single</td>\n",
              "      <td>Woman</td>\n",
              "      <td>1</td>\n",
              "      <td>1</td>\n",
              "      <td>1</td>\n",
              "      <td>31-40</td>\n",
              "    </tr>\n",
              "  </tbody>\n",
              "</table>\n",
              "<p>5 rows × 28 columns</p>\n",
              "</div>\n",
              "      <button class=\"colab-df-convert\" onclick=\"convertToInteractive('df-776e8e63-4854-4427-b035-db918dc179a9')\"\n",
              "              title=\"Convert this dataframe to an interactive table.\"\n",
              "              style=\"display:none;\">\n",
              "        \n",
              "  <svg xmlns=\"http://www.w3.org/2000/svg\" height=\"24px\"viewBox=\"0 0 24 24\"\n",
              "       width=\"24px\">\n",
              "    <path d=\"M0 0h24v24H0V0z\" fill=\"none\"/>\n",
              "    <path d=\"M18.56 5.44l.94 2.06.94-2.06 2.06-.94-2.06-.94-.94-2.06-.94 2.06-2.06.94zm-11 1L8.5 8.5l.94-2.06 2.06-.94-2.06-.94L8.5 2.5l-.94 2.06-2.06.94zm10 10l.94 2.06.94-2.06 2.06-.94-2.06-.94-.94-2.06-.94 2.06-2.06.94z\"/><path d=\"M17.41 7.96l-1.37-1.37c-.4-.4-.92-.59-1.43-.59-.52 0-1.04.2-1.43.59L10.3 9.45l-7.72 7.72c-.78.78-.78 2.05 0 2.83L4 21.41c.39.39.9.59 1.41.59.51 0 1.02-.2 1.41-.59l7.78-7.78 2.81-2.81c.8-.78.8-2.07 0-2.86zM5.41 20L4 18.59l7.72-7.72 1.47 1.35L5.41 20z\"/>\n",
              "  </svg>\n",
              "      </button>\n",
              "      \n",
              "  <style>\n",
              "    .colab-df-container {\n",
              "      display:flex;\n",
              "      flex-wrap:wrap;\n",
              "      gap: 12px;\n",
              "    }\n",
              "\n",
              "    .colab-df-convert {\n",
              "      background-color: #E8F0FE;\n",
              "      border: none;\n",
              "      border-radius: 50%;\n",
              "      cursor: pointer;\n",
              "      display: none;\n",
              "      fill: #1967D2;\n",
              "      height: 32px;\n",
              "      padding: 0 0 0 0;\n",
              "      width: 32px;\n",
              "    }\n",
              "\n",
              "    .colab-df-convert:hover {\n",
              "      background-color: #E2EBFA;\n",
              "      box-shadow: 0px 1px 2px rgba(60, 64, 67, 0.3), 0px 1px 3px 1px rgba(60, 64, 67, 0.15);\n",
              "      fill: #174EA6;\n",
              "    }\n",
              "\n",
              "    [theme=dark] .colab-df-convert {\n",
              "      background-color: #3B4455;\n",
              "      fill: #D2E3FC;\n",
              "    }\n",
              "\n",
              "    [theme=dark] .colab-df-convert:hover {\n",
              "      background-color: #434B5C;\n",
              "      box-shadow: 0px 1px 3px 1px rgba(0, 0, 0, 0.15);\n",
              "      filter: drop-shadow(0px 1px 2px rgba(0, 0, 0, 0.3));\n",
              "      fill: #FFFFFF;\n",
              "    }\n",
              "  </style>\n",
              "\n",
              "      <script>\n",
              "        const buttonEl =\n",
              "          document.querySelector('#df-776e8e63-4854-4427-b035-db918dc179a9 button.colab-df-convert');\n",
              "        buttonEl.style.display =\n",
              "          google.colab.kernel.accessAllowed ? 'block' : 'none';\n",
              "\n",
              "        async function convertToInteractive(key) {\n",
              "          const element = document.querySelector('#df-776e8e63-4854-4427-b035-db918dc179a9');\n",
              "          const dataTable =\n",
              "            await google.colab.kernel.invokeFunction('convertToInteractive',\n",
              "                                                     [key], {});\n",
              "          if (!dataTable) return;\n",
              "\n",
              "          const docLinkHtml = 'Like what you see? Visit the ' +\n",
              "            '<a target=\"_blank\" href=https://colab.research.google.com/notebooks/data_table.ipynb>data table notebook</a>'\n",
              "            + ' to learn more about interactive tables.';\n",
              "          element.innerHTML = '';\n",
              "          dataTable['output_type'] = 'display_data';\n",
              "          await google.colab.output.renderOutput(dataTable, element);\n",
              "          const docLink = document.createElement('div');\n",
              "          docLink.innerHTML = docLinkHtml;\n",
              "          element.appendChild(docLink);\n",
              "        }\n",
              "      </script>\n",
              "    </div>\n",
              "  </div>\n",
              "  "
            ]
          },
          "metadata": {},
          "execution_count": 43
        }
      ]
    },
    {
      "cell_type": "markdown",
      "source": [
        "## Data Exploration"
      ],
      "metadata": {
        "id": "CBuCSpz8GlZv"
      }
    },
    {
      "cell_type": "code",
      "source": [
        "Data[\"RTNG_GNDR_CD\"].value_counts()"
      ],
      "metadata": {
        "colab": {
          "base_uri": "https://localhost:8080/"
        },
        "id": "L1Q4xI7iGnyu",
        "outputId": "5c505fe3-2e09-44d4-b9e9-3deb20d676d7"
      },
      "execution_count": 30,
      "outputs": [
        {
          "output_type": "execute_result",
          "data": {
            "text/plain": [
              "Man      75040\n",
              "Woman    60090\n",
              "X           38\n",
              "Name: RTNG_GNDR_CD, dtype: int64"
            ]
          },
          "metadata": {},
          "execution_count": 30
        }
      ]
    },
    {
      "cell_type": "code",
      "source": [
        "pd.crosstab(Data[\"RTNG_GNDR_CD\"], Data[\"Spanish\"]) "
      ],
      "metadata": {
        "colab": {
          "base_uri": "https://localhost:8080/",
          "height": 175
        },
        "id": "_Yy-BPV7Rcy2",
        "outputId": "b3d6ede3-25bc-4d11-9145-08c9d0a70ed7"
      },
      "execution_count": 31,
      "outputs": [
        {
          "output_type": "execute_result",
          "data": {
            "text/plain": [
              "Spanish         0.0   1.0\n",
              "RTNG_GNDR_CD             \n",
              "Man           72641  2399\n",
              "Woman         58667  1423\n",
              "X                38     0"
            ],
            "text/html": [
              "\n",
              "  <div id=\"df-3f1bce1a-33d0-4a6c-a97d-5555022e0625\">\n",
              "    <div class=\"colab-df-container\">\n",
              "      <div>\n",
              "<style scoped>\n",
              "    .dataframe tbody tr th:only-of-type {\n",
              "        vertical-align: middle;\n",
              "    }\n",
              "\n",
              "    .dataframe tbody tr th {\n",
              "        vertical-align: top;\n",
              "    }\n",
              "\n",
              "    .dataframe thead th {\n",
              "        text-align: right;\n",
              "    }\n",
              "</style>\n",
              "<table border=\"1\" class=\"dataframe\">\n",
              "  <thead>\n",
              "    <tr style=\"text-align: right;\">\n",
              "      <th>Spanish</th>\n",
              "      <th>0.0</th>\n",
              "      <th>1.0</th>\n",
              "    </tr>\n",
              "    <tr>\n",
              "      <th>RTNG_GNDR_CD</th>\n",
              "      <th></th>\n",
              "      <th></th>\n",
              "    </tr>\n",
              "  </thead>\n",
              "  <tbody>\n",
              "    <tr>\n",
              "      <th>Man</th>\n",
              "      <td>72641</td>\n",
              "      <td>2399</td>\n",
              "    </tr>\n",
              "    <tr>\n",
              "      <th>Woman</th>\n",
              "      <td>58667</td>\n",
              "      <td>1423</td>\n",
              "    </tr>\n",
              "    <tr>\n",
              "      <th>X</th>\n",
              "      <td>38</td>\n",
              "      <td>0</td>\n",
              "    </tr>\n",
              "  </tbody>\n",
              "</table>\n",
              "</div>\n",
              "      <button class=\"colab-df-convert\" onclick=\"convertToInteractive('df-3f1bce1a-33d0-4a6c-a97d-5555022e0625')\"\n",
              "              title=\"Convert this dataframe to an interactive table.\"\n",
              "              style=\"display:none;\">\n",
              "        \n",
              "  <svg xmlns=\"http://www.w3.org/2000/svg\" height=\"24px\"viewBox=\"0 0 24 24\"\n",
              "       width=\"24px\">\n",
              "    <path d=\"M0 0h24v24H0V0z\" fill=\"none\"/>\n",
              "    <path d=\"M18.56 5.44l.94 2.06.94-2.06 2.06-.94-2.06-.94-.94-2.06-.94 2.06-2.06.94zm-11 1L8.5 8.5l.94-2.06 2.06-.94-2.06-.94L8.5 2.5l-.94 2.06-2.06.94zm10 10l.94 2.06.94-2.06 2.06-.94-2.06-.94-.94-2.06-.94 2.06-2.06.94z\"/><path d=\"M17.41 7.96l-1.37-1.37c-.4-.4-.92-.59-1.43-.59-.52 0-1.04.2-1.43.59L10.3 9.45l-7.72 7.72c-.78.78-.78 2.05 0 2.83L4 21.41c.39.39.9.59 1.41.59.51 0 1.02-.2 1.41-.59l7.78-7.78 2.81-2.81c.8-.78.8-2.07 0-2.86zM5.41 20L4 18.59l7.72-7.72 1.47 1.35L5.41 20z\"/>\n",
              "  </svg>\n",
              "      </button>\n",
              "      \n",
              "  <style>\n",
              "    .colab-df-container {\n",
              "      display:flex;\n",
              "      flex-wrap:wrap;\n",
              "      gap: 12px;\n",
              "    }\n",
              "\n",
              "    .colab-df-convert {\n",
              "      background-color: #E8F0FE;\n",
              "      border: none;\n",
              "      border-radius: 50%;\n",
              "      cursor: pointer;\n",
              "      display: none;\n",
              "      fill: #1967D2;\n",
              "      height: 32px;\n",
              "      padding: 0 0 0 0;\n",
              "      width: 32px;\n",
              "    }\n",
              "\n",
              "    .colab-df-convert:hover {\n",
              "      background-color: #E2EBFA;\n",
              "      box-shadow: 0px 1px 2px rgba(60, 64, 67, 0.3), 0px 1px 3px 1px rgba(60, 64, 67, 0.15);\n",
              "      fill: #174EA6;\n",
              "    }\n",
              "\n",
              "    [theme=dark] .colab-df-convert {\n",
              "      background-color: #3B4455;\n",
              "      fill: #D2E3FC;\n",
              "    }\n",
              "\n",
              "    [theme=dark] .colab-df-convert:hover {\n",
              "      background-color: #434B5C;\n",
              "      box-shadow: 0px 1px 3px 1px rgba(0, 0, 0, 0.15);\n",
              "      filter: drop-shadow(0px 1px 2px rgba(0, 0, 0, 0.3));\n",
              "      fill: #FFFFFF;\n",
              "    }\n",
              "  </style>\n",
              "\n",
              "      <script>\n",
              "        const buttonEl =\n",
              "          document.querySelector('#df-3f1bce1a-33d0-4a6c-a97d-5555022e0625 button.colab-df-convert');\n",
              "        buttonEl.style.display =\n",
              "          google.colab.kernel.accessAllowed ? 'block' : 'none';\n",
              "\n",
              "        async function convertToInteractive(key) {\n",
              "          const element = document.querySelector('#df-3f1bce1a-33d0-4a6c-a97d-5555022e0625');\n",
              "          const dataTable =\n",
              "            await google.colab.kernel.invokeFunction('convertToInteractive',\n",
              "                                                     [key], {});\n",
              "          if (!dataTable) return;\n",
              "\n",
              "          const docLinkHtml = 'Like what you see? Visit the ' +\n",
              "            '<a target=\"_blank\" href=https://colab.research.google.com/notebooks/data_table.ipynb>data table notebook</a>'\n",
              "            + ' to learn more about interactive tables.';\n",
              "          element.innerHTML = '';\n",
              "          dataTable['output_type'] = 'display_data';\n",
              "          await google.colab.output.renderOutput(dataTable, element);\n",
              "          const docLink = document.createElement('div');\n",
              "          docLink.innerHTML = docLinkHtml;\n",
              "          element.appendChild(docLink);\n",
              "        }\n",
              "      </script>\n",
              "    </div>\n",
              "  </div>\n",
              "  "
            ]
          },
          "metadata": {},
          "execution_count": 31
        }
      ]
    },
    {
      "cell_type": "code",
      "source": [
        "pd.crosstab(Data[\"SatAgent\"], Data[\"Spanish\"], margins=False, normalize= True)"
      ],
      "metadata": {
        "colab": {
          "base_uri": "https://localhost:8080/",
          "height": 238
        },
        "id": "T5FklJGoRc1T",
        "outputId": "d7061173-b836-45b3-bdd2-5d54cb647d2e"
      },
      "execution_count": 36,
      "outputs": [
        {
          "output_type": "execute_result",
          "data": {
            "text/plain": [
              "Spanish        0.0       1.0\n",
              "SatAgent                    \n",
              "1.0       0.696472  0.024981\n",
              "2.0       0.171842  0.004568\n",
              "3.0       0.056785  0.001264\n",
              "4.0       0.021767  0.000553\n",
              "5.0       0.021561  0.000207"
            ],
            "text/html": [
              "\n",
              "  <div id=\"df-2ccef266-efaf-4e05-bf55-69400bcaf0bb\">\n",
              "    <div class=\"colab-df-container\">\n",
              "      <div>\n",
              "<style scoped>\n",
              "    .dataframe tbody tr th:only-of-type {\n",
              "        vertical-align: middle;\n",
              "    }\n",
              "\n",
              "    .dataframe tbody tr th {\n",
              "        vertical-align: top;\n",
              "    }\n",
              "\n",
              "    .dataframe thead th {\n",
              "        text-align: right;\n",
              "    }\n",
              "</style>\n",
              "<table border=\"1\" class=\"dataframe\">\n",
              "  <thead>\n",
              "    <tr style=\"text-align: right;\">\n",
              "      <th>Spanish</th>\n",
              "      <th>0.0</th>\n",
              "      <th>1.0</th>\n",
              "    </tr>\n",
              "    <tr>\n",
              "      <th>SatAgent</th>\n",
              "      <th></th>\n",
              "      <th></th>\n",
              "    </tr>\n",
              "  </thead>\n",
              "  <tbody>\n",
              "    <tr>\n",
              "      <th>1.0</th>\n",
              "      <td>0.696472</td>\n",
              "      <td>0.024981</td>\n",
              "    </tr>\n",
              "    <tr>\n",
              "      <th>2.0</th>\n",
              "      <td>0.171842</td>\n",
              "      <td>0.004568</td>\n",
              "    </tr>\n",
              "    <tr>\n",
              "      <th>3.0</th>\n",
              "      <td>0.056785</td>\n",
              "      <td>0.001264</td>\n",
              "    </tr>\n",
              "    <tr>\n",
              "      <th>4.0</th>\n",
              "      <td>0.021767</td>\n",
              "      <td>0.000553</td>\n",
              "    </tr>\n",
              "    <tr>\n",
              "      <th>5.0</th>\n",
              "      <td>0.021561</td>\n",
              "      <td>0.000207</td>\n",
              "    </tr>\n",
              "  </tbody>\n",
              "</table>\n",
              "</div>\n",
              "      <button class=\"colab-df-convert\" onclick=\"convertToInteractive('df-2ccef266-efaf-4e05-bf55-69400bcaf0bb')\"\n",
              "              title=\"Convert this dataframe to an interactive table.\"\n",
              "              style=\"display:none;\">\n",
              "        \n",
              "  <svg xmlns=\"http://www.w3.org/2000/svg\" height=\"24px\"viewBox=\"0 0 24 24\"\n",
              "       width=\"24px\">\n",
              "    <path d=\"M0 0h24v24H0V0z\" fill=\"none\"/>\n",
              "    <path d=\"M18.56 5.44l.94 2.06.94-2.06 2.06-.94-2.06-.94-.94-2.06-.94 2.06-2.06.94zm-11 1L8.5 8.5l.94-2.06 2.06-.94-2.06-.94L8.5 2.5l-.94 2.06-2.06.94zm10 10l.94 2.06.94-2.06 2.06-.94-2.06-.94-.94-2.06-.94 2.06-2.06.94z\"/><path d=\"M17.41 7.96l-1.37-1.37c-.4-.4-.92-.59-1.43-.59-.52 0-1.04.2-1.43.59L10.3 9.45l-7.72 7.72c-.78.78-.78 2.05 0 2.83L4 21.41c.39.39.9.59 1.41.59.51 0 1.02-.2 1.41-.59l7.78-7.78 2.81-2.81c.8-.78.8-2.07 0-2.86zM5.41 20L4 18.59l7.72-7.72 1.47 1.35L5.41 20z\"/>\n",
              "  </svg>\n",
              "      </button>\n",
              "      \n",
              "  <style>\n",
              "    .colab-df-container {\n",
              "      display:flex;\n",
              "      flex-wrap:wrap;\n",
              "      gap: 12px;\n",
              "    }\n",
              "\n",
              "    .colab-df-convert {\n",
              "      background-color: #E8F0FE;\n",
              "      border: none;\n",
              "      border-radius: 50%;\n",
              "      cursor: pointer;\n",
              "      display: none;\n",
              "      fill: #1967D2;\n",
              "      height: 32px;\n",
              "      padding: 0 0 0 0;\n",
              "      width: 32px;\n",
              "    }\n",
              "\n",
              "    .colab-df-convert:hover {\n",
              "      background-color: #E2EBFA;\n",
              "      box-shadow: 0px 1px 2px rgba(60, 64, 67, 0.3), 0px 1px 3px 1px rgba(60, 64, 67, 0.15);\n",
              "      fill: #174EA6;\n",
              "    }\n",
              "\n",
              "    [theme=dark] .colab-df-convert {\n",
              "      background-color: #3B4455;\n",
              "      fill: #D2E3FC;\n",
              "    }\n",
              "\n",
              "    [theme=dark] .colab-df-convert:hover {\n",
              "      background-color: #434B5C;\n",
              "      box-shadow: 0px 1px 3px 1px rgba(0, 0, 0, 0.15);\n",
              "      filter: drop-shadow(0px 1px 2px rgba(0, 0, 0, 0.3));\n",
              "      fill: #FFFFFF;\n",
              "    }\n",
              "  </style>\n",
              "\n",
              "      <script>\n",
              "        const buttonEl =\n",
              "          document.querySelector('#df-2ccef266-efaf-4e05-bf55-69400bcaf0bb button.colab-df-convert');\n",
              "        buttonEl.style.display =\n",
              "          google.colab.kernel.accessAllowed ? 'block' : 'none';\n",
              "\n",
              "        async function convertToInteractive(key) {\n",
              "          const element = document.querySelector('#df-2ccef266-efaf-4e05-bf55-69400bcaf0bb');\n",
              "          const dataTable =\n",
              "            await google.colab.kernel.invokeFunction('convertToInteractive',\n",
              "                                                     [key], {});\n",
              "          if (!dataTable) return;\n",
              "\n",
              "          const docLinkHtml = 'Like what you see? Visit the ' +\n",
              "            '<a target=\"_blank\" href=https://colab.research.google.com/notebooks/data_table.ipynb>data table notebook</a>'\n",
              "            + ' to learn more about interactive tables.';\n",
              "          element.innerHTML = '';\n",
              "          dataTable['output_type'] = 'display_data';\n",
              "          await google.colab.output.renderOutput(dataTable, element);\n",
              "          const docLink = document.createElement('div');\n",
              "          docLink.innerHTML = docLinkHtml;\n",
              "          element.appendChild(docLink);\n",
              "        }\n",
              "      </script>\n",
              "    </div>\n",
              "  </div>\n",
              "  "
            ]
          },
          "metadata": {},
          "execution_count": 36
        }
      ]
    },
    {
      "cell_type": "code",
      "source": [
        "pd.crosstab(Data[\"SatAgent\"], Data[\"LOB\"])"
      ],
      "metadata": {
        "colab": {
          "base_uri": "https://localhost:8080/",
          "height": 238
        },
        "id": "izWR6jtZRc3n",
        "outputId": "5353268a-d26f-48d6-e996-8f443e272912"
      },
      "execution_count": 37,
      "outputs": [
        {
          "output_type": "execute_result",
          "data": {
            "text/plain": [
              "LOB        Auto  Cycle    GFR\n",
              "SatAgent                     \n",
              "1.0       55094   5292  26948\n",
              "2.0       13942   1190   6223\n",
              "3.0        4749    406   1872\n",
              "4.0        1931    129    642\n",
              "5.0        1971    115    549"
            ],
            "text/html": [
              "\n",
              "  <div id=\"df-42b3ea7a-a63e-4369-b0b3-bd9c52f9630f\">\n",
              "    <div class=\"colab-df-container\">\n",
              "      <div>\n",
              "<style scoped>\n",
              "    .dataframe tbody tr th:only-of-type {\n",
              "        vertical-align: middle;\n",
              "    }\n",
              "\n",
              "    .dataframe tbody tr th {\n",
              "        vertical-align: top;\n",
              "    }\n",
              "\n",
              "    .dataframe thead th {\n",
              "        text-align: right;\n",
              "    }\n",
              "</style>\n",
              "<table border=\"1\" class=\"dataframe\">\n",
              "  <thead>\n",
              "    <tr style=\"text-align: right;\">\n",
              "      <th>LOB</th>\n",
              "      <th>Auto</th>\n",
              "      <th>Cycle</th>\n",
              "      <th>GFR</th>\n",
              "    </tr>\n",
              "    <tr>\n",
              "      <th>SatAgent</th>\n",
              "      <th></th>\n",
              "      <th></th>\n",
              "      <th></th>\n",
              "    </tr>\n",
              "  </thead>\n",
              "  <tbody>\n",
              "    <tr>\n",
              "      <th>1.0</th>\n",
              "      <td>55094</td>\n",
              "      <td>5292</td>\n",
              "      <td>26948</td>\n",
              "    </tr>\n",
              "    <tr>\n",
              "      <th>2.0</th>\n",
              "      <td>13942</td>\n",
              "      <td>1190</td>\n",
              "      <td>6223</td>\n",
              "    </tr>\n",
              "    <tr>\n",
              "      <th>3.0</th>\n",
              "      <td>4749</td>\n",
              "      <td>406</td>\n",
              "      <td>1872</td>\n",
              "    </tr>\n",
              "    <tr>\n",
              "      <th>4.0</th>\n",
              "      <td>1931</td>\n",
              "      <td>129</td>\n",
              "      <td>642</td>\n",
              "    </tr>\n",
              "    <tr>\n",
              "      <th>5.0</th>\n",
              "      <td>1971</td>\n",
              "      <td>115</td>\n",
              "      <td>549</td>\n",
              "    </tr>\n",
              "  </tbody>\n",
              "</table>\n",
              "</div>\n",
              "      <button class=\"colab-df-convert\" onclick=\"convertToInteractive('df-42b3ea7a-a63e-4369-b0b3-bd9c52f9630f')\"\n",
              "              title=\"Convert this dataframe to an interactive table.\"\n",
              "              style=\"display:none;\">\n",
              "        \n",
              "  <svg xmlns=\"http://www.w3.org/2000/svg\" height=\"24px\"viewBox=\"0 0 24 24\"\n",
              "       width=\"24px\">\n",
              "    <path d=\"M0 0h24v24H0V0z\" fill=\"none\"/>\n",
              "    <path d=\"M18.56 5.44l.94 2.06.94-2.06 2.06-.94-2.06-.94-.94-2.06-.94 2.06-2.06.94zm-11 1L8.5 8.5l.94-2.06 2.06-.94-2.06-.94L8.5 2.5l-.94 2.06-2.06.94zm10 10l.94 2.06.94-2.06 2.06-.94-2.06-.94-.94-2.06-.94 2.06-2.06.94z\"/><path d=\"M17.41 7.96l-1.37-1.37c-.4-.4-.92-.59-1.43-.59-.52 0-1.04.2-1.43.59L10.3 9.45l-7.72 7.72c-.78.78-.78 2.05 0 2.83L4 21.41c.39.39.9.59 1.41.59.51 0 1.02-.2 1.41-.59l7.78-7.78 2.81-2.81c.8-.78.8-2.07 0-2.86zM5.41 20L4 18.59l7.72-7.72 1.47 1.35L5.41 20z\"/>\n",
              "  </svg>\n",
              "      </button>\n",
              "      \n",
              "  <style>\n",
              "    .colab-df-container {\n",
              "      display:flex;\n",
              "      flex-wrap:wrap;\n",
              "      gap: 12px;\n",
              "    }\n",
              "\n",
              "    .colab-df-convert {\n",
              "      background-color: #E8F0FE;\n",
              "      border: none;\n",
              "      border-radius: 50%;\n",
              "      cursor: pointer;\n",
              "      display: none;\n",
              "      fill: #1967D2;\n",
              "      height: 32px;\n",
              "      padding: 0 0 0 0;\n",
              "      width: 32px;\n",
              "    }\n",
              "\n",
              "    .colab-df-convert:hover {\n",
              "      background-color: #E2EBFA;\n",
              "      box-shadow: 0px 1px 2px rgba(60, 64, 67, 0.3), 0px 1px 3px 1px rgba(60, 64, 67, 0.15);\n",
              "      fill: #174EA6;\n",
              "    }\n",
              "\n",
              "    [theme=dark] .colab-df-convert {\n",
              "      background-color: #3B4455;\n",
              "      fill: #D2E3FC;\n",
              "    }\n",
              "\n",
              "    [theme=dark] .colab-df-convert:hover {\n",
              "      background-color: #434B5C;\n",
              "      box-shadow: 0px 1px 3px 1px rgba(0, 0, 0, 0.15);\n",
              "      filter: drop-shadow(0px 1px 2px rgba(0, 0, 0, 0.3));\n",
              "      fill: #FFFFFF;\n",
              "    }\n",
              "  </style>\n",
              "\n",
              "      <script>\n",
              "        const buttonEl =\n",
              "          document.querySelector('#df-42b3ea7a-a63e-4369-b0b3-bd9c52f9630f button.colab-df-convert');\n",
              "        buttonEl.style.display =\n",
              "          google.colab.kernel.accessAllowed ? 'block' : 'none';\n",
              "\n",
              "        async function convertToInteractive(key) {\n",
              "          const element = document.querySelector('#df-42b3ea7a-a63e-4369-b0b3-bd9c52f9630f');\n",
              "          const dataTable =\n",
              "            await google.colab.kernel.invokeFunction('convertToInteractive',\n",
              "                                                     [key], {});\n",
              "          if (!dataTable) return;\n",
              "\n",
              "          const docLinkHtml = 'Like what you see? Visit the ' +\n",
              "            '<a target=\"_blank\" href=https://colab.research.google.com/notebooks/data_table.ipynb>data table notebook</a>'\n",
              "            + ' to learn more about interactive tables.';\n",
              "          element.innerHTML = '';\n",
              "          dataTable['output_type'] = 'display_data';\n",
              "          await google.colab.output.renderOutput(dataTable, element);\n",
              "          const docLink = document.createElement('div');\n",
              "          docLink.innerHTML = docLinkHtml;\n",
              "          element.appendChild(docLink);\n",
              "        }\n",
              "      </script>\n",
              "    </div>\n",
              "  </div>\n",
              "  "
            ]
          },
          "metadata": {},
          "execution_count": 37
        }
      ]
    },
    {
      "cell_type": "code",
      "source": [
        "pd.crosstab(Data[\"SatAgent\"], Data[\"SOBCode\"])"
      ],
      "metadata": {
        "colab": {
          "base_uri": "https://localhost:8080/",
          "height": 238
        },
        "id": "8Up5AeZoRc55",
        "outputId": "2d27ca20-fdf6-4c5f-e0b4-5abb775a60f3"
      },
      "execution_count": 38,
      "outputs": [
        {
          "output_type": "execute_result",
          "data": {
            "text/plain": [
              "SOBCode   ONLINE  PHONE\n",
              "SatAgent               \n",
              "1.0        14295  73039\n",
              "2.0         5007  16348\n",
              "3.0         1860   5167\n",
              "4.0          851   1851\n",
              "5.0          751   1884"
            ],
            "text/html": [
              "\n",
              "  <div id=\"df-6e46b05f-f6f6-45f7-ad5c-2ded04515135\">\n",
              "    <div class=\"colab-df-container\">\n",
              "      <div>\n",
              "<style scoped>\n",
              "    .dataframe tbody tr th:only-of-type {\n",
              "        vertical-align: middle;\n",
              "    }\n",
              "\n",
              "    .dataframe tbody tr th {\n",
              "        vertical-align: top;\n",
              "    }\n",
              "\n",
              "    .dataframe thead th {\n",
              "        text-align: right;\n",
              "    }\n",
              "</style>\n",
              "<table border=\"1\" class=\"dataframe\">\n",
              "  <thead>\n",
              "    <tr style=\"text-align: right;\">\n",
              "      <th>SOBCode</th>\n",
              "      <th>ONLINE</th>\n",
              "      <th>PHONE</th>\n",
              "    </tr>\n",
              "    <tr>\n",
              "      <th>SatAgent</th>\n",
              "      <th></th>\n",
              "      <th></th>\n",
              "    </tr>\n",
              "  </thead>\n",
              "  <tbody>\n",
              "    <tr>\n",
              "      <th>1.0</th>\n",
              "      <td>14295</td>\n",
              "      <td>73039</td>\n",
              "    </tr>\n",
              "    <tr>\n",
              "      <th>2.0</th>\n",
              "      <td>5007</td>\n",
              "      <td>16348</td>\n",
              "    </tr>\n",
              "    <tr>\n",
              "      <th>3.0</th>\n",
              "      <td>1860</td>\n",
              "      <td>5167</td>\n",
              "    </tr>\n",
              "    <tr>\n",
              "      <th>4.0</th>\n",
              "      <td>851</td>\n",
              "      <td>1851</td>\n",
              "    </tr>\n",
              "    <tr>\n",
              "      <th>5.0</th>\n",
              "      <td>751</td>\n",
              "      <td>1884</td>\n",
              "    </tr>\n",
              "  </tbody>\n",
              "</table>\n",
              "</div>\n",
              "      <button class=\"colab-df-convert\" onclick=\"convertToInteractive('df-6e46b05f-f6f6-45f7-ad5c-2ded04515135')\"\n",
              "              title=\"Convert this dataframe to an interactive table.\"\n",
              "              style=\"display:none;\">\n",
              "        \n",
              "  <svg xmlns=\"http://www.w3.org/2000/svg\" height=\"24px\"viewBox=\"0 0 24 24\"\n",
              "       width=\"24px\">\n",
              "    <path d=\"M0 0h24v24H0V0z\" fill=\"none\"/>\n",
              "    <path d=\"M18.56 5.44l.94 2.06.94-2.06 2.06-.94-2.06-.94-.94-2.06-.94 2.06-2.06.94zm-11 1L8.5 8.5l.94-2.06 2.06-.94-2.06-.94L8.5 2.5l-.94 2.06-2.06.94zm10 10l.94 2.06.94-2.06 2.06-.94-2.06-.94-.94-2.06-.94 2.06-2.06.94z\"/><path d=\"M17.41 7.96l-1.37-1.37c-.4-.4-.92-.59-1.43-.59-.52 0-1.04.2-1.43.59L10.3 9.45l-7.72 7.72c-.78.78-.78 2.05 0 2.83L4 21.41c.39.39.9.59 1.41.59.51 0 1.02-.2 1.41-.59l7.78-7.78 2.81-2.81c.8-.78.8-2.07 0-2.86zM5.41 20L4 18.59l7.72-7.72 1.47 1.35L5.41 20z\"/>\n",
              "  </svg>\n",
              "      </button>\n",
              "      \n",
              "  <style>\n",
              "    .colab-df-container {\n",
              "      display:flex;\n",
              "      flex-wrap:wrap;\n",
              "      gap: 12px;\n",
              "    }\n",
              "\n",
              "    .colab-df-convert {\n",
              "      background-color: #E8F0FE;\n",
              "      border: none;\n",
              "      border-radius: 50%;\n",
              "      cursor: pointer;\n",
              "      display: none;\n",
              "      fill: #1967D2;\n",
              "      height: 32px;\n",
              "      padding: 0 0 0 0;\n",
              "      width: 32px;\n",
              "    }\n",
              "\n",
              "    .colab-df-convert:hover {\n",
              "      background-color: #E2EBFA;\n",
              "      box-shadow: 0px 1px 2px rgba(60, 64, 67, 0.3), 0px 1px 3px 1px rgba(60, 64, 67, 0.15);\n",
              "      fill: #174EA6;\n",
              "    }\n",
              "\n",
              "    [theme=dark] .colab-df-convert {\n",
              "      background-color: #3B4455;\n",
              "      fill: #D2E3FC;\n",
              "    }\n",
              "\n",
              "    [theme=dark] .colab-df-convert:hover {\n",
              "      background-color: #434B5C;\n",
              "      box-shadow: 0px 1px 3px 1px rgba(0, 0, 0, 0.15);\n",
              "      filter: drop-shadow(0px 1px 2px rgba(0, 0, 0, 0.3));\n",
              "      fill: #FFFFFF;\n",
              "    }\n",
              "  </style>\n",
              "\n",
              "      <script>\n",
              "        const buttonEl =\n",
              "          document.querySelector('#df-6e46b05f-f6f6-45f7-ad5c-2ded04515135 button.colab-df-convert');\n",
              "        buttonEl.style.display =\n",
              "          google.colab.kernel.accessAllowed ? 'block' : 'none';\n",
              "\n",
              "        async function convertToInteractive(key) {\n",
              "          const element = document.querySelector('#df-6e46b05f-f6f6-45f7-ad5c-2ded04515135');\n",
              "          const dataTable =\n",
              "            await google.colab.kernel.invokeFunction('convertToInteractive',\n",
              "                                                     [key], {});\n",
              "          if (!dataTable) return;\n",
              "\n",
              "          const docLinkHtml = 'Like what you see? Visit the ' +\n",
              "            '<a target=\"_blank\" href=https://colab.research.google.com/notebooks/data_table.ipynb>data table notebook</a>'\n",
              "            + ' to learn more about interactive tables.';\n",
              "          element.innerHTML = '';\n",
              "          dataTable['output_type'] = 'display_data';\n",
              "          await google.colab.output.renderOutput(dataTable, element);\n",
              "          const docLink = document.createElement('div');\n",
              "          docLink.innerHTML = docLinkHtml;\n",
              "          element.appendChild(docLink);\n",
              "        }\n",
              "      </script>\n",
              "    </div>\n",
              "  </div>\n",
              "  "
            ]
          },
          "metadata": {},
          "execution_count": 38
        }
      ]
    },
    {
      "cell_type": "code",
      "source": [
        "Data[\"HERE_INTERVAL_1\"].groupby(Data[\"Age\"]).mean() #This is an retention measure after 30 days, by age group "
      ],
      "metadata": {
        "colab": {
          "base_uri": "https://localhost:8080/"
        },
        "id": "7GZ_HYF3ULEl",
        "outputId": "4ce455d8-bc29-4fec-bd80-adfd34b1d838"
      },
      "execution_count": 44,
      "outputs": [
        {
          "output_type": "execute_result",
          "data": {
            "text/plain": [
              "Age\n",
              "20 Under    0.937054\n",
              "21-30       0.953434\n",
              "31-40       0.956504\n",
              "41-50       0.958432\n",
              "51-60       0.954023\n",
              "61-70       0.941170\n",
              "71+         0.931058\n",
              "Name: HERE_INTERVAL_1, dtype: float64"
            ]
          },
          "metadata": {},
          "execution_count": 44
        }
      ]
    },
    {
      "cell_type": "markdown",
      "source": [
        "## Graphs"
      ],
      "metadata": {
        "id": "iMUcjZ4IU29C"
      }
    },
    {
      "cell_type": "code",
      "source": [
        "from matplotlib import pyplot as plt\n",
        "%matplotlib inline\n",
        "\n",
        "import seaborn as sns"
      ],
      "metadata": {
        "id": "AwGwUbWOUu3K"
      },
      "execution_count": 47,
      "outputs": []
    },
    {
      "cell_type": "code",
      "source": [
        "print(Data[\"SatAgent\"].value_counts())\n",
        "\n",
        "sns.countplot(data = Data, x = \"SatAgent\")"
      ],
      "metadata": {
        "colab": {
          "base_uri": "https://localhost:8080/",
          "height": 401
        },
        "id": "fhUIE9C9UvxK",
        "outputId": "53885a9c-731b-4bec-b9c3-2f02fa28e59a"
      },
      "execution_count": 48,
      "outputs": [
        {
          "output_type": "stream",
          "name": "stdout",
          "text": [
            "1.0    87334\n",
            "2.0    21355\n",
            "3.0     7027\n",
            "4.0     2702\n",
            "5.0     2635\n",
            "Name: SatAgent, dtype: int64\n"
          ]
        },
        {
          "output_type": "execute_result",
          "data": {
            "text/plain": [
              "<matplotlib.axes._subplots.AxesSubplot at 0x7f32f3ccf5d0>"
            ]
          },
          "metadata": {},
          "execution_count": 48
        },
        {
          "output_type": "display_data",
          "data": {
            "text/plain": [
              "<Figure size 432x288 with 1 Axes>"
            ],
            "image/png": "[encoded data removed]"
          },
          "metadata": {
            "needs_background": "light"
          }
        }
      ]
    },
    {
      "cell_type": "code",
      "source": [
        "print(Data[\"CES\"].value_counts())\n",
        "\n",
        "sns.countplot(data = Data, x = \"CES\")"
      ],
      "metadata": {
        "colab": {
          "base_uri": "https://localhost:8080/",
          "height": 418
        },
        "id": "-Y4jWX6ZU8Re",
        "outputId": "17a4f901-a3de-41e8-a3f0-78d51c031bd2"
      },
      "execution_count": 49,
      "outputs": [
        {
          "output_type": "stream",
          "name": "stdout",
          "text": [
            "1.0    43918\n",
            "2.0    18446\n",
            "3.0     2222\n",
            "6.0      601\n",
            "4.0      504\n",
            "5.0      369\n",
            "Name: CES, dtype: int64\n"
          ]
        },
        {
          "output_type": "execute_result",
          "data": {
            "text/plain": [
              "<matplotlib.axes._subplots.AxesSubplot at 0x7f32f3e9dd90>"
            ]
          },
          "metadata": {},
          "execution_count": 49
        },
        {
          "output_type": "display_data",
          "data": {
            "text/plain": [
              "<Figure size 432x288 with 1 Axes>"
            ],
            "image/png": "[encoded data removed]"
          },
          "metadata": {
            "needs_background": "light"
          }
        }
      ]
    },
    {
      "cell_type": "code",
      "source": [
        "print(Data[\"Age\"].value_counts())\n",
        "\n",
        "sns.countplot(data = Data, x = \"Age\")"
      ],
      "metadata": {
        "colab": {
          "base_uri": "https://localhost:8080/",
          "height": 435
        },
        "id": "r5Dox-plVEUs",
        "outputId": "f610a1ae-6974-420e-eb3d-217fca1a8633"
      },
      "execution_count": 50,
      "outputs": [
        {
          "output_type": "stream",
          "name": "stdout",
          "text": [
            "31-40       26738\n",
            "21-30       25448\n",
            "41-50       24803\n",
            "51-60       24099\n",
            "61-70       19072\n",
            "71+          8703\n",
            "20 Under     4067\n",
            "Name: Age, dtype: int64\n"
          ]
        },
        {
          "output_type": "execute_result",
          "data": {
            "text/plain": [
              "<matplotlib.axes._subplots.AxesSubplot at 0x7f32f6f7fa50>"
            ]
          },
          "metadata": {},
          "execution_count": 50
        },
        {
          "output_type": "display_data",
          "data": {
            "text/plain": [
              "<Figure size 432x288 with 1 Axes>"
            ],
            "image/png": "[encoded data removed]"
          },
          "metadata": {
            "needs_background": "light"
          }
        }
      ]
    },
    {
      "cell_type": "code",
      "source": [
        "plt.figure(figsize=(20,10))\n",
        "\n",
        "sns.countplot(data = Data, x = \"LOB\", hue = \"SatAgent\")\n",
        "\n",
        "plt.xticks(rotation = -45)\n",
        "plt.title('SAT by Line of Business')"
      ],
      "metadata": {
        "colab": {
          "base_uri": "https://localhost:8080/",
          "height": 655
        },
        "id": "y27cp1doVVMr",
        "outputId": "896017f4-e3c7-4c45-c78a-a4550fe4ff9e"
      },
      "execution_count": 51,
      "outputs": [
        {
          "output_type": "execute_result",
          "data": {
            "text/plain": [
              "Text(0.5, 1.0, 'SAT by Line of Business')"
            ]
          },
          "metadata": {},
          "execution_count": 51
        },
        {
          "output_type": "display_data",
          "data": {
            "text/plain": [
              "<Figure size 1440x720 with 1 Axes>"
            ],
            "image/png": "[encoded data removed]"
          },
          "metadata": {
            "needs_background": "light"
          }
        }
      ]
    },
    {
      "cell_type": "markdown",
      "source": [
        "## Exporting the Data "
      ],
      "metadata": {
        "id": "2-hV11hCXgpg"
      }
    },
    {
      "cell_type": "code",
      "source": [
        "Data.to_excel(\"Purchase2022_FinalData.xlsx\")"
      ],
      "metadata": {
        "id": "UbA_3C9oWXbs"
      },
      "execution_count": 53,
      "outputs": []
    }
  ]
}