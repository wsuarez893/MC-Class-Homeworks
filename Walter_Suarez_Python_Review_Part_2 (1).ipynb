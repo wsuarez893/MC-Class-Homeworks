{
  "cells": [
    {
      "cell_type": "markdown",
      "id": "d50a2161",
      "metadata": {
        "id": "d50a2161"
      },
      "source": [
        "# Python Review #2\n",
        "\n",
        "Using what you learned in the modules, answer the questions below. Take your time and use all the information in the modules as your guide and resource. This isn't about memorization - this is about practicing skills! Good Luck!"
      ]
    },
    {
      "cell_type": "markdown",
      "id": "e637bcf4",
      "metadata": {
        "id": "e637bcf4"
      },
      "source": [
        "## Module 4 Review"
      ]
    },
    {
      "cell_type": "markdown",
      "id": "98001a9c",
      "metadata": {
        "id": "98001a9c"
      },
      "source": [
        "#### REMOVING VALUES FROM LIST\n",
        "\n",
        "Lists are changeable, which means you can remove values to a list after you have defined the list initially. \n",
        "\n",
        "The .pop() function will remove a single item from your list. This function allows you to only remove a single value at a time. You have the option to provide the function with the index-position of where the item you want to remove is located. However, if you don't specify a specific index, the function will automatically remove the last item from the list. To use the function, see an example below:\n",
        "\n",
        "    list_name.pop( index_of_item_to_remove )\n",
        "    \n",
        "    colors.pop(3)\n",
        "    \n",
        "The .remove() function will remove a specific item from a list (you provide the item label/value and the function will search and remove that specific item). If an item/value is repeated within your list, this function will only remove the first instance. To use the function, see an example below:\n",
        "\n",
        "    list_name.remove( item_to_remove )\n",
        "    \n",
        "    colors.remove(\"green-3\")\n",
        "    \n",
        "1. Create a list of shapes below. This list should have at least 3 values. Print the list. \n",
        "2. Use the pop function to remove a shape from your list. Print the list.\n",
        "3. Use the remove function to remove a shape to your list. You should remove the shape in index position 2. Print your list.\n",
        "4. Use the pop function to remove the last item in your list. Print the list. "
      ]
    },
    {
      "cell_type": "code",
      "execution_count": 7,
      "id": "11fdc55f",
      "metadata": {
        "colab": {
          "base_uri": "https://localhost:8080/"
        },
        "id": "11fdc55f",
        "outputId": "9542b53a-7eda-4560-8099-de952f9abaad"
      },
      "outputs": [
        {
          "output_type": "stream",
          "name": "stdout",
          "text": [
            "['circle', 'square', 'triangle']\n"
          ]
        }
      ],
      "source": [
        "shapes = ['circle','square','triangle', 'rombus']\n",
        "shapes.pop()\n",
        "print(shapes)"
      ]
    },
    {
      "cell_type": "code",
      "execution_count": 8,
      "id": "87c18909",
      "metadata": {
        "id": "87c18909"
      },
      "outputs": [],
      "source": [
        "shapes.remove(\"triangle\")"
      ]
    },
    {
      "cell_type": "code",
      "source": [
        "print(shapes)"
      ],
      "metadata": {
        "colab": {
          "base_uri": "https://localhost:8080/"
        },
        "id": "5ef-dDg_C-nV",
        "outputId": "b4a33649-01bc-4cf9-9274-b322eddf5654"
      },
      "id": "5ef-dDg_C-nV",
      "execution_count": 9,
      "outputs": [
        {
          "output_type": "stream",
          "name": "stdout",
          "text": [
            "['circle', 'square']\n"
          ]
        }
      ]
    },
    {
      "cell_type": "code",
      "source": [
        "shapes.pop()\n",
        "print(shapes)"
      ],
      "metadata": {
        "colab": {
          "base_uri": "https://localhost:8080/"
        },
        "id": "TlvTfGJFDDUa",
        "outputId": "ff6c84ce-089d-453a-cdb3-2b20a52f405d"
      },
      "id": "TlvTfGJFDDUa",
      "execution_count": 10,
      "outputs": [
        {
          "output_type": "stream",
          "name": "stdout",
          "text": [
            "['circle']\n"
          ]
        }
      ]
    },
    {
      "cell_type": "markdown",
      "id": "e46e6d07",
      "metadata": {
        "id": "e46e6d07"
      },
      "source": [
        "#### SORTING A LIST\n",
        "\n",
        "The .sort() function allows you to re-order a list in ascending or descending order. If the list includes only numbers, this means the numbers will be ordered from least to greatest (or from greatest to least). If the list includes strings/text, the list will be sorted in alphabetical order (or reverse alphabetical order). To use the function, see the example below: \n",
        "\n",
        "        list_name.sort() >> by default, this will sort the list in ascending order\n",
        "        colors.sort()\n",
        "        \n",
        "To change the direction in which items are sorted, you can add an option within the parentheses that sorts the list in the reverse direction (reverse = True). See the example below:\n",
        "        \n",
        "        list_name.sort(reverse = True)\n",
        "        colors.sort(reverse = True)\n",
        "\n",
        "1. Create a list of 4 integers. Print the list. \n",
        "2. Sort the list in ascending order. \n",
        "3. In a new cell, sort the same list in descending order. "
      ]
    },
    {
      "cell_type": "code",
      "execution_count": 12,
      "id": "86fd7b0f",
      "metadata": {
        "colab": {
          "base_uri": "https://localhost:8080/"
        },
        "id": "86fd7b0f",
        "outputId": "a2874bf2-e66c-436b-935f-21ac3b567e4e"
      },
      "outputs": [
        {
          "output_type": "stream",
          "name": "stdout",
          "text": [
            "[1, 3, 4, 89]\n"
          ]
        }
      ],
      "source": [
        "inte = [ 1, 3, 4, 89]\n",
        "inte.sort()\n",
        "print(inte)"
      ]
    },
    {
      "cell_type": "code",
      "source": [
        "inte.sort(reverse = True)\n",
        "print(inte)"
      ],
      "metadata": {
        "colab": {
          "base_uri": "https://localhost:8080/"
        },
        "id": "AxgGnzr1DVsi",
        "outputId": "c8b4e73c-ac96-45b0-e661-2f2080c59721"
      },
      "id": "AxgGnzr1DVsi",
      "execution_count": 13,
      "outputs": [
        {
          "output_type": "stream",
          "name": "stdout",
          "text": [
            "[89, 4, 3, 1]\n"
          ]
        }
      ]
    },
    {
      "cell_type": "markdown",
      "id": "cca1d63c",
      "metadata": {
        "id": "cca1d63c"
      },
      "source": [
        "#### FOR-LOOPS\n",
        "\n",
        "Python has several types of loops that are used to iterate through a set of information. <b>For Loops</b> are used to apply a function on each item in a specific list. For example, if you want to apply the print() function to each item in a list (aka you want to individually print out each item listed), you can do so with a for loop. The basic structure of a for-loop is as follows:\n",
        "\n",
        "        for item in list_of_items:\n",
        "            statement 1\n",
        "            statement 2\n",
        "            statement 3\n",
        "\n",
        "This can be read as \"For each Item in the list of Items, perform the following tasks...\". The for loop will then take each item in the list - one by one - and apply the specific statements to each item. See below for an example:\n",
        "    \n",
        "    my_list = [\"a\", \"b\", \"c\", \"d\"]\n",
        "    \n",
        "Below I'm going to create a for loop that will iterate through my_list and print each item from the list. In the for loop, the \"i\" stands for item.\n",
        "\n",
        "    for i in my_list:\n",
        "        print (i)\n",
        "The output for the for-loop with be as follows:\n",
        "\n",
        "    a\n",
        "    b\n",
        "    c\n",
        "    d\n",
        "\n",
        "Complete the code below to create a series of for-loops. "
      ]
    },
    {
      "cell_type": "code",
      "execution_count": 14,
      "id": "703dbe84",
      "metadata": {
        "colab": {
          "base_uri": "https://localhost:8080/"
        },
        "id": "703dbe84",
        "outputId": "b496718f-2e51-4097-c62f-f2ba13655fca"
      },
      "outputs": [
        {
          "output_type": "stream",
          "name": "stdout",
          "text": [
            "red\n",
            "orange\n",
            "purple\n",
            "white\n",
            "green\n"
          ]
        }
      ],
      "source": [
        "colors = [\"red\", \"orange\", \"purple\", \"white\", \"green\"]\n",
        "\n",
        "## using the list above, create a for-loop that prints each color from the list\n",
        "for color in colors:\n",
        "  print(color)"
      ]
    },
    {
      "cell_type": "code",
      "execution_count": 16,
      "id": "a554fe60",
      "metadata": {
        "colab": {
          "base_uri": "https://localhost:8080/"
        },
        "id": "a554fe60",
        "outputId": "6efaa6d5-a1c5-4375-acaa-fd8cfcfc96cf"
      },
      "outputs": [
        {
          "output_type": "stream",
          "name": "stdout",
          "text": [
            "soda\n",
            "4\n",
            "coffee\n",
            "6\n",
            "tea\n",
            "3\n",
            "milk\n",
            "4\n",
            "water\n",
            "5\n"
          ]
        }
      ],
      "source": [
        "drinks = [\"soda\", \"coffee\", \"tea\", \"milk\", \"water\"]\n",
        "\n",
        "## using the list above, create a for-loop that prints the name of each color and the length of each string \n",
        "# how many characters are in the name of the color?\n",
        "\n",
        "for drink in drinks: \n",
        "  print(drink), print(len(drink))\n"
      ]
    },
    {
      "cell_type": "code",
      "execution_count": 17,
      "id": "92720938",
      "metadata": {
        "colab": {
          "base_uri": "https://localhost:8080/"
        },
        "id": "92720938",
        "outputId": "b92b66d8-12e4-4c95-f6d5-fc110f37a484"
      },
      "outputs": [
        {
          "output_type": "stream",
          "name": "stdout",
          "text": [
            "My favorite drink is soda\n",
            "My favorite drink is coffee\n",
            "My favorite drink is tea\n",
            "My favorite drink is milk\n",
            "My favorite drink is water\n"
          ]
        }
      ],
      "source": [
        "drinks = [\"soda\", \"coffee\", \"tea\", \"milk\", \"water\"]\n",
        "\n",
        "## using the same drinks list, create a for-loop that prints the sentence \"My favorite drink is ..\" and then fill in the name of each color\n",
        "for drink in drinks: \n",
        "  print(f\"My favorite drink is {drink}\")\n"
      ]
    },
    {
      "cell_type": "code",
      "execution_count": 18,
      "id": "4bb84e9a",
      "metadata": {
        "colab": {
          "base_uri": "https://localhost:8080/"
        },
        "id": "4bb84e9a",
        "outputId": "4b70d527-cf47-443f-ec52-1104267140fd"
      },
      "outputs": [
        {
          "output_type": "stream",
          "name": "stdout",
          "text": [
            "15\n",
            "25\n",
            "35\n",
            "45\n",
            "55\n"
          ]
        }
      ],
      "source": [
        "numbers = [10, 20, 30, 40, 50]\n",
        "\n",
        "## using the list above, create a for-loop that adds 5 to each value in the list and then prints the value \n",
        "\n",
        "for number in numbers:\n",
        "  print(f\"{number + 5}\")\n"
      ]
    },
    {
      "cell_type": "markdown",
      "id": "4d3cda51",
      "metadata": {
        "id": "4d3cda51"
      },
      "source": [
        "#### RANGE FUNCTION \n",
        "\n",
        "The range function creates a sequence of numbers starting from a given integer and stopping before a given integer (inclusive -> exclusive). The range function can be useful when incorporated into loops. The range function defaults to a 0 starting value but this can be altered, for example:\n",
        "\n",
        "        range(0, 10) returns the values 0 through 9\n",
        "        range(0, 11) returns the values 0 through 10\n",
        "        range(2, 7) returns the values 2 through 6\n",
        "        range(-1, 10) returns the values -1 through 9\n",
        "        \n",
        "To use the range function, you can include it in a for-loop. The for-loop will iterate through the list of numbers and print them out one by one. Below I'm going to create a for loop that will iterate through a sequence of numbers and print each number. In the for loop, the \"i\" stands for integer.\n",
        "\n",
        "    for i in range(0, 6):\n",
        "        print (i)\n",
        "        \n",
        "This can be read as \"For each integer in the range 0 through 10, print the integer\". The output for the for-loop with be as follows:\n",
        "\n",
        "    1\n",
        "    2\n",
        "    3\n",
        "    4\n",
        "    5\n",
        "\n",
        "Complete the code below to create a series of for-loops using the range function. "
      ]
    },
    {
      "cell_type": "code",
      "execution_count": 19,
      "id": "34d7bdaf",
      "metadata": {
        "colab": {
          "base_uri": "https://localhost:8080/"
        },
        "id": "34d7bdaf",
        "outputId": "816cc088-856b-45d4-ba65-95c3e8df2ab2"
      },
      "outputs": [
        {
          "output_type": "stream",
          "name": "stdout",
          "text": [
            "0\n",
            "1\n",
            "2\n",
            "3\n"
          ]
        }
      ],
      "source": [
        "## complete the code to print a list of integers ranging from 0 to 3.\n",
        "\n",
        "for i in range(0,4):\n",
        "    print(i)"
      ]
    },
    {
      "cell_type": "code",
      "execution_count": 20,
      "id": "91aae893",
      "metadata": {
        "colab": {
          "base_uri": "https://localhost:8080/"
        },
        "id": "91aae893",
        "outputId": "ce9730e3-52e8-411c-eddb-c66443a8c38d"
      },
      "outputs": [
        {
          "output_type": "stream",
          "name": "stdout",
          "text": [
            "-1\n",
            "0\n",
            "1\n",
            "2\n",
            "3\n",
            "4\n",
            "5\n",
            "6\n",
            "7\n",
            "8\n",
            "9\n"
          ]
        }
      ],
      "source": [
        "## complete the code to print a list of integers ranging from -1 to 9.\n",
        "\n",
        "for i in range(-1,10):\n",
        "    print(i)"
      ]
    },
    {
      "cell_type": "code",
      "execution_count": 21,
      "id": "35108002",
      "metadata": {
        "colab": {
          "base_uri": "https://localhost:8080/"
        },
        "id": "35108002",
        "outputId": "81a5eb17-8497-4a82-9928-e142886542cc"
      },
      "outputs": [
        {
          "output_type": "stream",
          "name": "stdout",
          "text": [
            "5\n",
            "6\n",
            "7\n",
            "8\n",
            "9\n",
            "10\n"
          ]
        }
      ],
      "source": [
        "## complete the code to add 5 to a series of integers ranging from 0 to 5.\n",
        "\n",
        "for i in range(0,6):\n",
        "    i += 5\n",
        "    print(i)"
      ]
    },
    {
      "cell_type": "code",
      "execution_count": 22,
      "id": "0cc56b0e",
      "metadata": {
        "colab": {
          "base_uri": "https://localhost:8080/"
        },
        "id": "0cc56b0e",
        "outputId": "ae4d13a6-635c-4ca8-b683-137b67c92f72"
      },
      "outputs": [
        {
          "output_type": "stream",
          "name": "stdout",
          "text": [
            "10\n",
            "20\n",
            "30\n",
            "40\n",
            "50\n",
            "60\n",
            "70\n",
            "80\n"
          ]
        }
      ],
      "source": [
        "## complete the code to multiply a series of integers ranging from 1 to 8 by 10. \n",
        "\n",
        "for i in range(1,9):\n",
        "    i *= 10\n",
        "    print(i)"
      ]
    },
    {
      "cell_type": "markdown",
      "id": "8e975a93",
      "metadata": {
        "id": "8e975a93"
      },
      "source": [
        "#### WHILE LOOPS\n",
        "\n",
        "The while loop is another type of Python loop. With the while loop, we can execute a set of statements as long as a condition is true. That condition is listed at the top of the statement and underneath the statement is where you will list all the items you want executed while that statement is true. For example:\n",
        "\n",
        "    i = 1\n",
        "    \n",
        "    while i < 6:\n",
        "        print(i)\n",
        "\n",
        "The above while loop will print the value of \"i\" for as long as \"i\" is less than 6. This is because the condition that is being checked for truth is \"i < 6\". If this is true, the loop continues (indefinitely) - but as soon as this statement is no longer true, the loop will stop. The above loop is an infinity loop and will never stop running. This is because the value of \"i\" is always going to be 1 - which is always going to be less than 6, which means the conditional statement will never be untrue. We can modify our code so that this is not an infinity loop by adding a statement that adds \"1\" to the value of \"i\" after each successful loop. \n",
        "\n",
        "    i = 1\n",
        "    \n",
        "    while i < 6:\n",
        "        print(i)\n",
        "        i = i + 1\n",
        "        \n",
        "The loop will flow in the following way:\n",
        "\n",
        "1. Check the conditional statement for truth (is i less than 6?); if yes, continue to the first statement underneath; if no, end the loop. \n",
        "2. The starting value of \"i\" is 1, therefore, the conditional statement is true. We can continue with the first statement listed underneath the conditional statement. \n",
        "3. We print the value of \"i\" because that is the first item listed underneath the conditional statement. On the first iteration of the loop, this means we are printing the value \"1\". \n",
        "4. We continue executing the statements underneath the conditional statement in the order they are listed. The next statement is i = i + 1 (this can also be written as i += 1); this means we are going to take whatever the value of \"i\" is and add 1 to it. Then we are going to save that result as the new value of \"i\". This is going to happen at the end of each successful loop. At the end of the first loop, \"i\" will have a value of \"2\". \n",
        "5. We've reached the end of our listed statements under the conditional statement, now it is time to go back to the top of the list and try everything again for iteration #2. \n",
        "6. Start again at the conditional statement - at the beginning of each iteration, the conditional statement is re-checked for truth. If it is still true, we cycle through the listed statements again (print the value of \"i\" and add 1 to the current value of \"i\"). \n",
        "7. This cycle will continue until the conditional statement is no longer true; therefore, in this example, this cycle will continue until \"i\" is greater than \n",
        "\n",
        "\n",
        "Complete the code below to execute a series of while loops. "
      ]
    },
    {
      "cell_type": "code",
      "execution_count": 24,
      "id": "1d42d6be",
      "metadata": {
        "colab": {
          "base_uri": "https://localhost:8080/"
        },
        "id": "1d42d6be",
        "outputId": "9f0f8499-ea00-4e72-f9ba-a5e38214e3b2"
      },
      "outputs": [
        {
          "output_type": "stream",
          "name": "stdout",
          "text": [
            "0\n",
            "1\n",
            "2\n"
          ]
        }
      ],
      "source": [
        "## complete the code below to prevent the while loop from becoming an infinity loop\n",
        "## add a line of code to stop the loop after 3 iterations\n",
        "\n",
        "i = 0\n",
        "\n",
        "while i < 3:\n",
        "    print(i)\n",
        "    i = i + 1 ## add a line of code here"
      ]
    },
    {
      "cell_type": "code",
      "execution_count": 25,
      "id": "626e0f8d",
      "metadata": {
        "colab": {
          "base_uri": "https://localhost:8080/"
        },
        "id": "626e0f8d",
        "outputId": "88f3f223-9a0d-4dc2-d7e3-155658a40af1"
      },
      "outputs": [
        {
          "output_type": "stream",
          "name": "stdout",
          "text": [
            "181 degrees is too hot to drink your tea, let it cool.\n",
            "175 degrees is too hot to drink your tea, let it cool.\n",
            "169 degrees is too hot to drink your tea, let it cool.\n",
            "163 degrees is too hot to drink your tea, let it cool.\n",
            "157 degrees is too hot to drink your tea, let it cool.\n",
            "151 degrees is too hot to drink your tea, let it cool.\n",
            "145 degrees is too hot to drink your tea, let it cool.\n",
            "139 degrees is too hot to drink your tea, let it cool.\n",
            "Your tea is 133 and cool enough to drink. Enjoy!\n"
          ]
        }
      ],
      "source": [
        "## each minute you let your tea sit, it cools down 6 degrees. \n",
        "## how many minutes pass before you can drink your tea?\n",
        "## run the while-loop below and count the number of loops it made.\n",
        "\n",
        "temp = 181\n",
        "\n",
        "while temp > 135:\n",
        "    print(f\"{temp} degrees is too hot to drink your tea, let it cool.\")\n",
        "    temp = temp - 6\n",
        "    \n",
        "print(f\"Your tea is {temp} and cool enough to drink. Enjoy!\")"
      ]
    },
    {
      "cell_type": "code",
      "execution_count": 27,
      "id": "447c6557",
      "metadata": {
        "colab": {
          "base_uri": "https://localhost:8080/"
        },
        "id": "447c6557",
        "outputId": "608692f0-96a7-412d-8352-6e61463891b5"
      },
      "outputs": [
        {
          "output_type": "stream",
          "name": "stdout",
          "text": [
            "1\n",
            "2\n",
            "3\n",
            "4\n",
            "5\n",
            "6\n",
            "7\n",
            "8\n",
            "9\n",
            "10\n"
          ]
        }
      ],
      "source": [
        "## create a while loop that returns numbers 1 through 10\n",
        "## once you get to 10, the loop should naturally end\n",
        "\n",
        "i = 1\n",
        "\n",
        "while i < 11: \n",
        "  print (i) \n",
        "  i += 1"
      ]
    },
    {
      "cell_type": "markdown",
      "id": "aacf4f3e",
      "metadata": {
        "id": "aacf4f3e"
      },
      "source": [
        "## Module 5 Review"
      ]
    },
    {
      "cell_type": "markdown",
      "id": "f2d82ce3",
      "metadata": {
        "id": "f2d82ce3"
      },
      "source": [
        "#### DICTIONARIES\n",
        "\n",
        "A dictionary is another Python data type that holds a collection of items within one variable name. Unlike a list or tuples, dictionaries don't hold single values - they hold paired values. Each pair is called an <b>item</b>, and each item contains a <b>key</b> and a <b>value</b>. The key is separated by a value with a \" : \" and each item within the dictionary is separated by a comma. The entire dictionary is contained within curly brackets ( {} ). See below for an example:\n",
        "\n",
        "    my_dictionary = {key_1 : value_1, key_2 : value_2, key_3 : value_3...}\n",
        "\n",
        "A dictionary is ordered (it can be indexed), changeable (you can add, remove, and manipulate the items within), and it does not allow for duplicate keys. \n",
        "\n",
        "1. Create a dictionary called \"roommates\". This dictionary will include only two items - the name and age of each person living in a house. The name is the KEY and the age is the VALUE. Print the dictionary. Use the following information to construct the dictionary:\n",
        "    * Sarah is 19 years old\n",
        "    * Margaret is 23 years old"
      ]
    },
    {
      "cell_type": "code",
      "execution_count": 28,
      "id": "3315ca4c",
      "metadata": {
        "id": "3315ca4c"
      },
      "outputs": [],
      "source": [
        "roommates = {'sarah' : 19, 'margaret' : 23}"
      ]
    },
    {
      "cell_type": "code",
      "execution_count": 29,
      "id": "22f05d48",
      "metadata": {
        "colab": {
          "base_uri": "https://localhost:8080/"
        },
        "id": "22f05d48",
        "outputId": "0925c824-67ab-48d0-b08d-ff64666cefd7"
      },
      "outputs": [
        {
          "output_type": "stream",
          "name": "stdout",
          "text": [
            "{'sarah': 19, 'margaret': 23}\n"
          ]
        }
      ],
      "source": [
        "print(roommates)"
      ]
    },
    {
      "cell_type": "markdown",
      "id": "1dbc220c",
      "metadata": {
        "id": "1dbc220c"
      },
      "source": [
        "#### ACCESSING A DICTIONARY P1\n",
        "\n",
        "Identifying the items that are stored within your dictionary allows you to understand what the dictionary includes. Use the .get() function to retrieve a value from your dictionary. The .get() function requires you to input a dictionary KEY and it will return the value associated with that specific KEY. To use the function, follow the example below:\n",
        "\n",
        "    my_dictionary = [key1 : value1, key2 : value2]\n",
        "    \n",
        "To get the value of \"value2\" we can use the .get() function in the following way:\n",
        "    \n",
        "    my_dictionary.get(\"key2\")\n",
        "    \n",
        "The function will search for the specific key and return whichever value is associated with that key. \n",
        "\n",
        "Complete the code below to retrieve specific values from a dictionary that contains the first and last names of famous people throughout history. In this example, the keys are the first names and the values are the last names. "
      ]
    },
    {
      "cell_type": "code",
      "execution_count": 30,
      "id": "d20f62c2",
      "metadata": {
        "id": "d20f62c2"
      },
      "outputs": [],
      "source": [
        "## run this cell to define the dictionary\n",
        "\n",
        "famous = {\"Marilyn\":\"Monroe\", \"Ab\":\"Lincoln\", \"Nelson\":\"Mandela\", \"Bill\":\"Gates\", \"Charles\":\"Darwin\", \"Rosa\":\"Parks\", \"John\":\"Lennon\", \"Pablo\":\"Picasso\"}"
      ]
    },
    {
      "cell_type": "code",
      "execution_count": 31,
      "id": "e62fa3d5",
      "metadata": {
        "colab": {
          "base_uri": "https://localhost:8080/",
          "height": 35
        },
        "id": "e62fa3d5",
        "outputId": "3afcf4df-ff4f-47f7-f7d6-699b2182f3f6"
      },
      "outputs": [
        {
          "output_type": "execute_result",
          "data": {
            "text/plain": [
              "'Mandela'"
            ],
            "application/vnd.google.colaboratory.intrinsic+json": {
              "type": "string"
            }
          },
          "metadata": {},
          "execution_count": 31
        }
      ],
      "source": [
        "## get the last name of the person called \"Nelson\"\n",
        "\n",
        "famous.get(\"Nelson\")"
      ]
    },
    {
      "cell_type": "code",
      "execution_count": 32,
      "id": "8b5e6bb9",
      "metadata": {
        "colab": {
          "base_uri": "https://localhost:8080/",
          "height": 35
        },
        "id": "8b5e6bb9",
        "outputId": "99b25416-ce7e-442e-de7e-4059dd0fffee"
      },
      "outputs": [
        {
          "output_type": "execute_result",
          "data": {
            "text/plain": [
              "'Parks'"
            ],
            "application/vnd.google.colaboratory.intrinsic+json": {
              "type": "string"
            }
          },
          "metadata": {},
          "execution_count": 32
        }
      ],
      "source": [
        "## get the last name of the person called \"Rosa\"\n",
        "\n",
        "famous.get(\"Rosa\")"
      ]
    },
    {
      "cell_type": "code",
      "execution_count": 33,
      "id": "a0d01731",
      "metadata": {
        "colab": {
          "base_uri": "https://localhost:8080/",
          "height": 35
        },
        "id": "a0d01731",
        "outputId": "51267787-cb14-4433-d3fc-691fee2062e6"
      },
      "outputs": [
        {
          "output_type": "execute_result",
          "data": {
            "text/plain": [
              "'Lennon'"
            ],
            "application/vnd.google.colaboratory.intrinsic+json": {
              "type": "string"
            }
          },
          "metadata": {},
          "execution_count": 33
        }
      ],
      "source": [
        "## get the last name of the person called \"John\"\n",
        "famous.get(\"John\")\n"
      ]
    },
    {
      "cell_type": "markdown",
      "id": "40b7e9fc",
      "metadata": {
        "id": "40b7e9fc"
      },
      "source": [
        "#### ACCESSING A DICTIONARY P2\n",
        "\n",
        "Identifying the items that are stored within your dictionary allows you to understand what the dictionary includes. Use the .keys() function to return a list of all the keys in your dictionary. To use the function, look at the example below:\n",
        "\n",
        "    my_dictionary = [key1 : value1, key2 : value2]\n",
        "\n",
        "To get a list of all the keys stored in the dictionary, use the following code:\n",
        "\n",
        "    my_dictionary.keys()\n",
        "    \n",
        "The output for this code will be:\n",
        "\n",
        "    key1\n",
        "    key2\n",
        "    \n",
        "Complete the code below to retrieve all the keys associated with the dictionary of famous people. "
      ]
    },
    {
      "cell_type": "code",
      "execution_count": 34,
      "id": "587c0e1a",
      "metadata": {
        "id": "587c0e1a"
      },
      "outputs": [],
      "source": [
        "## run this cell to define the dictionary\n",
        "\n",
        "famous = {\"Marilyn\":\"Monroe\", \"Ab\":\"Lincoln\", \"Nelson\":\"Mandela\", \"Bill\":\"Gates\", \"Charles\":\"Darwin\", \"Rosa\":\"Parks\", \"John\":\"Lennon\", \"Pablo\":\"Picasso\"}"
      ]
    },
    {
      "cell_type": "code",
      "execution_count": 35,
      "id": "55b7ce3b",
      "metadata": {
        "colab": {
          "base_uri": "https://localhost:8080/"
        },
        "id": "55b7ce3b",
        "outputId": "cc7fe7f9-84bc-4e1e-8036-e0ab805deb9e"
      },
      "outputs": [
        {
          "output_type": "execute_result",
          "data": {
            "text/plain": [
              "dict_keys(['Marilyn', 'Ab', 'Nelson', 'Bill', 'Charles', 'Rosa', 'John', 'Pablo'])"
            ]
          },
          "metadata": {},
          "execution_count": 35
        }
      ],
      "source": [
        "## write the code to retrive all the keys associated with this dictionary\n",
        "\n",
        "famous.keys()"
      ]
    },
    {
      "cell_type": "markdown",
      "id": "4913c57c",
      "metadata": {
        "id": "4913c57c"
      },
      "source": [
        "#### ACCESSING A DICTIONARY P3\n",
        "\n",
        "Identifying the items that are stored within your dictionary allows you to understand what the dictionary includes. Use the .values() function to return a list of all the values in your dictionary. To use the function, look at the example below:\n",
        "\n",
        "    my_dictionary = [key1 : value1, key2 : value2]\n",
        "\n",
        "To get a list of all the values stored in the dictionary, use the following code:\n",
        "\n",
        "    my_dictionary.values()\n",
        "    \n",
        "The output for this code will be:\n",
        "\n",
        "    value1\n",
        "    value2\n",
        "    \n",
        "Complete the code below to retrieve all the values associated with the dictionary of famous people. "
      ]
    },
    {
      "cell_type": "code",
      "execution_count": 36,
      "id": "b06940de",
      "metadata": {
        "id": "b06940de"
      },
      "outputs": [],
      "source": [
        "## run this cell to define the dictionary\n",
        "\n",
        "famous = {\"Marilyn\":\"Monroe\", \"Ab\":\"Lincoln\", \"Nelson\":\"Mandela\", \"Bill\":\"Gates\", \"Charles\":\"Darwin\", \"Rosa\":\"Parks\", \"John\":\"Lennon\", \"Pablo\":\"Picasso\"}"
      ]
    },
    {
      "cell_type": "code",
      "execution_count": 37,
      "id": "d169aae4",
      "metadata": {
        "colab": {
          "base_uri": "https://localhost:8080/"
        },
        "id": "d169aae4",
        "outputId": "11e78579-59a1-4c8e-8249-59719457ed5e"
      },
      "outputs": [
        {
          "output_type": "execute_result",
          "data": {
            "text/plain": [
              "dict_values(['Monroe', 'Lincoln', 'Mandela', 'Gates', 'Darwin', 'Parks', 'Lennon', 'Picasso'])"
            ]
          },
          "metadata": {},
          "execution_count": 37
        }
      ],
      "source": [
        "## write the code to retrive all the values associated with this dictionary\n",
        "\n",
        "famous.values()"
      ]
    },
    {
      "cell_type": "markdown",
      "id": "59bbe783",
      "metadata": {
        "id": "59bbe783"
      },
      "source": [
        "#### CHANGING DICTIONARY ITEMS\n",
        "\n",
        "Dictionaries are changeable -- meaning you can add, remove, and modify items stored within the dictionary. To modify or edit items within your dictionary, you can use the .update() function. You can use this function to update a value given a specific key. To use the function, see the example below:\n",
        "\n",
        "    my_dictionary = [key1 : value1, key2 : value2]\n",
        "    \n",
        "I want to update the second item to \"value_2\". See below for the code to do this:\n",
        "\n",
        "    my_dictionary.update({\"key_name\" : \"new_value\"})\n",
        "    \n",
        "Within the parentheses of the update() function, you will add a mini dictionary of the items you want to update. This includes adding the curly brackets around the items you want to modify. For example:\n",
        "\n",
        "    my_dictionary.update({\"key2\" : \"value_2\"})\n",
        "    \n",
        "This will change my dictionary from the original to this:\n",
        "\n",
        "    my_dictionary = [key1 : value1, key2 : value_2]\n",
        "    \n",
        "1. Using the dictionary 'famous' shown above, update the last name of Marilyn Monroe to \"Mortenson\". The key should stay the same, you are just updating the value. "
      ]
    },
    {
      "cell_type": "code",
      "execution_count": 38,
      "id": "7e66c8d2",
      "metadata": {
        "id": "7e66c8d2"
      },
      "outputs": [],
      "source": [
        "famous.update({\"Marilyn\" : \"Mortenson\"})"
      ]
    },
    {
      "cell_type": "code",
      "execution_count": 39,
      "id": "86b2610d",
      "metadata": {
        "colab": {
          "base_uri": "https://localhost:8080/"
        },
        "id": "86b2610d",
        "outputId": "ee911ec3-5cd5-4a48-dab7-9b1a15c7ba08"
      },
      "outputs": [
        {
          "output_type": "execute_result",
          "data": {
            "text/plain": [
              "dict_values(['Mortenson', 'Lincoln', 'Mandela', 'Gates', 'Darwin', 'Parks', 'Lennon', 'Picasso'])"
            ]
          },
          "metadata": {},
          "execution_count": 39
        }
      ],
      "source": [
        "famous.values()"
      ]
    },
    {
      "cell_type": "markdown",
      "id": "50127f01",
      "metadata": {
        "id": "50127f01"
      },
      "source": [
        "#### ADDING ITEMS TO DICTIONARY \n",
        "\n",
        "You can use the .update() function to add new items to a dictionary. To do this, follow the same steps as above but when you create your 'mini dictionary', you can insert 1 or multiple new entries. \n",
        "\n",
        "    my_dictionary = [key1 : value1, key2 : value2]\n",
        "\n",
        "I want to add two additional items to the end of my dictionary.\n",
        "\n",
        "    my_dictionary.update({\"key3\" : \"value3\", \"key4\" : \"value4\"})\n",
        "    \n",
        "If I run the above code, my dictionary will change from the original to the following:\n",
        "\n",
        "    my_dictionary = [key1 : value1, key2 : value2, key3 : value3, key4 : value4]\n",
        "    \n",
        "Using the famous dictionary shown above, add two additional famous people to the end of the list using the update() function. "
      ]
    },
    {
      "cell_type": "code",
      "execution_count": 40,
      "id": "c353136d",
      "metadata": {
        "id": "c353136d"
      },
      "outputs": [],
      "source": [
        "famous.update({\"William\" : \"Luna\", \"Diosdado\" : \"Gaitan Castro\"})"
      ]
    },
    {
      "cell_type": "code",
      "execution_count": 41,
      "id": "f0046a81",
      "metadata": {
        "colab": {
          "base_uri": "https://localhost:8080/"
        },
        "id": "f0046a81",
        "outputId": "0a6e6313-2d4c-49f7-abca-25e474f83af3"
      },
      "outputs": [
        {
          "output_type": "stream",
          "name": "stdout",
          "text": [
            "{'Marilyn': 'Mortenson', 'Ab': 'Lincoln', 'Nelson': 'Mandela', 'Bill': 'Gates', 'Charles': 'Darwin', 'Rosa': 'Parks', 'John': 'Lennon', 'Pablo': 'Picasso', 'William': 'Luna', 'Diosdado': 'Gaitan Castro'}\n"
          ]
        }
      ],
      "source": [
        "print(famous)"
      ]
    },
    {
      "cell_type": "markdown",
      "id": "639e67f1",
      "metadata": {
        "id": "639e67f1"
      },
      "source": [
        "#### REMOVING ITEMS FROM DICTIONARY\n",
        "\n",
        "You can use several functions to remove items from your dictionary. The most important functions to remember are:\n",
        "    \n",
        "<b> .pop() function removes a specific item given a specific key </b>\n",
        "    \n",
        "    my_dictionary = [key1 : value1, key2 : value2]\n",
        "    \n",
        "    my_dictionary.pop(\"key1\") >> this will remove the key-value pair with key \"key1\"\n",
        "    \n",
        "<b> .popitem() function removes the last item listed in the dictionary </b>\n",
        "\n",
        "    my_dictionary = [key1 : value1, key2 : value2]\n",
        "    \n",
        "    my_dictionary.popitem() >> this will remove the last item in the dictionary\n",
        "    \n",
        "<b> .clear() function removes all items from a dictionary </b>\n",
        "\n",
        "    my_dictionary = [key1 : value1, key2 : value2]\n",
        "    \n",
        "    my_dictionary.clear() >> this will remove all items from the dictionary\n",
        "    \n",
        "Using the famous dictionary below, answer the following questions:\n",
        "1. Remove \"Bill Gates\" from the dictionary. Print the dictionary. \n",
        "2. Remove \"John Lennon\" from the dictionary. Print the dictionary. \n",
        "3. Remove the last item from the dictionary. Print the dictionary. "
      ]
    },
    {
      "cell_type": "code",
      "execution_count": 42,
      "id": "533ab09f",
      "metadata": {
        "id": "533ab09f"
      },
      "outputs": [],
      "source": [
        "## run this cell to define the dictionary\n",
        "\n",
        "famous = {\"Marilyn\":\"Monroe\", \"Ab\":\"Lincoln\", \"Nelson\":\"Mandela\", \"Bill\":\"Gates\", \"Charles\":\"Darwin\", \"Rosa\":\"Parks\", \"John\":\"Lennon\", \"Pablo\":\"Picasso\"}"
      ]
    },
    {
      "cell_type": "code",
      "execution_count": 43,
      "id": "f2bc1fc8",
      "metadata": {
        "colab": {
          "base_uri": "https://localhost:8080/"
        },
        "id": "f2bc1fc8",
        "outputId": "19f64651-8c85-406c-a028-8a51ac14ebc8"
      },
      "outputs": [
        {
          "output_type": "stream",
          "name": "stdout",
          "text": [
            "{'Marilyn': 'Monroe', 'Ab': 'Lincoln', 'Nelson': 'Mandela', 'Charles': 'Darwin', 'Rosa': 'Parks', 'John': 'Lennon', 'Pablo': 'Picasso'}\n"
          ]
        }
      ],
      "source": [
        "famous.pop(\"Bill\")\n",
        "print(famous)"
      ]
    },
    {
      "cell_type": "code",
      "execution_count": 44,
      "id": "be79d430",
      "metadata": {
        "colab": {
          "base_uri": "https://localhost:8080/"
        },
        "id": "be79d430",
        "outputId": "45c3b529-2491-4109-9609-924bc9b45220"
      },
      "outputs": [
        {
          "output_type": "stream",
          "name": "stdout",
          "text": [
            "{'Marilyn': 'Monroe', 'Ab': 'Lincoln', 'Nelson': 'Mandela', 'Charles': 'Darwin', 'Rosa': 'Parks', 'Pablo': 'Picasso'}\n"
          ]
        }
      ],
      "source": [
        "famous.pop(\"John\")\n",
        "print(famous)"
      ]
    },
    {
      "cell_type": "code",
      "execution_count": 45,
      "id": "7864cdd6",
      "metadata": {
        "colab": {
          "base_uri": "https://localhost:8080/"
        },
        "id": "7864cdd6",
        "outputId": "ae526f3c-0468-47eb-8903-2b9f8e45661b"
      },
      "outputs": [
        {
          "output_type": "execute_result",
          "data": {
            "text/plain": [
              "('Pablo', 'Picasso')"
            ]
          },
          "metadata": {},
          "execution_count": 45
        }
      ],
      "source": [
        "famous.popitem()"
      ]
    },
    {
      "cell_type": "code",
      "source": [
        "print(famous)"
      ],
      "metadata": {
        "colab": {
          "base_uri": "https://localhost:8080/"
        },
        "id": "IWCZjWIsL-KU",
        "outputId": "4b8cbde9-c355-4646-b6e4-536c978c380d"
      },
      "id": "IWCZjWIsL-KU",
      "execution_count": 46,
      "outputs": [
        {
          "output_type": "stream",
          "name": "stdout",
          "text": [
            "{'Marilyn': 'Monroe', 'Ab': 'Lincoln', 'Nelson': 'Mandela', 'Charles': 'Darwin', 'Rosa': 'Parks'}\n"
          ]
        }
      ]
    },
    {
      "cell_type": "markdown",
      "id": "0167bf69",
      "metadata": {
        "id": "0167bf69"
      },
      "source": [
        "# Advanced Review Exercise #1\n",
        "\n",
        "Create a Mad Libs using Python. Find a Mad Libs template online (this will look like a story that is missing several key words). Use that template to design a program that asks a user for input on all of the missing values within the Mad Libs. Then, once you have all the needed input -- print the Mad Libs using a formatted string. "
      ]
    },
    {
      "cell_type": "code",
      "execution_count": 1,
      "id": "c2ac7e59",
      "metadata": {
        "colab": {
          "base_uri": "https://localhost:8080/"
        },
        "id": "c2ac7e59",
        "outputId": "39ed7d7a-c6ef-46b7-f362-38c86a908c96"
      },
      "outputs": [
        {
          "output_type": "stream",
          "name": "stdout",
          "text": [
            "give me the name of the company:   Founder Institute\n",
            "define what your business will be offering:   training and mentoring program\n",
            "who is your audience?   entrepeneurs \n",
            "what is the problem you are trying to solve?   launch new start ups\n",
            "What is your secret sauce? That which differentiates you?   shared equity that encourages peer support. \n",
            "My company, Founder Institute , is developing training and mentoring program to help entrepeneurs , launch new start ups with shared equity that encourages peer support. .\n"
          ]
        }
      ],
      "source": [
        "company = input(\"give me the name of the company:   \") \n",
        "offering = input(\"define what your business will be offering:   \")\n",
        "audience = input(\"who is your audience?   \")\n",
        "solve_problem = input(\"what is the problem you are trying to solve?   \")\n",
        "secret_sauce = input(\"What is your secret sauce? That which differentiates you?   \")\n",
        "\n",
        "print(f\"My company, {company} , is developing {offering} to help {audience}, {solve_problem} with {secret_sauce}.\")"
      ]
    },
    {
      "cell_type": "code",
      "execution_count": null,
      "id": "54e3e6b3",
      "metadata": {
        "id": "54e3e6b3"
      },
      "outputs": [],
      "source": [
        ""
      ]
    },
    {
      "cell_type": "markdown",
      "id": "c0528989",
      "metadata": {
        "id": "c0528989"
      },
      "source": [
        "# Advanced Review Exercise #2\n",
        "\n",
        "Create a program where the user can play a game of rock, paper, scissors against a computer. Set a play choice (rock, paper, or scissors) for the computer player and during the program, request for the user to input their play choice.\n",
        "\n",
        "The rules in Rock, Paper, Scissors are:\n",
        "\n",
        "Rock beats scissors\n",
        "Scissors beats paper\n",
        "Paper beats rock\n",
        "If the user wins, then display \"You win!\" If they lose against the computer, then display \"You lose.\" If the computer and the user have the same play choice, display \"It's a draw.\"\n",
        "\n",
        "<b>BONUS</b>: Randomize the play choice for the computer (hint: Python has a library called random). Also ask the user if they would like to play again. If they do, start the game again but if not, thank the user for playing the game."
      ]
    },
    {
      "cell_type": "code",
      "execution_count": 3,
      "id": "b9be7052",
      "metadata": {
        "colab": {
          "base_uri": "https://localhost:8080/"
        },
        "id": "b9be7052",
        "outputId": "08602e6e-37cb-41d0-c895-bb6cbead1fa6"
      },
      "outputs": [
        {
          "output_type": "stream",
          "name": "stdout",
          "text": [
            "Enter rock, paper, or scissors:   paper\n",
            "Your choice: paper & Computer's choice: scissors \n",
            "You lose!\n"
          ]
        }
      ],
      "source": [
        "import random \n",
        "\n",
        "user_move = input(\"Enter rock, paper, or scissors:   \")\n",
        "computer_options = [\"rock\", \"paper\", \"scissors\"]\n",
        "computer_move = random.choice(computer_options)\n",
        "\n",
        "print(f\"Your choice: {user_move} & Computer's choice: {computer_move} \")\n",
        "\n",
        "if user_move == computer_move: \n",
        "  print(f\"It's a draw!\") \n",
        "\n",
        "elif user_move == \"rock\": \n",
        "  if computer_move == \"scissors\": \n",
        "    print(\"Your win!\")\n",
        "  else: \n",
        "    print(\"You lose!\")\n",
        "\n",
        "elif user_move == \"scissors\": \n",
        "  if computer_move == \"paper\": \n",
        "    print(\"Your win!\")\n",
        "  else: \n",
        "    print(\"You lose!\")\n",
        "    \n",
        "elif user_move == \"paper\": \n",
        "  if computer_move == \"Rock\": \n",
        "    print(\"Your win!\")\n",
        "  else: \n",
        "    print(\"You lose!\")"
      ]
    },
    {
      "cell_type": "markdown",
      "id": "2ac716f5",
      "metadata": {
        "id": "2ac716f5"
      },
      "source": [
        "# Advanced Review #3\n",
        "\n",
        "Create a program similar to the gameshow \"Who Wants to Be a Millionaire!\". Start by asking the user for their name, greeting them, and using their specific name throughout the program. \n",
        "\n",
        "Create a trivia program where a user is presented with a series of questions and asked to enter a response; if the response if correct, the user gains 100 points; if the response is incorrect, the user gets an \"X\" and does not gain any additional points. If the user gets 3 X's, they lose! Ask the user at least 15 questions. At the end of the game, calculate the users total score and present the answer to the user. \n",
        "\n",
        "Use the following source for trivia questions: https://www.opinionstage.com/blog/trivia-questions/"
      ]
    },
    {
      "cell_type": "code",
      "execution_count": 4,
      "id": "75c925b8",
      "metadata": {
        "colab": {
          "base_uri": "https://localhost:8080/"
        },
        "id": "75c925b8",
        "outputId": "0e4bf6ee-bc36-4431-9ac0-1a716f1cd53a"
      },
      "outputs": [
        {
          "output_type": "stream",
          "name": "stdout",
          "text": [
            "what is your name?Joe\n",
            "hello Joe, welcome to the game! \n"
          ]
        }
      ],
      "source": [
        "username = input(\"what is your name?    \")\n",
        "print(f\"hello {username}, welcome to the game! \")"
      ]
    },
    {
      "cell_type": "code",
      "execution_count": null,
      "id": "d98f644a",
      "metadata": {
        "id": "d98f644a"
      },
      "outputs": [],
      "source": [
        ""
      ]
    }
  ],
  "metadata": {
    "kernelspec": {
      "display_name": "Python 3",
      "language": "python",
      "name": "python3"
    },
    "language_info": {
      "codemirror_mode": {
        "name": "ipython",
        "version": 3
      },
      "file_extension": ".py",
      "mimetype": "text/x-python",
      "name": "python",
      "nbconvert_exporter": "python",
      "pygments_lexer": "ipython3",
      "version": "3.8.8"
    },
    "colab": {
      "name": "Walter Suarez - Python Review - Part 2.ipynb",
      "provenance": []
    }
  },
  "nbformat": 4,
  "nbformat_minor": 5
}