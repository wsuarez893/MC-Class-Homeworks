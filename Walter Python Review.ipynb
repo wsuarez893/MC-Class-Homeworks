{
 "cells": [
  {
   "cell_type": "markdown",
   "id": "d50a2161",
   "metadata": {},
   "source": [
    "# Python Review #1\n",
    "\n",
    "Using what you learned in the modules, answer the questions below. Take your time and use all the information in the modules as your guide and resource. This isn't about memorization - this is about practicing skills! Good Luck!"
   ]
  },
  {
   "cell_type": "markdown",
   "id": "25a8ea5e",
   "metadata": {},
   "source": [
    "## Module 1 Review"
   ]
  },
  {
   "cell_type": "markdown",
   "id": "68af75a9",
   "metadata": {},
   "source": [
    "#### COMMENTS\n",
    "\n",
    "Comments are not executed with the rest of the code when you run the cell. These are notes that give context to the code. "
   ]
  },
  {
   "cell_type": "markdown",
   "id": "03b7555a",
   "metadata": {},
   "source": [
    "1. Open any book, document, brochure, email around you. Take the first two sentences you find. Write the two sentences in a cell below. Assign one sentence to a variable name (save it as a string) and make the other sentence a comment. Run the cell. \n",
    "2. Switch the sentences (the first sentence is now a comment, the second sentence is now the string) and re-run the cell."
   ]
  },
  {
   "cell_type": "code",
   "execution_count": 5,
   "id": "588eaf65",
   "metadata": {},
   "outputs": [
    {
     "name": "stdout",
     "output_type": "stream",
     "text": [
      "does anyone want to come to Happy hour tomorrow?\n"
     ]
    }
   ],
   "source": [
    "HappyHour = \"does anyone want to come to Happy hour tomorrow?\"\n",
    "#I think the best area to do this is DupontCircle\"\n",
    "print(HappyHour)"
   ]
  },
  {
   "cell_type": "code",
   "execution_count": 6,
   "id": "bba581f5",
   "metadata": {},
   "outputs": [
    {
     "name": "stdout",
     "output_type": "stream",
     "text": [
      "I think the best area to do this is DupontCircle\n"
     ]
    }
   ],
   "source": [
    "#does anyone want to come to Happy hour tomorrow?#\n",
    "Dupont = \"I think the best area to do this is DupontCircle\"\n",
    "print(Dupont)"
   ]
  },
  {
   "cell_type": "markdown",
   "id": "17740879",
   "metadata": {},
   "source": [
    "#### DATA TYPES \n",
    "\n",
    "There are three data types that we will use continuously - integer, float, string. Each cell below includes one of these three data types. Using a comment, write the type of data in each cell next to the value. "
   ]
  },
  {
   "cell_type": "code",
   "execution_count": 7,
   "id": "5a62d75a",
   "metadata": {},
   "outputs": [
    {
     "data": {
      "text/plain": [
       "str"
      ]
     },
     "execution_count": 7,
     "metadata": {},
     "output_type": "execute_result"
    }
   ],
   "source": [
    "type(\"Hello\") #str"
   ]
  },
  {
   "cell_type": "code",
   "execution_count": 8,
   "id": "450288c5",
   "metadata": {},
   "outputs": [
    {
     "data": {
      "text/plain": [
       "int"
      ]
     },
     "execution_count": 8,
     "metadata": {},
     "output_type": "execute_result"
    }
   ],
   "source": [
    "type(156) #int"
   ]
  },
  {
   "cell_type": "code",
   "execution_count": 9,
   "id": "88978aba",
   "metadata": {},
   "outputs": [
    {
     "data": {
      "text/plain": [
       "str"
      ]
     },
     "execution_count": 9,
     "metadata": {},
     "output_type": "execute_result"
    }
   ],
   "source": [
    "type(\"W45\") #str"
   ]
  },
  {
   "cell_type": "code",
   "execution_count": 10,
   "id": "3377e32b",
   "metadata": {},
   "outputs": [
    {
     "data": {
      "text/plain": [
       "float"
      ]
     },
     "execution_count": 10,
     "metadata": {},
     "output_type": "execute_result"
    }
   ],
   "source": [
    "type(12.567) #float"
   ]
  },
  {
   "cell_type": "code",
   "execution_count": 11,
   "id": "a26454e1",
   "metadata": {},
   "outputs": [
    {
     "data": {
      "text/plain": [
       "str"
      ]
     },
     "execution_count": 11,
     "metadata": {},
     "output_type": "execute_result"
    }
   ],
   "source": [
    "type(\"198 Spring Street, San Deigo, CA\") #str"
   ]
  },
  {
   "cell_type": "code",
   "execution_count": 12,
   "id": "e3739e97",
   "metadata": {},
   "outputs": [
    {
     "data": {
      "text/plain": [
       "float"
      ]
     },
     "execution_count": 12,
     "metadata": {},
     "output_type": "execute_result"
    }
   ],
   "source": [
    "type(1.87) #float"
   ]
  },
  {
   "cell_type": "code",
   "execution_count": 13,
   "id": "6d760ee7",
   "metadata": {},
   "outputs": [
    {
     "data": {
      "text/plain": [
       "float"
      ]
     },
     "execution_count": 13,
     "metadata": {},
     "output_type": "execute_result"
    }
   ],
   "source": [
    "type(0.00000435) #float"
   ]
  },
  {
   "cell_type": "code",
   "execution_count": 14,
   "id": "64358c93",
   "metadata": {},
   "outputs": [
    {
     "data": {
      "text/plain": [
       "str"
      ]
     },
     "execution_count": 14,
     "metadata": {},
     "output_type": "execute_result"
    }
   ],
   "source": [
    "type(\"628\") #628"
   ]
  },
  {
   "cell_type": "code",
   "execution_count": 15,
   "id": "835878ba",
   "metadata": {},
   "outputs": [
    {
     "data": {
      "text/plain": [
       "float"
      ]
     },
     "execution_count": 15,
     "metadata": {},
     "output_type": "execute_result"
    }
   ],
   "source": [
    "type(1.111111114) #float"
   ]
  },
  {
   "cell_type": "code",
   "execution_count": 16,
   "id": "14b73147",
   "metadata": {},
   "outputs": [
    {
     "data": {
      "text/plain": [
       "int"
      ]
     },
     "execution_count": 16,
     "metadata": {},
     "output_type": "execute_result"
    }
   ],
   "source": [
    "type(4560886543) #int"
   ]
  },
  {
   "cell_type": "markdown",
   "id": "08e1fea6",
   "metadata": {},
   "source": [
    "#### VARIABLES\n",
    "\n",
    "Variables hold information or a data value. To assign a value to a variable, use a single \"=\". Variables should be given meaningful names, can start with a letter or underscore (no numbers), and should follow <b>CamelType</b> or <b>snake_type</b> formatting. \n",
    "\n",
    "1. Write your birthday in longform (Month Day, Year) and save the value to a variable. Choose an appropriate name. \n",
    "2. Write the name of your favorite book. Save the value to a variable. Choose an appropriate name. \n",
    "3. Write the number of times you've eaten pizza in the past two weeks (0 can be an answer). Save the value to a variable. Choose an appropriate name. \n",
    "4. Write a float value with at least three digits after the decimal point. Save the value to a variable. Choose an appropriate name.\n",
    "5. Pick two additional sentences from the item referenced in the comments section. Write out the sentences and save them to a variable. Choose an appropriate name."
   ]
  },
  {
   "cell_type": "code",
   "execution_count": 18,
   "id": "062d9d1b",
   "metadata": {},
   "outputs": [],
   "source": [
    "Walterbday = (\"March 8, 1993\")\n",
    "Favbook = \"La Palabra del Mudo\"\n",
    "Pizzaeatin = \"0\"\n",
    "Randomfloat = float(3.234)\n",
    "HappyHour = \"does anyone want to come to Happy hour tomorrow?\"\n",
    "Dupont = \"I think the best area to do this is DupontCircle\""
   ]
  },
  {
   "cell_type": "markdown",
   "id": "86d96a13",
   "metadata": {},
   "source": [
    "#### PRINT AND TYPE FUNCTIONS\n",
    "\n",
    "The print function is crucial to your python knowledge. The print() function allows you to return a specific item, statement, word, number, etc. It is used to return (print, output, etc) information. Using all the variables you created in the step above, print each one in an individual cell. \n",
    "\n",
    "The type function allows you to return the type of data saved to a specific variable. Use the type() function to determine the type of data stored to each of your variables. "
   ]
  },
  {
   "cell_type": "code",
   "execution_count": 20,
   "id": "987beb96",
   "metadata": {},
   "outputs": [
    {
     "name": "stdout",
     "output_type": "stream",
     "text": [
      "March 8, 1993\n",
      "La Palabra del Mudo\n",
      "0\n",
      "3.234\n",
      "does anyone want to come to Happy hour tomorrow?\n",
      "I think the best area to do this is DupontCircle\n"
     ]
    }
   ],
   "source": [
    "print(Walterbday)\n",
    "print(Favbook)\n",
    "print(Pizzaeatin)\n",
    "print(Randomfloat)\n",
    "print(HappyHour)\n",
    "print(Dupont)"
   ]
  },
  {
   "cell_type": "markdown",
   "id": "aeae11a2",
   "metadata": {},
   "source": [
    "#### ARITHMETIC OPERATORS\n",
    "\n",
    "Arithmetic operators allow you to do simple math with Python. Operators include: \n",
    "\n",
    "    +  : addition\n",
    "    -  : subtraction\n",
    "    *  : multiplication\n",
    "    /  : division\n",
    "    %  : modulo (finds the remainder of a division)\n",
    "    ** : exponent\n",
    "    // : floor division\n",
    "    \n",
    "In the cells below, insert any of the above operators to complete the equation. Print the result of the equation. "
   ]
  },
  {
   "cell_type": "code",
   "execution_count": 23,
   "id": "39040a42",
   "metadata": {},
   "outputs": [
    {
     "data": {
      "text/plain": [
       "11"
      ]
     },
     "execution_count": 23,
     "metadata": {},
     "output_type": "execute_result"
    }
   ],
   "source": [
    "9 + 2"
   ]
  },
  {
   "cell_type": "code",
   "execution_count": 24,
   "id": "10556873",
   "metadata": {},
   "outputs": [
    {
     "data": {
      "text/plain": [
       "111.0"
      ]
     },
     "execution_count": 24,
     "metadata": {},
     "output_type": "execute_result"
    }
   ],
   "source": [
    "189.0 - 78"
   ]
  },
  {
   "cell_type": "code",
   "execution_count": 25,
   "id": "08146d84",
   "metadata": {},
   "outputs": [
    {
     "data": {
      "text/plain": [
       "6"
      ]
     },
     "execution_count": 25,
     "metadata": {},
     "output_type": "execute_result"
    }
   ],
   "source": [
    "3 * 2"
   ]
  },
  {
   "cell_type": "code",
   "execution_count": 26,
   "id": "f7078161",
   "metadata": {},
   "outputs": [
    {
     "data": {
      "text/plain": [
       "0.375"
      ]
     },
     "execution_count": 26,
     "metadata": {},
     "output_type": "execute_result"
    }
   ],
   "source": [
    "3 / 8"
   ]
  },
  {
   "cell_type": "code",
   "execution_count": 27,
   "id": "dab7ca1c",
   "metadata": {},
   "outputs": [
    {
     "data": {
      "text/plain": [
       "999.0027"
      ]
     },
     "execution_count": 27,
     "metadata": {},
     "output_type": "execute_result"
    }
   ],
   "source": [
    "999.0027 % 2736.83"
   ]
  },
  {
   "cell_type": "code",
   "execution_count": 28,
   "id": "fc2f6a96",
   "metadata": {},
   "outputs": [
    {
     "data": {
      "text/plain": [
       "286296647198568771733609157020113746343214564499561381888"
      ]
     },
     "execution_count": 28,
     "metadata": {},
     "output_type": "execute_result"
    }
   ],
   "source": [
    "488 ** 21"
   ]
  },
  {
   "cell_type": "code",
   "execution_count": 29,
   "id": "9a967945",
   "metadata": {},
   "outputs": [
    {
     "data": {
      "text/plain": [
       "1"
      ]
     },
     "execution_count": 29,
     "metadata": {},
     "output_type": "execute_result"
    }
   ],
   "source": [
    "11 // 8"
   ]
  },
  {
   "cell_type": "code",
   "execution_count": 30,
   "id": "42e5ed80",
   "metadata": {},
   "outputs": [
    {
     "data": {
      "text/plain": [
       "5"
      ]
     },
     "execution_count": 30,
     "metadata": {},
     "output_type": "execute_result"
    }
   ],
   "source": [
    "45 // 9"
   ]
  },
  {
   "cell_type": "code",
   "execution_count": 31,
   "id": "49eb7508",
   "metadata": {},
   "outputs": [
    {
     "data": {
      "text/plain": [
       "18584"
      ]
     },
     "execution_count": 31,
     "metadata": {},
     "output_type": "execute_result"
    }
   ],
   "source": [
    "808 * 23"
   ]
  },
  {
   "cell_type": "code",
   "execution_count": 32,
   "id": "f8484957",
   "metadata": {},
   "outputs": [
    {
     "data": {
      "text/plain": [
       "4.0"
      ]
     },
     "execution_count": 32,
     "metadata": {},
     "output_type": "execute_result"
    }
   ],
   "source": [
    "4 / 1"
   ]
  },
  {
   "cell_type": "code",
   "execution_count": 33,
   "id": "459eaeb0",
   "metadata": {},
   "outputs": [
    {
     "data": {
      "text/plain": [
       "0"
      ]
     },
     "execution_count": 33,
     "metadata": {},
     "output_type": "execute_result"
    }
   ],
   "source": [
    "0 ** 28"
   ]
  },
  {
   "cell_type": "code",
   "execution_count": 34,
   "id": "95bced8c",
   "metadata": {},
   "outputs": [
    {
     "data": {
      "text/plain": [
       "1417"
      ]
     },
     "execution_count": 34,
     "metadata": {},
     "output_type": "execute_result"
    }
   ],
   "source": [
    "435 + 982"
   ]
  },
  {
   "cell_type": "code",
   "execution_count": 35,
   "id": "e8528a78",
   "metadata": {},
   "outputs": [
    {
     "data": {
      "text/plain": [
       "0"
      ]
     },
     "execution_count": 35,
     "metadata": {},
     "output_type": "execute_result"
    }
   ],
   "source": [
    "6 % 3"
   ]
  },
  {
   "cell_type": "code",
   "execution_count": 36,
   "id": "adf2aa7d",
   "metadata": {},
   "outputs": [
    {
     "data": {
      "text/plain": [
       "1.0"
      ]
     },
     "execution_count": 36,
     "metadata": {},
     "output_type": "execute_result"
    }
   ],
   "source": [
    "1 ** 1.5"
   ]
  },
  {
   "cell_type": "code",
   "execution_count": 37,
   "id": "636e2e43",
   "metadata": {},
   "outputs": [
    {
     "data": {
      "text/plain": [
       "63"
      ]
     },
     "execution_count": 37,
     "metadata": {},
     "output_type": "execute_result"
    }
   ],
   "source": [
    "65 - 2"
   ]
  },
  {
   "cell_type": "code",
   "execution_count": 38,
   "id": "a6a68f4d",
   "metadata": {},
   "outputs": [
    {
     "data": {
      "text/plain": [
       "1000000000"
      ]
     },
     "execution_count": 38,
     "metadata": {},
     "output_type": "execute_result"
    }
   ],
   "source": [
    "10 ** 9"
   ]
  },
  {
   "cell_type": "code",
   "execution_count": 39,
   "id": "a57f3f9a",
   "metadata": {},
   "outputs": [
    {
     "data": {
      "text/plain": [
       "248"
      ]
     },
     "execution_count": 39,
     "metadata": {},
     "output_type": "execute_result"
    }
   ],
   "source": [
    "245 + 3"
   ]
  },
  {
   "cell_type": "code",
   "execution_count": 41,
   "id": "84b3d549",
   "metadata": {},
   "outputs": [
    {
     "data": {
      "text/plain": [
       "0"
      ]
     },
     "execution_count": 41,
     "metadata": {},
     "output_type": "execute_result"
    }
   ],
   "source": [
    "33 * 0"
   ]
  },
  {
   "cell_type": "code",
   "execution_count": 42,
   "id": "a58d40d6",
   "metadata": {},
   "outputs": [
    {
     "data": {
      "text/plain": [
       "7"
      ]
     },
     "execution_count": 42,
     "metadata": {},
     "output_type": "execute_result"
    }
   ],
   "source": [
    "9 - 2"
   ]
  },
  {
   "cell_type": "code",
   "execution_count": 43,
   "id": "d0db87ca",
   "metadata": {},
   "outputs": [
    {
     "data": {
      "text/plain": [
       "167"
      ]
     },
     "execution_count": 43,
     "metadata": {},
     "output_type": "execute_result"
    }
   ],
   "source": [
    "89 + 78"
   ]
  },
  {
   "cell_type": "markdown",
   "id": "4847f855",
   "metadata": {},
   "source": [
    "#### COMPOUND OPERATORS\n",
    "\n",
    "Change the value of a variable and re-assign the new value to the same variable. This method saves you a step; all compound operators follow the same pattern:\n",
    "    \n",
    "    variable_a = variable_a + 10 <<<--->>> variable_a += 10\n",
    "    \n",
    "variable_a is now equal to the original value of variable_a plus 10. Compound operators include:\n",
    "\n",
    "    +=  : a = a + b\n",
    "    -=  : a = a - b\n",
    "    *=  : a = a * b\n",
    "    /=  : a = a / b\n",
    "    %=  : a = a % b\n",
    "    **= : a = a ** b\n",
    "    //= : a = a // b\n",
    "    \n",
    "Convert all the equations below to use compound operators. "
   ]
  },
  {
   "cell_type": "code",
   "execution_count": 60,
   "id": "e404834e",
   "metadata": {},
   "outputs": [
    {
     "name": "stdout",
     "output_type": "stream",
     "text": [
      "4\n"
     ]
    }
   ],
   "source": [
    "num1 = 9 \n",
    "num1 //= 2\n",
    "print(num1)"
   ]
  },
  {
   "cell_type": "code",
   "execution_count": 61,
   "id": "822faf79",
   "metadata": {},
   "outputs": [
    {
     "name": "stdout",
     "output_type": "stream",
     "text": [
      "267.0\n"
     ]
    }
   ],
   "source": [
    "num2 = 189.0\n",
    "num2 += 78\n",
    "print(num2)"
   ]
  },
  {
   "cell_type": "code",
   "execution_count": 62,
   "id": "6258bd09",
   "metadata": {},
   "outputs": [
    {
     "name": "stdout",
     "output_type": "stream",
     "text": [
      "1\n"
     ]
    }
   ],
   "source": [
    "num3 = 3\n",
    "num3 -= 2\n",
    "print(num3)"
   ]
  },
  {
   "cell_type": "code",
   "execution_count": 63,
   "id": "4f75b3dd",
   "metadata": {},
   "outputs": [
    {
     "name": "stdout",
     "output_type": "stream",
     "text": [
      "6\n"
     ]
    }
   ],
   "source": [
    "num4= 5 \n",
    "num4 += 1\n",
    "print(num4)"
   ]
  },
  {
   "cell_type": "code",
   "execution_count": 64,
   "id": "7ccd412b",
   "metadata": {},
   "outputs": [
    {
     "name": "stdout",
     "output_type": "stream",
     "text": [
      "0\n"
     ]
    }
   ],
   "source": [
    "num5= 8 \n",
    "num5 *= 0\n",
    "print(num5)"
   ]
  },
  {
   "cell_type": "code",
   "execution_count": 65,
   "id": "85927104",
   "metadata": {},
   "outputs": [
    {
     "name": "stdout",
     "output_type": "stream",
     "text": [
      "0\n"
     ]
    }
   ],
   "source": [
    "num6 = 4 \n",
    "num6 %= 1\n",
    "print(num6)"
   ]
  },
  {
   "cell_type": "code",
   "execution_count": 66,
   "id": "c98f0c5b",
   "metadata": {},
   "outputs": [
    {
     "name": "stdout",
     "output_type": "stream",
     "text": [
      "2\n"
     ]
    }
   ],
   "source": [
    "num7 = 5 \n",
    "num7 //= 2\n",
    "print(num7)"
   ]
  },
  {
   "cell_type": "code",
   "execution_count": 67,
   "id": "5976228b",
   "metadata": {},
   "outputs": [
    {
     "name": "stdout",
     "output_type": "stream",
     "text": [
      "2.0\n"
     ]
    }
   ],
   "source": [
    "num8 = 6 \n",
    "num8 /= 3\n",
    "print(num8)"
   ]
  },
  {
   "cell_type": "code",
   "execution_count": 68,
   "id": "42dc1e45",
   "metadata": {},
   "outputs": [
    {
     "name": "stdout",
     "output_type": "stream",
     "text": [
      "18\n"
     ]
    }
   ],
   "source": [
    "num9 = 9 \n",
    "num9 *= 2\n",
    "print(num9)"
   ]
  },
  {
   "cell_type": "code",
   "execution_count": 69,
   "id": "c50af2d5",
   "metadata": {},
   "outputs": [
    {
     "name": "stdout",
     "output_type": "stream",
     "text": [
      "9\n"
     ]
    }
   ],
   "source": [
    "num10=10 \n",
    "num10 -= 1\n",
    "print(num10)"
   ]
  },
  {
   "cell_type": "code",
   "execution_count": 70,
   "id": "ebad1582",
   "metadata": {},
   "outputs": [
    {
     "name": "stdout",
     "output_type": "stream",
     "text": [
      "625\n"
     ]
    }
   ],
   "source": [
    "num11 = 5 \n",
    "num11 **= 4\n",
    "print(num11)"
   ]
  },
  {
   "cell_type": "code",
   "execution_count": 71,
   "id": "24f4ccb5",
   "metadata": {},
   "outputs": [
    {
     "name": "stdout",
     "output_type": "stream",
     "text": [
      "6\n"
     ]
    }
   ],
   "source": [
    "num12 = 8 \n",
    "num12 -= 2\n",
    "print(num12)"
   ]
  },
  {
   "cell_type": "code",
   "execution_count": 72,
   "id": "f2b5e89e",
   "metadata": {},
   "outputs": [
    {
     "name": "stdout",
     "output_type": "stream",
     "text": [
      "12\n"
     ]
    }
   ],
   "source": [
    "num13 = 10 \n",
    "num13 += 2\n",
    "print(num13)"
   ]
  },
  {
   "cell_type": "code",
   "execution_count": 73,
   "id": "1a964bed",
   "metadata": {},
   "outputs": [
    {
     "name": "stdout",
     "output_type": "stream",
     "text": [
      "18.7\n"
     ]
    }
   ],
   "source": [
    "num14 = 11 \n",
    "num14 *= 1.7\n",
    "print(num14)"
   ]
  },
  {
   "cell_type": "code",
   "execution_count": 74,
   "id": "cef300d5",
   "metadata": {},
   "outputs": [
    {
     "name": "stdout",
     "output_type": "stream",
     "text": [
      "6\n"
     ]
    }
   ],
   "source": [
    "num15= 9 \n",
    "num15 -= 3\n",
    "print(num15)"
   ]
  },
  {
   "cell_type": "code",
   "execution_count": 75,
   "id": "4ac33b3d",
   "metadata": {},
   "outputs": [
    {
     "name": "stdout",
     "output_type": "stream",
     "text": [
      "2401\n"
     ]
    }
   ],
   "source": [
    "num16 = 7 \n",
    "num16 **= 4\n",
    "print(num16)"
   ]
  },
  {
   "cell_type": "code",
   "execution_count": 76,
   "id": "6623aad6",
   "metadata": {},
   "outputs": [
    {
     "name": "stdout",
     "output_type": "stream",
     "text": [
      "1\n"
     ]
    }
   ],
   "source": [
    "num17 = 11 \n",
    "num17 %= 2\n",
    "print(num17)"
   ]
  },
  {
   "cell_type": "code",
   "execution_count": 77,
   "id": "73fc9417",
   "metadata": {},
   "outputs": [
    {
     "name": "stdout",
     "output_type": "stream",
     "text": [
      "2.0\n"
     ]
    }
   ],
   "source": [
    "num18=8 \n",
    "num18 /= 4\n",
    "print(num18)"
   ]
  },
  {
   "cell_type": "code",
   "execution_count": 78,
   "id": "a7b938dc",
   "metadata": {},
   "outputs": [
    {
     "name": "stdout",
     "output_type": "stream",
     "text": [
      "25\n"
     ]
    }
   ],
   "source": [
    "num19 = 5 \n",
    "num19 *= 5\n",
    "print(num19)"
   ]
  },
  {
   "cell_type": "code",
   "execution_count": 79,
   "id": "0d726462",
   "metadata": {},
   "outputs": [
    {
     "name": "stdout",
     "output_type": "stream",
     "text": [
      "2\n"
     ]
    }
   ],
   "source": [
    "num20 = 7 \n",
    "num20 %= 5\n",
    "print(num20)"
   ]
  },
  {
   "cell_type": "code",
   "execution_count": 80,
   "id": "8b14a330",
   "metadata": {},
   "outputs": [
    {
     "name": "stdout",
     "output_type": "stream",
     "text": [
      "32768\n"
     ]
    }
   ],
   "source": [
    "num21 = 8\n",
    "num21 **= 5\n",
    "print(num21)"
   ]
  },
  {
   "cell_type": "code",
   "execution_count": 81,
   "id": "22f9b389",
   "metadata": {},
   "outputs": [
    {
     "name": "stdout",
     "output_type": "stream",
     "text": [
      "4\n"
     ]
    }
   ],
   "source": [
    "num22 = 12\n",
    "num22 //= 3\n",
    "print(num22)"
   ]
  },
  {
   "cell_type": "markdown",
   "id": "ded228b7",
   "metadata": {},
   "source": [
    "#### ESCAPE CHARACTERS\n",
    "\n",
    "An escape character allows you to include special characters in a string that would otherwise return an error. To use escape characters, add a backslash (\\) before the character you want to escape:\n",
    "\n",
    "    \" \\ \" use a single backslash to add apostrophe's in strings \n",
    "    \" \\n \" use to insert new lines in your strings\n",
    "    \" \\t \" use to insert tab spaces into your strings\n",
    "    \n",
    "Fix the code below to insert the correct escape character into the string. "
   ]
  },
  {
   "cell_type": "code",
   "execution_count": 95,
   "id": "f32087c4",
   "metadata": {},
   "outputs": [
    {
     "name": "stdout",
     "output_type": "stream",
     "text": [
      "'Hello, whats up '\n"
     ]
    }
   ],
   "source": [
    "print(\"\\'Hello, whats up \\'\")"
   ]
  },
  {
   "cell_type": "code",
   "execution_count": 87,
   "id": "f95259b6",
   "metadata": {},
   "outputs": [
    {
     "name": "stdout",
     "output_type": "stream",
     "text": [
      "\n",
      " Hello, I wish the first hello was on its own line!\n"
     ]
    }
   ],
   "source": [
    "print(\"\\n Hello, I wish the first hello was on its own line!\")"
   ]
  },
  {
   "cell_type": "code",
   "execution_count": 86,
   "id": "4f91339d",
   "metadata": {},
   "outputs": [
    {
     "name": "stdout",
     "output_type": "stream",
     "text": [
      "\t Hello I wish there was a long space after the first Hello.\n"
     ]
    }
   ],
   "source": [
    "print(\"\\t Hello I wish there was a long space after the first Hello.\")"
   ]
  },
  {
   "cell_type": "markdown",
   "id": "26b9ffa2",
   "metadata": {},
   "source": [
    "#### FORMATTED STRINGS PT 1\n",
    "\n",
    "Formatted strings allow you to return strings with specific formatting. A formatted string uses the following code to product output that looks a certain way:\n",
    "\n",
    "    {}  : a place holder\n",
    "\n",
    "The placeholder is used to insert the value of a specific variable into the string. All you need to do is insert the name of the variable and whatever value is assigned to that variable will show up when you print the statement. Complete the code in the cells below to print out the proper formatted strings. "
   ]
  },
  {
   "cell_type": "code",
   "execution_count": 97,
   "id": "5a18b3b4",
   "metadata": {},
   "outputs": [
    {
     "name": "stdout",
     "output_type": "stream",
     "text": [
      "Hello, Jasmine\n"
     ]
    }
   ],
   "source": [
    "x = \"Jasmine\"\n",
    "\n",
    "## complete the code below to print the statement \"Hello, [name]!\"\n",
    "\n",
    "print(f\"Hello, {x}\")"
   ]
  },
  {
   "cell_type": "code",
   "execution_count": 98,
   "id": "ceed705f",
   "metadata": {},
   "outputs": [
    {
     "name": "stdout",
     "output_type": "stream",
     "text": [
      "My favorite animal is a Cat\n"
     ]
    }
   ],
   "source": [
    "x = \"Cat\"\n",
    "\n",
    "## complete the code below to print the statement \"My favorite animal is a Cat\"\n",
    "\n",
    "print(f\"My favorite animal is a {x}\")"
   ]
  },
  {
   "cell_type": "code",
   "execution_count": null,
   "id": "1bcc9a0d",
   "metadata": {},
   "outputs": [],
   "source": [
    "x = \"Hank\"\n",
    "\n",
    "## complete the code below to print the statement \"My favorite actor is Tom Hanks\"\n",
    "\n",
    "print(f\"My favorite actor is Tom {x}\")"
   ]
  },
  {
   "cell_type": "code",
   "execution_count": 101,
   "id": "251f7329",
   "metadata": {},
   "outputs": [
    {
     "name": "stdout",
     "output_type": "stream",
     "text": [
      "Let's play chess, which color do you want to be? Black or White?\n"
     ]
    }
   ],
   "source": [
    "x = \"Black\"\n",
    "y = \"White\"\n",
    "\n",
    "## complete the code below to print the statement \"Let's play chess, which color do you want to be? Black or White?\"\n",
    "\n",
    "print(f\"Let's play chess, which color do you want to be? {x} or {y}?\")"
   ]
  },
  {
   "cell_type": "code",
   "execution_count": 102,
   "id": "a90dee16",
   "metadata": {},
   "outputs": [
    {
     "name": "stdout",
     "output_type": "stream",
     "text": [
      "he three cities I visited during my vacation were Paris, Dublin, and Bristol\n"
     ]
    }
   ],
   "source": [
    "a = \"Paris\"\n",
    "b = \"Dublin\"\n",
    "c = \"Bristol\"\n",
    "\n",
    "## complete the code below to print the statement \"The three cities I visited during my vacation were Paris, Bristol, and Dublin.\"\n",
    "\n",
    "print(f\"he three cities I visited during my vacation were {a}, {b}, and {c}\")"
   ]
  },
  {
   "cell_type": "markdown",
   "id": "c43d80dc",
   "metadata": {},
   "source": [
    "#### FORMATTED STRINGS PT 2\n",
    "\n",
    "Formatted strings allow you to return strings with specific formatting. A formatted string uses the following code to product output that looks a certain way:\n",
    "\n",
    "    ,   : shows commas in thousands place\n",
    "    .2f : shows 2 digits after the decimal point\n",
    "    .2% : shows 2 digits after the decimal point in percentage (%)\n",
    "\n",
    "The numeric formatting options allow you to return a number with a specific format. Typically, this includes adding a comma in the thousands place and truncating the amount of digits found after a decimal point. Complete the following questions in the cells below:\n",
    "\n",
    "1. Print the following number with commas and 1 number after the decimal: 49792862.39231\n",
    "2. Print the following number with commas and 3 number after the decimal: 3999876.009\n",
    "3. Print the following number as a percentage with 2 numbers after the decimal: .03974\n",
    "4. Print the following number with commas: 1000000000000000000\n",
    "5. Write the code to produce this output: 7, 890.00\n",
    "6. Write the code to product this output: 567.00045\n",
    "7. Print the following number with commas and no numbers after the decimal: 3450000"
   ]
  },
  {
   "cell_type": "code",
   "execution_count": 115,
   "id": "ec1a4d0a",
   "metadata": {},
   "outputs": [
    {
     "name": "stdout",
     "output_type": "stream",
     "text": [
      "49,792,862.4\n",
      "3,999,876.009\n",
      "3.97%\n",
      "1,000,000,000,000,000,000\n",
      "7,890.00\n",
      "567.00045\n",
      "3,450,000\n"
     ]
    }
   ],
   "source": [
    "#1\n",
    "amt1 = 49792862.39231\n",
    "print(f\"{amt1:,.1f}\")\n",
    "\n",
    "#2\n",
    "amt2 = 3999876.009\n",
    "print(f\"{amt2:,.3f}\")\n",
    "\n",
    "#3\n",
    "amt3 = .03974\n",
    "print(f\"{amt3:,.2%}\")\n",
    "\n",
    "#4\n",
    "amt4 = 1000000000000000000\n",
    "print(f\"{amt4:,}\")\n",
    "\n",
    "#5\n",
    "amt5 = 7890   #this is the code to produce the output for 5. \n",
    "print(f\"{amt5:,.2f}\")\n",
    "\n",
    "#6\n",
    "amt6 = 567.00045234234234234\n",
    "print(f\"{amt6:.5f}\")\n",
    "\n",
    "#7\n",
    "amt7 = 3450000\n",
    "print(f\"{amt7:,.0f}\")\n"
   ]
  },
  {
   "cell_type": "markdown",
   "id": "5675f4cf",
   "metadata": {},
   "source": [
    "#### INPUT FUNCTION \n",
    "\n",
    "The input function directly asks the user (you) for information. \n",
    "\n",
    "    input(tell the user what you want them to do!)\n",
    "    \n",
    "1. Use the input() function to find a users name\n",
    "2. Use the input() function to find a users address\n",
    "3. Use the input() function to find a users phone number\n",
    "4. Use the input() function to find a users age\n",
    "5. Using a formatted string, put all this information together and print a statement using what you learned about the user. "
   ]
  },
  {
   "cell_type": "code",
   "execution_count": 118,
   "id": "9213c2fd",
   "metadata": {},
   "outputs": [
    {
     "name": "stdout",
     "output_type": "stream",
     "text": [
      "give me your name:  Walter\n",
      "give me your address:  Rockville\n",
      "give me your phone number:  xxx-xxx-xxxx\n",
      "give me your age:  29\n",
      "Walter lives in Rockville, you can reach them at xxx-xxx-xxxx and their is 29.\n"
     ]
    }
   ],
   "source": [
    "## i'll get you started...\n",
    "\n",
    "name = input(\"give me your name:  \")\n",
    "address = input(\"give me your address:  \")\n",
    "phone = input(\"give me your phone number:  \")\n",
    "age = input(\"give me your age:  \")\n",
    "\n",
    "print(f\"{name} lives in {address}, you can reach them at {phone} and their is {age}.\")\n"
   ]
  },
  {
   "cell_type": "markdown",
   "id": "3439a3eb",
   "metadata": {},
   "source": [
    "#### DATA TYPE CONVERSION FUNCTIONS\n",
    "\n",
    "You can convert data to various types using three built-in functions. \n",
    "* the int() function turns a value into an integer\n",
    "* the float() function turns a value into a float\n",
    "* the str() function turns a value into a string\n",
    "\n",
    "Complete the code below to make the necessary changes. "
   ]
  },
  {
   "cell_type": "code",
   "execution_count": 123,
   "id": "ac1ddb88",
   "metadata": {},
   "outputs": [
    {
     "data": {
      "text/plain": [
       "187.0"
      ]
     },
     "execution_count": 123,
     "metadata": {},
     "output_type": "execute_result"
    }
   ],
   "source": [
    "x = \"187\"\n",
    "\n",
    "### convert x into a float value\n",
    "\n",
    "float(x)"
   ]
  },
  {
   "cell_type": "code",
   "execution_count": 124,
   "id": "0167e572",
   "metadata": {},
   "outputs": [
    {
     "data": {
      "text/plain": [
       "'123.56'"
      ]
     },
     "execution_count": 124,
     "metadata": {},
     "output_type": "execute_result"
    }
   ],
   "source": [
    "y = 123.56\n",
    "\n",
    "### convert y into a string value\n",
    "\n",
    "str(y)"
   ]
  },
  {
   "cell_type": "code",
   "execution_count": 125,
   "id": "1190bded",
   "metadata": {},
   "outputs": [
    {
     "data": {
      "text/plain": [
       "99.0"
      ]
     },
     "execution_count": 125,
     "metadata": {},
     "output_type": "execute_result"
    }
   ],
   "source": [
    "z = 99\n",
    "\n",
    "### convert z into a float value \n",
    "\n",
    "float(z)"
   ]
  },
  {
   "cell_type": "markdown",
   "id": "8d175867",
   "metadata": {},
   "source": [
    "# { Module 1 Quiz }"
   ]
  },
  {
   "cell_type": "markdown",
   "id": "87bbeab8",
   "metadata": {},
   "source": [
    "1. Print out your favorite snack and write a comment about what you are doing in the code. \n",
    "2. Print the sum of the following values: 3, 56, 21, 11, 7, 0, 5\n",
    "3. Print the remainder of the values 435 and 6\n",
    "4. Create a variable called 'eye color' and store your eye color to the variable. Print a sentence describing your eye color and using the variable in the sentence. \n",
    "5. Write a code to get two integers from a user. Print out their sum."
   ]
  },
  {
   "cell_type": "code",
   "execution_count": null,
   "id": "9dda6e42",
   "metadata": {},
   "outputs": [],
   "source": [
    "\"Cereal bars\" #I am typing what my favorite snack is "
   ]
  },
  {
   "cell_type": "code",
   "execution_count": 126,
   "id": "fcc209d6",
   "metadata": {},
   "outputs": [
    {
     "data": {
      "text/plain": [
       "103"
      ]
     },
     "execution_count": 126,
     "metadata": {},
     "output_type": "execute_result"
    }
   ],
   "source": [
    "3 + 56+ 21+ 11+ 7+ 0+ 5"
   ]
  },
  {
   "cell_type": "code",
   "execution_count": 127,
   "id": "4474228d",
   "metadata": {},
   "outputs": [
    {
     "data": {
      "text/plain": [
       "3"
      ]
     },
     "execution_count": 127,
     "metadata": {},
     "output_type": "execute_result"
    }
   ],
   "source": [
    "435 % 6"
   ]
  },
  {
   "cell_type": "code",
   "execution_count": 129,
   "id": "67d80096",
   "metadata": {},
   "outputs": [
    {
     "name": "stdout",
     "output_type": "stream",
     "text": [
      "My eye color is Brown\n"
     ]
    }
   ],
   "source": [
    "eye_color = \"Brown\"\n",
    "print(f\"My eye color is {eye_color}\")"
   ]
  },
  {
   "cell_type": "code",
   "execution_count": 131,
   "id": "59787d91",
   "metadata": {},
   "outputs": [
    {
     "name": "stdout",
     "output_type": "stream",
     "text": [
      "give me a number:   4\n",
      "give me a number:   5\n",
      "The sum of these numberes is 9.\n"
     ]
    }
   ],
   "source": [
    "int1 = int(input(\"give me a number:   \"))\n",
    "int2 = int(input(\"give me a number:   \"))\n",
    "\n",
    "print(f\"The sum of these numberes is {int1 + int2}.\")"
   ]
  },
  {
   "cell_type": "markdown",
   "id": "c75fba17",
   "metadata": {},
   "source": [
    "## Module 2 Review"
   ]
  },
  {
   "cell_type": "markdown",
   "id": "87b6cfcd",
   "metadata": {},
   "source": [
    "#### IMPORTING LIBRARIES\n",
    "\n",
    "A library is a specific collection of python functions. You can use these functions by first importing the library into your notebook. Once you import your library, you can give it a nickname. The nickname is optional, but it makes it easier to use (or reference) the library throughout your code. \n",
    "\n",
    "    import [ library name ]\n",
    "    \n",
    "Importing a library and assigning a nickname:\n",
    "\n",
    "    import [ library name ] as [ nickname ]\n",
    "    \n",
    "Import the library \"random\" and nickname it \"rd\". "
   ]
  },
  {
   "cell_type": "code",
   "execution_count": 133,
   "id": "3538e862",
   "metadata": {},
   "outputs": [],
   "source": [
    "import random as rd"
   ]
  },
  {
   "cell_type": "markdown",
   "id": "c6ddeed7",
   "metadata": {},
   "source": [
    "#### RANDOM NUMBER GENERATOR\n",
    "\n",
    "The random library contains a function that allows you to generate a random number. This library has two functions that are useful:\n",
    "\n",
    "    .random() : this will generate a random number \n",
    "    .randint() : this will generate a random integer within a specific range\n",
    "    \n",
    "When you want to use the function, you first have to reference the name of your library (or it's nickname) and then attach the function to the end of the library name. For example:\n",
    "\n",
    "    rd.random()\n",
    "    rd.randint() \n",
    "    rd.randint(0, 10) >>> this code will generate a random number between 0 and 10 \n",
    "\n",
    "1. Generate a random number\n",
    "2. Generate a random integer\n",
    "3. Generate a random integer between 1 and 100\n",
    "4. Generate a random integer between -10 and 10"
   ]
  },
  {
   "cell_type": "code",
   "execution_count": 139,
   "id": "e4ae5bb8",
   "metadata": {},
   "outputs": [
    {
     "name": "stdout",
     "output_type": "stream",
     "text": [
      "0.435878083856565\n",
      "381219\n",
      "21\n",
      "-9\n"
     ]
    }
   ],
   "source": [
    "print(rd.random()) #1\n",
    "print(rd.randint(45, 474758)) #2\n",
    "print(rd.randint(1,100)) #3\n",
    "print(rd.randint(-10,10)) #4"
   ]
  },
  {
   "cell_type": "markdown",
   "id": "5e925c51",
   "metadata": {},
   "source": [
    "#### LEN FUNCTION\n",
    "\n",
    "The len() function returns the length of a given value. This includes the length of a string, the amount of characters is a sentence (which also counts white spaces), the number of items in a list, etc. Complete the code below to determine the length of the following items. Before you run the code, try to guess what the length value is going to be. "
   ]
  },
  {
   "cell_type": "code",
   "execution_count": 140,
   "id": "694d46db",
   "metadata": {},
   "outputs": [
    {
     "data": {
      "text/plain": [
       "5"
      ]
     },
     "execution_count": 140,
     "metadata": {},
     "output_type": "execute_result"
    }
   ],
   "source": [
    "### what is the length of the following string:\n",
    "\n",
    "len(\"Hello\")"
   ]
  },
  {
   "cell_type": "code",
   "execution_count": 141,
   "id": "990c5881",
   "metadata": {},
   "outputs": [
    {
     "data": {
      "text/plain": [
       "6"
      ]
     },
     "execution_count": 141,
     "metadata": {},
     "output_type": "execute_result"
    }
   ],
   "source": [
    "### what is the length of the following string:\n",
    "\n",
    "len(\"123ABC\")"
   ]
  },
  {
   "cell_type": "code",
   "execution_count": 142,
   "id": "0d2e17d9",
   "metadata": {},
   "outputs": [
    {
     "data": {
      "text/plain": [
       "31"
      ]
     },
     "execution_count": 142,
     "metadata": {},
     "output_type": "execute_result"
    }
   ],
   "source": [
    "### what is the length of the following string:\n",
    "\n",
    "len(\"Hello, how are you doing today?\")"
   ]
  },
  {
   "cell_type": "code",
   "execution_count": 143,
   "id": "ef2c9c60",
   "metadata": {},
   "outputs": [
    {
     "data": {
      "text/plain": [
       "56"
      ]
     },
     "execution_count": 143,
     "metadata": {},
     "output_type": "execute_result"
    }
   ],
   "source": [
    "### what is the length of the following string:\n",
    "\n",
    "len(\"Hello, it's really nice to meet you! I hope you're well!\")"
   ]
  },
  {
   "cell_type": "code",
   "execution_count": 144,
   "id": "e5415e13",
   "metadata": {},
   "outputs": [
    {
     "data": {
      "text/plain": [
       "1"
      ]
     },
     "execution_count": 144,
     "metadata": {},
     "output_type": "execute_result"
    }
   ],
   "source": [
    "### what is the length of the following string:\n",
    "\n",
    "len(\" \")"
   ]
  },
  {
   "cell_type": "markdown",
   "id": "0d32284b",
   "metadata": {},
   "source": [
    "#### STRING METHODS\n",
    "\n",
    "There are several functions that are used specifically with strings. The most important functions to remember are:\n",
    "    \n",
    "<b> Change the Case </b>\n",
    "    \n",
    "    .title() >> change a string to title case\n",
    "    .upper() >> change a string to upper case\n",
    "    .lower() >> change a string to lower case\n",
    "    \n",
    "<b> Remove White Spaces from a String </b>\n",
    "\n",
    "    .strip() >> strip white spaces from both ends of a string\n",
    "    .rstrip() >> remove white spaces from the right-side of a string\n",
    "    .lstrip() >> remove white spaces from the left-side of a string\n",
    "    \n",
    "<b> Replace a value in a String with another value</b>\n",
    "\n",
    "    .replace() >> replace a specific character with another character\n",
    "    .replace([what you want to replace], [what to replace it with])\n",
    "    \n",
    "Complete the code below to practice the above string methods. "
   ]
  },
  {
   "cell_type": "code",
   "execution_count": 145,
   "id": "d1ecde8e",
   "metadata": {},
   "outputs": [
    {
     "data": {
      "text/plain": [
       "'George Washington'"
      ]
     },
     "execution_count": 145,
     "metadata": {},
     "output_type": "execute_result"
    }
   ],
   "source": [
    "name = \"gEOrGe washINGtoN\"\n",
    "name.title()\n",
    "## change the above string to title case"
   ]
  },
  {
   "cell_type": "code",
   "execution_count": 146,
   "id": "a342aa44",
   "metadata": {},
   "outputs": [
    {
     "data": {
      "text/plain": [
       "'hello what are you doing!'"
      ]
     },
     "execution_count": 146,
     "metadata": {},
     "output_type": "execute_result"
    }
   ],
   "source": [
    "yelling = \"HELLO WHAT ARE YOU DOING!\"\n",
    "yelling.lower()\n",
    "## change the above string to lowercase"
   ]
  },
  {
   "cell_type": "code",
   "execution_count": 147,
   "id": "f950dbc2",
   "metadata": {},
   "outputs": [
    {
     "data": {
      "text/plain": [
       "'The Great Gatsby'"
      ]
     },
     "execution_count": 147,
     "metadata": {},
     "output_type": "execute_result"
    }
   ],
   "source": [
    "book = \"the great gatsby\"\n",
    "book.title()\n",
    "## change the above string to title case"
   ]
  },
  {
   "cell_type": "code",
   "execution_count": 148,
   "id": "d94057a7",
   "metadata": {},
   "outputs": [
    {
     "data": {
      "text/plain": [
       "'New York'"
      ]
     },
     "execution_count": 148,
     "metadata": {},
     "output_type": "execute_result"
    }
   ],
   "source": [
    "city = \"nEW york\"\n",
    "city.title()\n",
    "## change the above string to uppercase"
   ]
  },
  {
   "cell_type": "code",
   "execution_count": 149,
   "id": "4da01258",
   "metadata": {},
   "outputs": [
    {
     "data": {
      "text/plain": [
       "'Not all those who wander are lost.'"
      ]
     },
     "execution_count": 149,
     "metadata": {},
     "output_type": "execute_result"
    }
   ],
   "source": [
    "quote = \"        Not all those who wander are lost.         \"\n",
    "quote.strip()\n",
    "## strip the above string of white space on each side "
   ]
  },
  {
   "cell_type": "code",
   "execution_count": 154,
   "id": "9f8e9d33",
   "metadata": {},
   "outputs": [
    {
     "data": {
      "text/plain": [
       "'Not all those who wander are lost.         '"
      ]
     },
     "execution_count": 154,
     "metadata": {},
     "output_type": "execute_result"
    }
   ],
   "source": [
    "quote = \"        Not all those who wander are lost.         \"\n",
    "quote.lstrip()\n",
    "## strip the above string of white spaces on the left side"
   ]
  },
  {
   "cell_type": "code",
   "execution_count": 155,
   "id": "3867989e",
   "metadata": {},
   "outputs": [
    {
     "data": {
      "text/plain": [
       "'        Not all those who wander are lost.'"
      ]
     },
     "execution_count": 155,
     "metadata": {},
     "output_type": "execute_result"
    }
   ],
   "source": [
    "quote = \"        Not all those who wander are lost.         \"\n",
    "quote.rstrip()\n",
    "## strip the above string of white spaces on the right side"
   ]
  },
  {
   "cell_type": "code",
   "execution_count": 156,
   "id": "e983c072",
   "metadata": {},
   "outputs": [
    {
     "data": {
      "text/plain": [
       "'four score and seven years ago...'"
      ]
     },
     "execution_count": 156,
     "metadata": {},
     "output_type": "execute_result"
    }
   ],
   "source": [
    "speech = \"4 score and seven years ago...\"\n",
    "speech.replace(\"4\",\"four\")\n",
    "## in the above string, replace the value of \"4\" with the word \"four\""
   ]
  },
  {
   "cell_type": "code",
   "execution_count": 157,
   "id": "3f2d8aff",
   "metadata": {},
   "outputs": [
    {
     "data": {
      "text/plain": [
       "'Four score and 7 years ago...'"
      ]
     },
     "execution_count": 157,
     "metadata": {},
     "output_type": "execute_result"
    }
   ],
   "source": [
    "speech = \"Four score and seven years ago...\"\n",
    "speech.replace(\"seven\",\"7\")\n",
    "## in the above string, replace the word of \"seven\" with the value \"7\""
   ]
  },
  {
   "cell_type": "code",
   "execution_count": 158,
   "id": "eb0a2616",
   "metadata": {},
   "outputs": [
    {
     "data": {
      "text/plain": [
       "'Four score and seven years ago.'"
      ]
     },
     "execution_count": 158,
     "metadata": {},
     "output_type": "execute_result"
    }
   ],
   "source": [
    "speech = \"Four score and seven years ago...\"\n",
    "speech.replace(\"...\",\".\")\n",
    "## in the above string, replace the \"...\" with a single period"
   ]
  },
  {
   "cell_type": "markdown",
   "id": "0f0bcd3a",
   "metadata": {},
   "source": [
    "#### INDEXING A STRING\n",
    "\n",
    "Strings are ordered sequences of characters and each character has a number associated with it. \n",
    "\n",
    "Indexing allows you to access individual characters in a string (or other ordered data types like a list) directly by using a numeric value, that numeric value is associated with a character/position in the string. \n",
    "\n",
    "In python, indexing is zero-based, meaning, the first character in the string has an index of 0, followed by 1, then 2, etc. See below for an example of how index values are associated with a string:\n",
    "\n",
    "    H[0]e[1]l[2]l[3]o[4]![5]\n",
    "    \n",
    "index value of 0 returns the character \"H\"\n",
    "index value of 1 returns the character \"e\"\n",
    "index value of 2 returns the character \"l\"\n",
    "index value of 3 returns the character \"l\"\n",
    "index value of 4 returns the character \"o\"\n",
    "index value of 5 returns the character \"!\"\n",
    "\n",
    "Complete the code below to practice indexing a specific string. "
   ]
  },
  {
   "cell_type": "code",
   "execution_count": 159,
   "id": "c8e51598",
   "metadata": {},
   "outputs": [
    {
     "data": {
      "text/plain": [
       "44"
      ]
     },
     "execution_count": 159,
     "metadata": {},
     "output_type": "execute_result"
    }
   ],
   "source": [
    "## run this cell to define the variable 'words'\n",
    "## determine the length (how many characters) of the passage \n",
    "\n",
    "words = \"To be, or not to be, that is the question...\"\n",
    "\n",
    "len(words)"
   ]
  },
  {
   "cell_type": "code",
   "execution_count": 160,
   "id": "c2c102f4",
   "metadata": {},
   "outputs": [
    {
     "data": {
      "text/plain": [
       "'T'"
      ]
     },
     "execution_count": 160,
     "metadata": {},
     "output_type": "execute_result"
    }
   ],
   "source": [
    "## index the variable 'words'\n",
    "# what character is in position 0?\n",
    "\n",
    "words[0]"
   ]
  },
  {
   "cell_type": "code",
   "execution_count": 161,
   "id": "b19dc375",
   "metadata": {},
   "outputs": [
    {
     "data": {
      "text/plain": [
       "'o'"
      ]
     },
     "execution_count": 161,
     "metadata": {},
     "output_type": "execute_result"
    }
   ],
   "source": [
    "## index the variable 'words'\n",
    "# what character is in position 15?\n",
    "words[15]"
   ]
  },
  {
   "cell_type": "code",
   "execution_count": 162,
   "id": "3f34ee5e",
   "metadata": {},
   "outputs": [
    {
     "data": {
      "text/plain": [
       "' '"
      ]
     },
     "execution_count": 162,
     "metadata": {},
     "output_type": "execute_result"
    }
   ],
   "source": [
    "## index the variable 'words'\n",
    "# what character is in position 9?\n",
    "words[9]"
   ]
  },
  {
   "cell_type": "code",
   "execution_count": 163,
   "id": "81c90dbb",
   "metadata": {},
   "outputs": [
    {
     "data": {
      "text/plain": [
       "'o'"
      ]
     },
     "execution_count": 163,
     "metadata": {},
     "output_type": "execute_result"
    }
   ],
   "source": [
    "## index the variable 'words'\n",
    "# what character is in position 39?\n",
    "words[39]"
   ]
  },
  {
   "cell_type": "markdown",
   "id": "aab4ba3d",
   "metadata": {},
   "source": [
    "#### CUSTOMIZED FUNCTIONS \n",
    "\n",
    "Python allows you to create your own unique functions. This gives you a lot of flexibility on the tasks you can automate within your code. You can create a function to do practically anything -- print a single value, add two numbers together, remove white spaces from a string, etc. \n",
    "\n",
    "* A custom function begins with the keyword <b>def</b> and followed by a function name (of your choice). \n",
    "* The function may take argument(s) as input within the opening and closing parentheses, just after the function name and following by a colon. \n",
    "* After defining the function name and argument(s) a block of program statement(s) start on the next line and these statement(s) must be indented. Please note, adding arguments within the parentheses is optional!\n",
    "\n",
    "When you are defining a function, follow these steps:\n",
    "\n",
    "     def function_name(argument1, argument2, ...) :\n",
    "          statement_1\n",
    "          statement_2\n",
    "\n",
    "Complete the code below to define a series of functions. "
   ]
  },
  {
   "cell_type": "code",
   "execution_count": 164,
   "id": "796baaa1",
   "metadata": {},
   "outputs": [
    {
     "name": "stdout",
     "output_type": "stream",
     "text": [
      "10\n"
     ]
    }
   ],
   "source": [
    "# EXAMPLE #\n",
    "## define a function that takes one number and prints the number\n",
    "\n",
    "def print_num(num):\n",
    "    print(num)\n",
    "\n",
    "## call the function\n",
    "## this function takes one argument, so you have to give the function info\n",
    "\n",
    "print_num(10)"
   ]
  },
  {
   "cell_type": "code",
   "execution_count": 165,
   "id": "539cd9e3",
   "metadata": {},
   "outputs": [
    {
     "name": "stdout",
     "output_type": "stream",
     "text": [
      "Enter a number: 45\n",
      "45\n"
     ]
    }
   ],
   "source": [
    "# EXAMPLE #\n",
    "## define a function that generates one number and prints the number\n",
    "\n",
    "def print_num_b():\n",
    "    num = int(input(\"Enter a number: \"))\n",
    "    print(num)\n",
    "\n",
    "## call the function\n",
    "## this function takes no arguments, therefore, we can call the function without giving information first\n",
    "\n",
    "print_num_b()"
   ]
  },
  {
   "cell_type": "code",
   "execution_count": 168,
   "id": "b7303870",
   "metadata": {},
   "outputs": [
    {
     "name": "stdout",
     "output_type": "stream",
     "text": [
      "give me a number:  4\n",
      "give me a number again:  6\n",
      "10\n"
     ]
    }
   ],
   "source": [
    "## define a function that takes two numbers and adds them together\n",
    "\n",
    "def print_nums(num1, num2):\n",
    "    num1 = int(input(\"give me a number:  \"))\n",
    "    num2 = int(input(\"give me a number again:  \"))\n",
    "    print(num1 + num2)\n",
    "\n",
    "## call the function below\n",
    "## this function takes two arguments, so you have to give the function info\n",
    "print_nums(num1, num2)\n"
   ]
  },
  {
   "cell_type": "code",
   "execution_count": 171,
   "id": "9d30be02",
   "metadata": {},
   "outputs": [
    {
     "name": "stdout",
     "output_type": "stream",
     "text": [
      "Enter a number:  4\n",
      "Enter another number:  3\n",
      "7\n"
     ]
    }
   ],
   "source": [
    "## define a function that generates two numbers and adds them together\n",
    "\n",
    "def print_nums2(num1, num2):\n",
    "    num1 = int(input(\"Enter a number:  \"))\n",
    "    num2 = int(input(\"Enter another number:  \"))\n",
    "    print(num1 + num2)\n",
    "\n",
    "## call the function below\n",
    "## this function takes no arguments, therefore, we can call the function without giving information first\n",
    "\n",
    "print_nums2(num1, num2)"
   ]
  },
  {
   "cell_type": "code",
   "execution_count": 173,
   "id": "ad99120a",
   "metadata": {},
   "outputs": [
    {
     "name": "stdout",
     "output_type": "stream",
     "text": [
      "HELLOOOOO\n"
     ]
    }
   ],
   "source": [
    "## define a function that takes a string and changes the case to uppercase\n",
    "\n",
    "string = \"hellooooo\"\n",
    "def uppercased(string):\n",
    "    string = string.upper()\n",
    "    print(string)\n",
    "    \n",
    "## call the function below\n",
    "## this function takes one argument, so you have to give the function info\n",
    "\n",
    "uppercased(string)"
   ]
  },
  {
   "cell_type": "code",
   "execution_count": 174,
   "id": "7e297a09",
   "metadata": {},
   "outputs": [
    {
     "name": "stdout",
     "output_type": "stream",
     "text": [
      "2106\n"
     ]
    }
   ],
   "source": [
    "## define a function that asks a user for two numbers then multiplies those numbers together\n",
    "\n",
    "x=9\n",
    "y=234\n",
    "def multi(x, y):\n",
    "    print(x * y)\n",
    "    \n",
    "## call the function below\n",
    "## this function takes two arguments, so you have to give the function info\n",
    "multi(x, y)\n"
   ]
  },
  {
   "cell_type": "code",
   "execution_count": 175,
   "id": "a1d3e647",
   "metadata": {},
   "outputs": [
    {
     "name": "stdout",
     "output_type": "stream",
     "text": [
      "Enter a number: 3\n",
      "Enter another number: 7\n",
      "21\n"
     ]
    }
   ],
   "source": [
    "## define a function that asks a user for two numbers then multiplies those numbers together\n",
    "\n",
    "def multi_b():\n",
    "    x = int(input(\"Enter a number: \")) \n",
    "    y = int(input(\"Enter another number: \"))\n",
    "    print(x * y)\n",
    "\n",
    "## call the function below\n",
    "## this function takes no arguments, therefore, we can call the function without giving information first\n",
    "multi_b()\n"
   ]
  },
  {
   "cell_type": "markdown",
   "id": "b7f66b5e",
   "metadata": {},
   "source": [
    "# { Module 2 Quiz }\n",
    "\n",
    "1. Convert \"890\" to an integer data type\n",
    "2. Get two numbers from a user. Use these two numbers as the starting and ending number when generating a random integer. Run the code to produce a random integer within this range.\n",
    "3. Remove the whitespaces from the ends of the following string: \"   What is your name   ?\"\n",
    "4. After you remove the whitespaces from the above string, index the string to find the character in position 3.\n",
    "5. Define a function that asks a user for three numbers. Add the first two numbers together. Then, multiply the sum of the first two numbers with the third number. After you define the function, use it!"
   ]
  },
  {
   "cell_type": "code",
   "execution_count": null,
   "id": "0a78e3fc",
   "metadata": {},
   "outputs": [],
   "source": [
    "int(890) #1\n"
   ]
  },
  {
   "cell_type": "code",
   "execution_count": 176,
   "id": "1a0ac364",
   "metadata": {},
   "outputs": [
    {
     "name": "stdout",
     "output_type": "stream",
     "text": [
      "give me a number:    2\n",
      "give me a number:    9\n"
     ]
    },
    {
     "data": {
      "text/plain": [
       "3"
      ]
     },
     "execution_count": 176,
     "metadata": {},
     "output_type": "execute_result"
    }
   ],
   "source": [
    "number1 = int(input(\"give me a number:    \"))\n",
    "number2 = int(input(\"give me a number:    \"))\n",
    "rd.randint(number1, number2)"
   ]
  },
  {
   "cell_type": "code",
   "execution_count": 177,
   "id": "e6327ff3",
   "metadata": {},
   "outputs": [
    {
     "data": {
      "text/plain": [
       "'What is your name ?'"
      ]
     },
     "execution_count": 177,
     "metadata": {},
     "output_type": "execute_result"
    }
   ],
   "source": [
    "question = \" What is your name ?\"\n",
    "question.strip()"
   ]
  },
  {
   "cell_type": "code",
   "execution_count": 180,
   "id": "410844c5",
   "metadata": {},
   "outputs": [
    {
     "data": {
      "text/plain": [
       "'Whatisyourname?'"
      ]
     },
     "execution_count": 180,
     "metadata": {},
     "output_type": "execute_result"
    }
   ],
   "source": [
    "question.replace(\" \", \"\") "
   ]
  },
  {
   "cell_type": "code",
   "execution_count": 181,
   "id": "387e6a48",
   "metadata": {},
   "outputs": [
    {
     "data": {
      "text/plain": [
       "'a'"
      ]
     },
     "execution_count": 181,
     "metadata": {},
     "output_type": "execute_result"
    }
   ],
   "source": [
    "question[3]"
   ]
  },
  {
   "cell_type": "code",
   "execution_count": 184,
   "id": "cf32f6a3",
   "metadata": {},
   "outputs": [
    {
     "name": "stdout",
     "output_type": "stream",
     "text": [
      "Enter a number:  1\n",
      "Enter another number:  2\n",
      "Enter yet another number:  3\n",
      "9\n"
     ]
    }
   ],
   "source": [
    "def questionfive():\n",
    "    num1 = int(input(\"Enter a number:  \"))\n",
    "    num2 = int(input(\"Enter another number:  \"))\n",
    "    num3 = int(input(\"Enter yet another number:  \"))\n",
    "    print((num1 + num2)*num3)\n",
    "\n",
    "questionfive()\n"
   ]
  },
  {
   "cell_type": "markdown",
   "id": "000f4b45",
   "metadata": {},
   "source": [
    "## Module 3 Review"
   ]
  },
  {
   "cell_type": "markdown",
   "id": "f414038b",
   "metadata": {},
   "source": [
    "#### COMPARISON AND BOOLEAN OPERATORS\n",
    "\n",
    "Comparison operators compare two values to each other and return a result based on that comparison (either true or false). The comparison operators you have available are as follows:\n",
    "\n",
    "    == : equal to\n",
    "    != : not equal to\n",
    "    >  : greater than\n",
    "    <  : less than\n",
    "    >= : greater than or equal to\n",
    "    <= : less than or equal to\n",
    "    \n",
    "For example, x = 10 and y = 14, see below for the following comparison results:\n",
    "\n",
    "       x == y >> FALSE\n",
    "       x != y >> TRUE\n",
    "       x > y >> FALSE\n",
    "       x < y >> TRUE\n",
    "       x >= y >> FALSE\n",
    "       x <= y >> TRUE\n",
    "    \n",
    "1. Create 5 conditions that produce a FALSE result\n",
    "2. Create 5 conditions that produce a TRUE result"
   ]
  },
  {
   "cell_type": "code",
   "execution_count": 186,
   "id": "946b26a8",
   "metadata": {},
   "outputs": [
    {
     "data": {
      "text/plain": [
       "False"
      ]
     },
     "execution_count": 186,
     "metadata": {},
     "output_type": "execute_result"
    }
   ],
   "source": [
    "3 == 8"
   ]
  },
  {
   "cell_type": "code",
   "execution_count": 187,
   "id": "80e7d57c",
   "metadata": {},
   "outputs": [
    {
     "data": {
      "text/plain": [
       "False"
      ]
     },
     "execution_count": 187,
     "metadata": {},
     "output_type": "execute_result"
    }
   ],
   "source": [
    "3 != 3 "
   ]
  },
  {
   "cell_type": "code",
   "execution_count": 188,
   "id": "27ae6573",
   "metadata": {},
   "outputs": [
    {
     "data": {
      "text/plain": [
       "False"
      ]
     },
     "execution_count": 188,
     "metadata": {},
     "output_type": "execute_result"
    }
   ],
   "source": [
    "2 > 4"
   ]
  },
  {
   "cell_type": "code",
   "execution_count": 189,
   "id": "68f0865f",
   "metadata": {},
   "outputs": [
    {
     "data": {
      "text/plain": [
       "False"
      ]
     },
     "execution_count": 189,
     "metadata": {},
     "output_type": "execute_result"
    }
   ],
   "source": [
    "4 < 2"
   ]
  },
  {
   "cell_type": "code",
   "execution_count": 190,
   "id": "456a5e0e",
   "metadata": {},
   "outputs": [
    {
     "data": {
      "text/plain": [
       "False"
      ]
     },
     "execution_count": 190,
     "metadata": {},
     "output_type": "execute_result"
    }
   ],
   "source": [
    "3 >= 4"
   ]
  },
  {
   "cell_type": "code",
   "execution_count": 191,
   "id": "6dfc6cf1",
   "metadata": {},
   "outputs": [
    {
     "data": {
      "text/plain": [
       "True"
      ]
     },
     "execution_count": 191,
     "metadata": {},
     "output_type": "execute_result"
    }
   ],
   "source": [
    "8 == 8"
   ]
  },
  {
   "cell_type": "code",
   "execution_count": 192,
   "id": "351d7cc3",
   "metadata": {},
   "outputs": [
    {
     "data": {
      "text/plain": [
       "True"
      ]
     },
     "execution_count": 192,
     "metadata": {},
     "output_type": "execute_result"
    }
   ],
   "source": [
    "3 != 4"
   ]
  },
  {
   "cell_type": "code",
   "execution_count": 193,
   "id": "2fb11163",
   "metadata": {},
   "outputs": [
    {
     "data": {
      "text/plain": [
       "True"
      ]
     },
     "execution_count": 193,
     "metadata": {},
     "output_type": "execute_result"
    }
   ],
   "source": [
    "2 < 4"
   ]
  },
  {
   "cell_type": "code",
   "execution_count": 194,
   "id": "cc595663",
   "metadata": {},
   "outputs": [
    {
     "data": {
      "text/plain": [
       "True"
      ]
     },
     "execution_count": 194,
     "metadata": {},
     "output_type": "execute_result"
    }
   ],
   "source": [
    "4 > 2"
   ]
  },
  {
   "cell_type": "code",
   "execution_count": 195,
   "id": "eb85c224",
   "metadata": {},
   "outputs": [
    {
     "data": {
      "text/plain": [
       "True"
      ]
     },
     "execution_count": 195,
     "metadata": {},
     "output_type": "execute_result"
    }
   ],
   "source": [
    "3 <= 4"
   ]
  },
  {
   "cell_type": "markdown",
   "id": "66b6fa06",
   "metadata": {},
   "source": [
    "#### CONDITIONAL STATEMENTS\n",
    "\n",
    "Conditional statements check a statement for truth and executes a specific task depending on if the statement is true or false. Conditional statements include:\n",
    "\n",
    "    IF >> if \n",
    "    ELSE >> else\n",
    "    ELIF >> else if "
   ]
  },
  {
   "cell_type": "markdown",
   "id": "e2fd1d7e",
   "metadata": {},
   "source": [
    "#### IF STATEMENTS\n",
    "\n",
    "The IF statement checks a statement for truth, if the statement is true a specific task will be executed\n",
    "\n",
    "1. Run the code in the first example\n",
    "2. Create your own IF statement that prints a number if it is higher than 100\n",
    "3. Create an IF statement that adds 10 to a number if it is higher than 100; print the sum of the two numbers. "
   ]
  },
  {
   "cell_type": "code",
   "execution_count": 196,
   "id": "65265c00",
   "metadata": {},
   "outputs": [
    {
     "name": "stdout",
     "output_type": "stream",
     "text": [
      "You are older than 18.\n"
     ]
    }
   ],
   "source": [
    "## EXAMPLE\n",
    "\n",
    "age = 28\n",
    "\n",
    "if age > 18:\n",
    "    print(\"You are older than 18.\")"
   ]
  },
  {
   "cell_type": "code",
   "execution_count": 201,
   "id": "fe9d34d7",
   "metadata": {},
   "outputs": [
    {
     "name": "stdout",
     "output_type": "stream",
     "text": [
      "123\n"
     ]
    }
   ],
   "source": [
    "numberx = 123\n",
    "\n",
    "if numberx > 100: \n",
    "    print(numberx)"
   ]
  },
  {
   "cell_type": "code",
   "execution_count": 202,
   "id": "70e1a783",
   "metadata": {},
   "outputs": [
    {
     "name": "stdout",
     "output_type": "stream",
     "text": [
      "give me a number:  456\n",
      "466\n"
     ]
    }
   ],
   "source": [
    "num1 = int(input(\"give me a number:  \"))\n",
    "\n",
    "if num1 > 100:\n",
    "    print(f\"{num1 + 10}\")"
   ]
  },
  {
   "cell_type": "markdown",
   "id": "35172b2f",
   "metadata": {},
   "source": [
    "#### IF/ELSE STATEMENTS\n",
    "\n",
    "The IF/ELSE statements (when used together), checks a statement for truth - if the statement is true, the task underneath the IF statement will execute. If the statement if false, the task underneath the ELSE statement will execute.\n",
    "\n",
    "1. Run the code in the first example\n",
    "2. Create your own IF/ELSE statement that prints a number if it is higher than 100; if it is lower than 100, print \"Low Number\". \n",
    "3. Create an IF/ELSE statement that adds 10 to a number if it is higher than 100; if it isn't higher than 100, add 100 to the number. Print the sum of the two numbers."
   ]
  },
  {
   "cell_type": "code",
   "execution_count": 203,
   "id": "dba5c370",
   "metadata": {},
   "outputs": [
    {
     "name": "stdout",
     "output_type": "stream",
     "text": [
      "You are younger than 18.\n"
     ]
    }
   ],
   "source": [
    "## EXAMPLE\n",
    "\n",
    "age = 8\n",
    "\n",
    "if age > 18:\n",
    "    print(\"You are older than 18.\")\n",
    "else:\n",
    "    print(\"You are younger than 18.\")"
   ]
  },
  {
   "cell_type": "code",
   "execution_count": 206,
   "id": "15ce4d48",
   "metadata": {},
   "outputs": [
    {
     "name": "stdout",
     "output_type": "stream",
     "text": [
      "give me a number:  34\n",
      "low number\n"
     ]
    }
   ],
   "source": [
    "num1 = int(input(\"give me a number:  \"))\n",
    "\n",
    "if num1 > 100:\n",
    "    print(f\"{num1}\")\n",
    "else: \n",
    "    print(\"low number\")"
   ]
  },
  {
   "cell_type": "code",
   "execution_count": 207,
   "id": "236f3ddb",
   "metadata": {},
   "outputs": [
    {
     "name": "stdout",
     "output_type": "stream",
     "text": [
      "give me a number:  45\n",
      "145\n"
     ]
    }
   ],
   "source": [
    "num1 = int(input(\"give me a number:  \"))\n",
    "\n",
    "if num1 > 100:\n",
    "    print(f\"{num1 + 10}\")\n",
    "else: \n",
    "    print(f\"{num1 + 100}\")"
   ]
  },
  {
   "cell_type": "markdown",
   "id": "8fda511e",
   "metadata": {},
   "source": [
    "#### ELIF STATEMENTS\n",
    "\n",
    "The ELIF statement is short for \"ELSE IF\" and is a combination of the above statements. ELIF checks another statement for truth (after the initial IF statement) -- if the statement if true, the tasks underneath the ELIF statement will execute. \n",
    "\n",
    "1. Run the code in the first example\n",
    "2. Create your own IF/ELIF/ELSE statement that prints a number if it is higher than 100; if the value is equal to 100 - print \"100\". If both statements are false, print \"less than 100\").\n",
    "3. Create an IF/ELIF/ELSE statement that adds 10 to a number if it is higher than 100; if the number is greater than 50 -- add 20 to the number. If none of the above are true, add 100 to the number. Print the sum of the two numbers. \n"
   ]
  },
  {
   "cell_type": "code",
   "execution_count": 208,
   "id": "274f1c76",
   "metadata": {},
   "outputs": [
    {
     "name": "stdout",
     "output_type": "stream",
     "text": [
      "You ARE currently 18!\n"
     ]
    }
   ],
   "source": [
    "## EXAMPLE\n",
    "\n",
    "age = 18\n",
    "\n",
    "if age > 18:\n",
    "    print(\"You are older than 18.\")\n",
    "elif age == 18:\n",
    "    print(\"You ARE currently 18!\")\n",
    "else:\n",
    "    print(\"You are younger than 18.\")"
   ]
  },
  {
   "cell_type": "code",
   "execution_count": 209,
   "id": "f34a0f17",
   "metadata": {},
   "outputs": [
    {
     "name": "stdout",
     "output_type": "stream",
     "text": [
      "give me a number:  100\n",
      "100\n"
     ]
    }
   ],
   "source": [
    "num1 = int(input(\"give me a number:  \"))\n",
    "\n",
    "if num1 > 100:\n",
    "    print(f\"{num1}\")\n",
    "elif num1 == 100: \n",
    "    print(\"100\")\n",
    "else: \n",
    "    print(\"less than 100\")"
   ]
  },
  {
   "cell_type": "code",
   "execution_count": 210,
   "id": "5a085b63",
   "metadata": {},
   "outputs": [
    {
     "name": "stdout",
     "output_type": "stream",
     "text": [
      "give me a number:  60\n",
      "80\n"
     ]
    }
   ],
   "source": [
    "num1 = int(input(\"give me a number:  \"))\n",
    "\n",
    "if num1 > 100:\n",
    "    print(f\"{num1 + 10}\")\n",
    "elif num1 > 50: \n",
    "    print(f\"{num1 + 20}\")   \n",
    "else: \n",
    "    print(f\"{num1 + 100}\")"
   ]
  },
  {
   "cell_type": "markdown",
   "id": "672c3909",
   "metadata": {},
   "source": [
    "#### LISTS\n",
    "\n",
    "Lists are a unique data type within Python. Lists are ordered and changeable -- which means you can index a list and you can add/remove values from a list. A list is a collection of values all saved together into a single variable. Lists can contain multiple data types within a single list. All values within a list are separated by a comma. Lists are defined by square brackets. \n",
    "\n",
    "    list_name = [value1, value2, value3...]\n",
    "    \n",
    "Complete the code below to define a series of lists. "
   ]
  },
  {
   "cell_type": "code",
   "execution_count": 213,
   "id": "cb76e8cb",
   "metadata": {},
   "outputs": [],
   "source": [
    "## add two values to the following list of flowers\n",
    "# print the list\n",
    "\n",
    "flowers = [\"Rose\", \"Lily\", \"Poppy\", \"Broom\", \"Daisey\" ]"
   ]
  },
  {
   "cell_type": "code",
   "execution_count": 214,
   "id": "75e5258f",
   "metadata": {},
   "outputs": [],
   "source": [
    "## fix the code below to define a list of names\n",
    "# print the list\n",
    "\n",
    "names = [\"Jack\", \"Max\", \"Leo\", \"Harper\", \"Sam\"]"
   ]
  },
  {
   "cell_type": "code",
   "execution_count": 215,
   "id": "4b4faa85",
   "metadata": {},
   "outputs": [
    {
     "name": "stdout",
     "output_type": "stream",
     "text": [
      "[]\n"
     ]
    }
   ],
   "source": [
    "## use the space below to create a blank list\n",
    "# print the list to make sure its blank\n",
    "\n",
    "blanklist = []\n",
    "print(blanklist)"
   ]
  },
  {
   "cell_type": "markdown",
   "id": "baa974bd",
   "metadata": {},
   "source": [
    "#### LIST INDEXING AND SLICING\n",
    "\n",
    "Indexing a list works similarly to indexing a list - you are specifically asking to see the value within a specific location. A list index is still zero-based. See below for a list of colors. Next to each color is the index value.\n",
    "\n",
    "    colors = [red-0, yellow-1, blue-2]\n",
    "\n",
    "To index, you will state the name of your list and then within square brackets, specify the location you want to see. \n",
    "\n",
    "    colors[0] >> \"red-0\"\n",
    "    colors[1] >> \"yellow-1\"\n",
    "    colors[2] >> \"blue-2\"\n",
    "    \n",
    "Slicing a list returns a specific segment of the list instead of just returning a specific value in a specific index position. Slicing will return all the values of a list from a starting index location up to (<b>but not including</b>) an ending index location. Slicing uses square brackets and follows the pattern below:\n",
    "\n",
    "    list_name[starting point : ending point]\n",
    "    \n",
    "Slicing will literally give you a slice of the list. See below for an example using the colors list. \n",
    "\n",
    "    colors[0:2] >> red-0, yellow-1\n",
    "    colors[0:3] >> red-0, yellow-1, blue-2\n",
    "    \n",
    "1. Create a list of objects you find around your house. Have at least 6 values in the list. Print the list. \n",
    "2. What value is at position 4 in your list?\n",
    "3. What value is at position 0 in your list?\n",
    "4. Slice your list so you return all values except for the last two."
   ]
  },
  {
   "cell_type": "code",
   "execution_count": 219,
   "id": "f4416196",
   "metadata": {},
   "outputs": [
    {
     "name": "stdout",
     "output_type": "stream",
     "text": [
      "['desk', 'chair', 'sofa', 'table', 'books', 'stove']\n"
     ]
    }
   ],
   "source": [
    "house = [\"desk\", \"chair\", \"sofa\", \"table\", \"books\", \"stove\"]\n",
    "print(house)"
   ]
  },
  {
   "cell_type": "code",
   "execution_count": 220,
   "id": "78068227",
   "metadata": {},
   "outputs": [
    {
     "data": {
      "text/plain": [
       "'books'"
      ]
     },
     "execution_count": 220,
     "metadata": {},
     "output_type": "execute_result"
    }
   ],
   "source": [
    "house[4]"
   ]
  },
  {
   "cell_type": "code",
   "execution_count": 221,
   "id": "7a8f7320",
   "metadata": {},
   "outputs": [
    {
     "data": {
      "text/plain": [
       "'desk'"
      ]
     },
     "execution_count": 221,
     "metadata": {},
     "output_type": "execute_result"
    }
   ],
   "source": [
    "house[0]"
   ]
  },
  {
   "cell_type": "code",
   "execution_count": 222,
   "id": "00c6fe14",
   "metadata": {},
   "outputs": [
    {
     "data": {
      "text/plain": [
       "'stove'"
      ]
     },
     "execution_count": 222,
     "metadata": {},
     "output_type": "execute_result"
    }
   ],
   "source": [
    "house.pop()"
   ]
  },
  {
   "cell_type": "code",
   "execution_count": 223,
   "id": "2e6bdb98",
   "metadata": {},
   "outputs": [
    {
     "data": {
      "text/plain": [
       "'books'"
      ]
     },
     "execution_count": 223,
     "metadata": {},
     "output_type": "execute_result"
    }
   ],
   "source": [
    "house.pop()"
   ]
  },
  {
   "cell_type": "code",
   "execution_count": 224,
   "id": "1ea1fb60",
   "metadata": {},
   "outputs": [
    {
     "name": "stdout",
     "output_type": "stream",
     "text": [
      "['desk', 'chair', 'sofa', 'table']\n"
     ]
    }
   ],
   "source": [
    "print(house) #4"
   ]
  },
  {
   "cell_type": "markdown",
   "id": "3c69d12a",
   "metadata": {},
   "source": [
    "#### ADDING VALUES TO A LIST\n",
    "\n",
    "Lists are changeable, which means you can add values to a list after you have defined the list initially. \n",
    "\n",
    "The .append() function will add a single value to the end of your list. This function can only add one value at a time, and it will always attach to the end. To use the function, see an example below:\n",
    "\n",
    "    list_name.append( new_item_to_add )\n",
    "    \n",
    "    colors.append(\"green-3\")\n",
    "    \n",
    "The .insert() function will add a single value to a specific index-position within your list. Unlike the append function, this means the item your adding won't automatically be attached to the end. To use the function, see an example below:\n",
    "\n",
    "    list_name.insert( index-position, new_item_to_add )\n",
    "    \n",
    "    colors.insert(0, \"green-3\")\n",
    "\n",
    "The .extend() function allows you to add multiple values to a list at one time. This is the function to use if you don't want to add values one by one. To use the function, you first have to create a separate list of the values you want to add. Then, you will use the .extend() function to add all the values on the list onto the end of the existing list. See below for an example:\n",
    "\n",
    "    new_list = [\"new_value1\", \"new_value2\", \"new_value3\"...]\n",
    "    list_name.extend( new_list )\n",
    "    \n",
    "    \n",
    "    new_colors = [\"green-3\", \"purple-4\"]\n",
    "    colors.extend(new_colors)\n",
    "    \n",
    "1. Create a list of shapes below. This list should have at least 3 values. Print the list. \n",
    "2. Use the append function to add a shape to your list. Print the list.\n",
    "3. Use the insert function to add a shape to your list. This shape should be inserted in index position 2. Print the list.\n",
    "4. Use the extend function to add 3 additional shapes to your list. Print the list. "
   ]
  },
  {
   "cell_type": "code",
   "execution_count": 231,
   "id": "bdba2f86",
   "metadata": {},
   "outputs": [
    {
     "name": "stdout",
     "output_type": "stream",
     "text": [
      "['circle', 'triangle', 'square', 'rombus', 'hexagon']\n"
     ]
    }
   ],
   "source": [
    "shapes = [\"circle\", \"triangle\", \"square\", \"rombus\", \"hexagon\"]\n",
    "print(shapes)"
   ]
  },
  {
   "cell_type": "code",
   "execution_count": 232,
   "id": "baa7734e",
   "metadata": {},
   "outputs": [],
   "source": [
    "shapes.append(\"octagon\")"
   ]
  },
  {
   "cell_type": "code",
   "execution_count": 233,
   "id": "7c4290e5",
   "metadata": {},
   "outputs": [],
   "source": [
    "shapes.insert(2, \"peptagon\")"
   ]
  },
  {
   "cell_type": "code",
   "execution_count": 235,
   "id": "592b4e8e",
   "metadata": {},
   "outputs": [
    {
     "name": "stdout",
     "output_type": "stream",
     "text": [
      "['circle', 'triangle', 'peptagon', 'square', 'rombus', 'hexagon', 'octagon', 'shape1', 'shape2', 'shape3']\n"
     ]
    }
   ],
   "source": [
    "newlist = [\"shape1\", \"shape2\", \"shape3\"]\n",
    "shapes.extend(newlist)\n",
    "print(shapes)"
   ]
  },
  {
   "cell_type": "markdown",
   "id": "3a61113f",
   "metadata": {},
   "source": [
    "# { Module 3 Quiz }\n",
    "\n",
    "1. Create 3 conditions that produce a false result. Create 3 conditions that produce a true result.\n",
    "2. Ask the user for a specific color and store the value into a variable. If the color is Blue, print \"Blue is a calming color\". If the color is Red, print \"Red is a fiery color\". Otherwise, print \"All colors are beautiful\".\n",
    "3. Create a list of 5 fictional characters. Print the list. \n",
    "4. Ask the user for a specific number between 1 and 10. If the number is less than 3, print 'low value'. If the number is greater than 7, print 'high number'. Otherwise, print 'thank you'.\n",
    "5. Create a function that determines if a student passed or failed a test. Ask the user for their test score, if the value is below 70, print 'You failed'. If the value is 70 or above, print 'You passed'. If the value is above 100 or below 0, print 'Please enter a valid number'. "
   ]
  },
  {
   "cell_type": "code",
   "execution_count": 236,
   "id": "6c34d4fd",
   "metadata": {},
   "outputs": [
    {
     "data": {
      "text/plain": [
       "False"
      ]
     },
     "execution_count": 236,
     "metadata": {},
     "output_type": "execute_result"
    }
   ],
   "source": [
    "#1 false results \n",
    "3 == 6 \n",
    "3 < 1\n",
    "3 > 7"
   ]
  },
  {
   "cell_type": "code",
   "execution_count": 237,
   "id": "492535c7",
   "metadata": {},
   "outputs": [
    {
     "data": {
      "text/plain": [
       "True"
      ]
     },
     "execution_count": 237,
     "metadata": {},
     "output_type": "execute_result"
    }
   ],
   "source": [
    "#1 true results \n",
    "3 != 6 \n",
    "3 > 1\n",
    "3 < 7"
   ]
  },
  {
   "cell_type": "code",
   "execution_count": 239,
   "id": "8d7dda86",
   "metadata": {},
   "outputs": [
    {
     "name": "stdout",
     "output_type": "stream",
     "text": [
      "please give me a color:   Red\n",
      "Red is a fiery color\n"
     ]
    }
   ],
   "source": [
    "#2 \n",
    "\n",
    "color = input(\"please give me a color:   \")\n",
    "\n",
    "if color == \"blue\": \n",
    "    print(\"Blue is a calming color \")\n",
    "elif color == \"Red\":\n",
    "    print(\"Red is a fiery color\")\n",
    "else: \n",
    "    print(\"All colors are beautiful\")\n",
    "\n",
    "\n"
   ]
  },
  {
   "cell_type": "code",
   "execution_count": 240,
   "id": "b3824b83",
   "metadata": {},
   "outputs": [
    {
     "name": "stdout",
     "output_type": "stream",
     "text": [
      "['Aragon', 'Legolas', 'Gandalf', 'Frodo', 'Pipin']\n"
     ]
    }
   ],
   "source": [
    "#3 \n",
    "characters = [\"Aragon\", \"Legolas\", \"Gandalf\", \"Frodo\", \"Pipin\"]\n",
    "print(characters)"
   ]
  },
  {
   "cell_type": "code",
   "execution_count": 242,
   "id": "f4d16d6d",
   "metadata": {},
   "outputs": [
    {
     "name": "stdout",
     "output_type": "stream",
     "text": [
      "Give me a number between 1 and 10:   4\n",
      "Thank you\n"
     ]
    }
   ],
   "source": [
    "#4 \n",
    "\n",
    "num1 = int(input(\"Give me a number between 1 and 10:   \"))\n",
    "\n",
    "if num1 > 7: \n",
    "    print(\"High value\")\n",
    "elif num1 < 3:\n",
    "    print(\"Low value\")\n",
    "else: \n",
    "    print(\"Thank you\")\n"
   ]
  },
  {
   "cell_type": "code",
   "execution_count": 259,
   "id": "d65f6b23",
   "metadata": {},
   "outputs": [
    {
     "name": "stdout",
     "output_type": "stream",
     "text": [
      "What was your grade:  3454\n",
      "You passed\n"
     ]
    }
   ],
   "source": [
    "#5 \n",
    "def passorfail(score):\n",
    "    if score < 70: \n",
    "        print(\"You failed\")\n",
    "    elif score >= 70:\n",
    "        print(\"You passed\")\n",
    "    elif score > 100:    #Need help from here on out \n",
    "        print(\"Please enter a valid number\")\n",
    "    elif score < 0:\n",
    "        print(\"Please enter a valid number\")\n",
    "    else: \n",
    "        print(\"Please enter a valid number\")\n",
    "        \n",
    "score = int(input(\"What was your grade:  \"))\n",
    "passorfail(score)"
   ]
  },
  {
   "cell_type": "markdown",
   "id": "e637bcf4",
   "metadata": {},
   "source": [
    "## Advanced Review\n",
    "\n",
    "Complete the exercises below. These exercises cover topics from all the modules covered in the class thus far, not just the items reviewed in this notebook. Each exercise should be completed in its own cell (or multiple cells). \n",
    "\n",
    "*****************************\n",
    "\n",
    "1.\tCreate a program that asks the user to enter their name and their age. Print out a message addressed to them that tells them the year that they will turn 100 years old.\n",
    "2.\tAsk the user for a number. Depending on whether the number is even or odd, print out an appropriate message to the user.\n",
    "3.\tTake a list and write a program that prints out all the elements of the list that are less than 5. BONUS: Instead of printing the elements one by one, make a new list that has all the elements less than 5 from this list in it and print out this new list.\n",
    "4.\tGenerate a random number between 1 and 9 (including 1 and 9). Ask the user to guess the number, then tell them whether they guessed too low, too high, or exactly right. BONUS: Keep the game going until the user types “exit”\n",
    "5.\tWrite a program that takes a list of numbers (for example, a = [5, 10, 15, 20, 25]) and makes a new list of only the first and last elements of the given list.\n",
    "6.\tWrite a password generator in Python. Be creative with how you generate passwords - strong passwords have a mix of lowercase letters, uppercase letters, numbers, and symbols. The passwords should be random, generating a new password every time the user asks for a new password.\n"
   ]
  },
  {
   "cell_type": "code",
   "execution_count": null,
   "id": "1a5c1f95",
   "metadata": {},
   "outputs": [],
   "source": [
    "#1 ????\n",
    "\n",
    "name = input(\"Give me your name:  \")\n",
    "age = input( \"Give me your age:   \")\n",
    "\n"
   ]
  },
  {
   "cell_type": "code",
   "execution_count": 260,
   "id": "71253269",
   "metadata": {},
   "outputs": [
    {
     "name": "stdout",
     "output_type": "stream",
     "text": [
      "Give me your number:   5\n",
      "odd\n"
     ]
    }
   ],
   "source": [
    "#2: DONE\n",
    "number = int(input( \"Give me your number:   \"))\n",
    "\n",
    "if number % 2 == 0: \n",
    "    print(\"even\")\n",
    "else: \n",
    "    print(\"odd\")"
   ]
  },
  {
   "cell_type": "code",
   "execution_count": 279,
   "id": "bedda0d3",
   "metadata": {},
   "outputs": [
    {
     "name": "stdout",
     "output_type": "stream",
     "text": [
      "6\n",
      "Please guess a number!   6\n",
      "exactly right!\n"
     ]
    }
   ],
   "source": [
    "#3: DONE\n",
    "randomnumbers = rd.randint(1,10)\n",
    "print(randomnumbers)\n",
    "\n",
    "guess = int(input(\"Please guess a number!   \"))\n",
    "if guess == randomnumbers:\n",
    "    print(\"exactly right!\")\n",
    "elif guess > randomnumbers:\n",
    "    print(\"too high!\")\n",
    "elif guess < randomnumbers:\n",
    "    print(\"too low!\")\n"
   ]
  },
  {
   "cell_type": "code",
   "execution_count": null,
   "id": "18d92689",
   "metadata": {},
   "outputs": [],
   "source": [
    "#4"
   ]
  },
  {
   "cell_type": "code",
   "execution_count": null,
   "id": "4d3add8e",
   "metadata": {},
   "outputs": [],
   "source": [
    "#5\n",
    "\n",
    "while choice == \"Y\":\n",
    "    choice = input(\"Please make a choice (Y/N): \")\n",
    "    \n",
    "    if choice == \"Y\":\n",
    "        print(\"Hello!\")\n",
    "    else:\n",
    "        print(\"Goodbye!\")"
   ]
  },
  {
   "cell_type": "code",
   "execution_count": null,
   "id": "449f7a2d",
   "metadata": {},
   "outputs": [],
   "source": [
    "#6"
   ]
  }
 ],
 "metadata": {
  "kernelspec": {
   "display_name": "Python 3 (ipykernel)",
   "language": "python",
   "name": "python3"
  },
  "language_info": {
   "codemirror_mode": {
    "name": "ipython",
    "version": 3
   },
   "file_extension": ".py",
   "mimetype": "text/x-python",
   "name": "python",
   "nbconvert_exporter": "python",
   "pygments_lexer": "ipython3",
   "version": "3.9.7"
  }
 },
 "nbformat": 4,
 "nbformat_minor": 5
}
