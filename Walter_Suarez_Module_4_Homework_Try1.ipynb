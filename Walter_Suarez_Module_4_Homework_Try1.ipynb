{
  "cells": [
    {
      "cell_type": "markdown",
      "metadata": {
        "id": "view-in-github",
        "colab_type": "text"
      },
      "source": [
        "<a href=\"https://colab.research.google.com/github/wsuarez893/MC-Class-Homeworks/blob/main/Walter_Suarez_Module_4_Homework_Try1.ipynb\" target=\"_parent\"><img src=\"https://colab.research.google.com/assets/colab-badge.svg\" alt=\"Open In Colab\"/></a>"
      ]
    },
    {
      "cell_type": "markdown",
      "metadata": {
        "id": "AxhREskgbIZ9"
      },
      "source": [
        "### Exercise 1: \n",
        "\n",
        "Review the code in the following cell. This programmer was attempting to create a list of numbers and a list of even numbers between two values given by a user. The numbers list should include all numbers, and the evens list should include only even numbers. Use what you learned in Module 4 to fix the code and run it successfully!"
      ]
    },
    {
      "cell_type": "code",
      "execution_count": 4,
      "metadata": {
        "colab": {
          "base_uri": "https://localhost:8080/"
        },
        "id": "GDJRyr5DbIaG",
        "outputId": "a47f373e-fd86-41c0-abec-f157901846ae"
      },
      "outputs": [
        {
          "output_type": "stream",
          "name": "stdout",
          "text": [
            "Enter a starting number: 2\n",
            "Enter an ending number: 6\n",
            "[2, 3, 4, 5]\n",
            "[2, 4]\n"
          ]
        }
      ],
      "source": [
        "no1 = int(input(\"Enter a starting number: \"))\n",
        "no2 = int(input(\"Enter an ending number: \"))\n",
        "\n",
        "numbers = []\n",
        "evens = []\n",
        "\n",
        "for num in range(no1, no2) :\n",
        "    numbers.append(num) \n",
        "    if num % 2 == 0:     # even number\n",
        "        evens.append(num)\n",
        "    \n",
        "print(numbers)    \n",
        "print(evens)"
      ]
    },
    {
      "cell_type": "markdown",
      "metadata": {
        "id": "GW6gqSD5bIaJ"
      },
      "source": [
        "### Exercise 2:\n",
        "\n",
        "Define a function called <b>draw_triangle()</b> to draw a right triangle where the base of the triangle is the number given by a user and the rest of the triangle builds to the base value. Use the function to show that it works. \n",
        "\n",
        "e.g. <b>draw_triangle(7)</b> draws as below:\n",
        "\n",
        "    *\n",
        "    **\n",
        "    ***\n",
        "    ****\n",
        "    *****\n",
        "    ******\n",
        "    *******\n"
      ]
    },
    {
      "cell_type": "code",
      "execution_count": null,
      "metadata": {
        "id": "rqVzPqy3bIaK"
      },
      "outputs": [],
      "source": [
        "### finish the code below ###\n",
        "base = int(input(\"Enter a number: \"))\n",
        "\n",
        "def draw_triangle():\n",
        "  while base <=7: \n",
        "    print(\"*\" * base)\n",
        "  base -= 1 \n",
        "\n",
        "draw_triangle()"
      ]
    },
    {
      "cell_type": "code",
      "execution_count": null,
      "metadata": {
        "id": "8pZ1C13sbIaL"
      },
      "outputs": [],
      "source": [
        ""
      ]
    },
    {
      "cell_type": "markdown",
      "metadata": {
        "id": "rPyL4QrnbIaM"
      },
      "source": [
        "### Exercise 3:\n",
        "\n",
        "A furniture store organizes all items by the section of the store they are stored in. Each section has a number cooresponding to that section. A new branch of the furniture store is opening up, and it's up to you to quickly organize the merchandise into different sections. Create a list of numbers ranging from 1 - 5. Create a list of any three furniture items (i.e. table, lamp, etc). \n",
        "\n",
        "Using a for-loop, return a list of furniture items. Next to each furniture item should be the number of the section of the store the furniture item should be stored (i.e. 3 table, 3 lamp, 3 chair)."
      ]
    },
    {
      "cell_type": "code",
      "execution_count": 15,
      "metadata": {
        "colab": {
          "base_uri": "https://localhost:8080/"
        },
        "id": "SX54-bmpbIaO",
        "outputId": "d7bfb95b-9dde-42b4-96f1-2f9d18463405"
      },
      "outputs": [
        {
          "output_type": "stream",
          "name": "stdout",
          "text": [
            "1 chair\n",
            "1 table\n",
            "1 lamp\n",
            "1 couch\n",
            "1 desk\n",
            "2 chair\n",
            "2 table\n",
            "2 lamp\n",
            "2 couch\n",
            "2 desk\n",
            "3 chair\n",
            "3 table\n",
            "3 lamp\n",
            "3 couch\n",
            "3 desk\n",
            "4 chair\n",
            "4 table\n",
            "4 lamp\n",
            "4 couch\n",
            "4 desk\n",
            "5 chair\n",
            "5 table\n",
            "5 lamp\n",
            "5 couch\n",
            "5 desk\n"
          ]
        }
      ],
      "source": [
        "numbers = [1,2,3,4,5]\n",
        "furniture_items = [\"chair\", \"table\", \"lamp\", \"couch\", \"desk\"]\n",
        "\n",
        "for num in numbers: \n",
        "    for furniture in furniture_items: \n",
        "      print(f\"{num} {furniture}\")"
      ]
    },
    {
      "cell_type": "code",
      "execution_count": null,
      "metadata": {
        "id": "bJECO3fgbIaR"
      },
      "outputs": [],
      "source": [
        ""
      ]
    },
    {
      "cell_type": "markdown",
      "metadata": {
        "id": "AehiEH_pbIaT"
      },
      "source": [
        "### Exercise 4:\n",
        "\n",
        "What is the highest value \"a\" can be for the following code to return a value of \"3\"?"
      ]
    },
    {
      "cell_type": "code",
      "execution_count": 14,
      "metadata": {
        "colab": {
          "base_uri": "https://localhost:8080/"
        },
        "id": "e6QQzx_dbIaU",
        "outputId": "49e7c227-d685-410d-f749-556ce90c4b6b"
      },
      "outputs": [
        {
          "output_type": "stream",
          "name": "stdout",
          "text": [
            "3\n"
          ]
        }
      ],
      "source": [
        "x = 0\n",
        "a = 5 #5is the highest value that the code can have and still return a value of 3\n",
        "b = 5\n",
        "\n",
        "###\n",
        "\n",
        "if a > 0:\n",
        "    if b < 0:\n",
        "        x = x + 5 #and that is because of this part of the code\n",
        "    elif a > 5:\n",
        "        x = x + 4\n",
        "    else:\n",
        "        x = x + 3\n",
        "else: \n",
        "    x = x + 2\n",
        "print(x)"
      ]
    }
  ],
  "metadata": {
    "kernelspec": {
      "display_name": "Python 3",
      "language": "python",
      "name": "python3"
    },
    "language_info": {
      "codemirror_mode": {
        "name": "ipython",
        "version": 3
      },
      "file_extension": ".py",
      "mimetype": "text/x-python",
      "name": "python",
      "nbconvert_exporter": "python",
      "pygments_lexer": "ipython3",
      "version": "3.8.8"
    },
    "colab": {
      "name": "Walter Suarez_Module 4 - Homework_Try1.ipynb",
      "provenance": [],
      "include_colab_link": true
    }
  },
  "nbformat": 4,
  "nbformat_minor": 0
}