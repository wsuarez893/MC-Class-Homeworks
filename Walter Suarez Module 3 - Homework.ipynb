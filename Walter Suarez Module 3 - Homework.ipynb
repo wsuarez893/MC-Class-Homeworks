{
 "cells": [
  {
   "cell_type": "markdown",
   "metadata": {},
   "source": [
    "### Exercise 1\n",
    "Ask a user for 5 names and place each one in to a list called <i>names</i>. Then, print <i>names</i>."
   ]
  },
  {
   "cell_type": "code",
   "execution_count": 35,
   "metadata": {},
   "outputs": [
    {
     "name": "stdout",
     "output_type": "stream",
     "text": [
      "what is your name?  Walter\n",
      "what is your name?  Eduardo\n",
      "what is your name?  Chris\n",
      "what is your name?  Doug\n",
      "what is your name?  Erick\n",
      "['Walter', 'Eduardo', 'Chris', 'Doug', 'Erick']\n"
     ]
    }
   ],
   "source": [
    "nam1 = input(\"what is your name?  \")\n",
    "nam2 = input(\"what is your name?  \")\n",
    "nam3 = input(\"what is your name?  \")\n",
    "nam4 = input(\"what is your name?  \")\n",
    "nam5 = input(\"what is your name?  \")\n",
    "\n",
    "names = [nam1, nam2, nam3, nam4, nam5]\n",
    "print(names)"
   ]
  },
  {
   "cell_type": "markdown",
   "metadata": {},
   "source": [
    "### Exercise 2\n",
    "Print out a randomly selected name in the names list."
   ]
  },
  {
   "cell_type": "code",
   "execution_count": 36,
   "metadata": {},
   "outputs": [
    {
     "data": {
      "text/plain": [
       "'Chris'"
      ]
     },
     "execution_count": 36,
     "metadata": {},
     "output_type": "execute_result"
    }
   ],
   "source": [
    "import random as rand\n",
    "\n",
    "x = rand.randint(0,4)\n",
    "\n",
    "names[x]"
   ]
  },
  {
   "cell_type": "markdown",
   "metadata": {},
   "source": [
    "### Exercise 3\n",
    "\n",
    "Ask a user for a specific color and store that value into a variable. If the answer is gray, print \"You found Victor's favorite color!\". If the answer is anything besides gray, print \"[color name] is not Victor's favorite color.\""
   ]
  },
  {
   "cell_type": "code",
   "execution_count": 17,
   "metadata": {},
   "outputs": [
    {
     "name": "stdout",
     "output_type": "stream",
     "text": [
      "Give me a color Black\n",
      "Black is not Victor's favorite color\n"
     ]
    }
   ],
   "source": [
    "def victor_color(color):\n",
    "    if color == \"gray\":\n",
    "        print(\"You found Victor's favorite color!\")\n",
    "    else:\n",
    "        print(f\"{color} is not Victor's favorite color\")\n",
    "              \n",
    "color1 = input(\"Give me a color \")\n",
    "\n",
    "victor_color (color1)"
   ]
  },
  {
   "cell_type": "markdown",
   "metadata": {},
   "source": [
    "### Exercise 4\n",
    "Ask for an exam score and store that number. If the number is greater than 100, then print out 'You cannot have an exam score higher than 100'. If the number doesn't exceeed 100 but is greater than or equal to 75, then print out 'You did great on your exam!'. Otherwise if they scored lower than 75, then print out 'You need to study harder'."
   ]
  },
  {
   "cell_type": "code",
   "execution_count": 20,
   "metadata": {},
   "outputs": [
    {
     "name": "stdout",
     "output_type": "stream",
     "text": [
      "What is your exam score?   76\n",
      "You did great in your exam!\n"
     ]
    }
   ],
   "source": [
    "def exam_scores(score): \n",
    "    if score > 100: \n",
    "        print(\"You cannot have an exam score higher than 100\")\n",
    "    elif score >= 75:\n",
    "        print(\"You did great in your exam!\")\n",
    "    else:\n",
    "        print(\"You need to study harder\")\n",
    "\n",
    "score1 = float(input(\"What is your exam score?   \"))\n",
    "\n",
    "exam_scores(score1)\n",
    "\n",
    "\n",
    "\n",
    "\n",
    "\n"
   ]
  },
  {
   "cell_type": "markdown",
   "metadata": {},
   "source": [
    "### Exercise 5\n",
    "Write a function to convert a test score to a grade where  \n",
    " - 90 - 100: A\n",
    " - 80 - 89:  B\n",
    " - 70 - 79:  C\n",
    " - 60 - 69:  D\n",
    " - < 60   :  F\n",
    " \n",
    "If a score is not between 0 and 100 then print out an error message. In the program, ask the user for a score and then call your function. "
   ]
  },
  {
   "cell_type": "code",
   "execution_count": 29,
   "metadata": {},
   "outputs": [
    {
     "name": "stdout",
     "output_type": "stream",
     "text": [
      "Could you give me your scores?   100\n",
      "A\n"
     ]
    }
   ],
   "source": [
    "def test_score(score): \n",
    "    if score < 0:\n",
    "        print(\"Error\")\n",
    "    elif score < 60: \n",
    "        print(\"F\")\n",
    "    elif score < 70:\n",
    "        print(\"D\")\n",
    "    elif score < 80:\n",
    "        print(\"C\")\n",
    "    elif score < 90:\n",
    "        print(\"B\")\n",
    "    elif score <= 100:\n",
    "        print(\"A\")\n",
    "    elif score > 100:\n",
    "        print(\"Error\")\n",
    "    else:\n",
    "        print(\"Error\")\n",
    "\n",
    "score2 = float(input(\"Could you give me your scores?   \"))\n",
    "\n",
    "test_score(score2)"
   ]
  }
 ],
 "metadata": {
  "kernelspec": {
   "display_name": "Python 3 (ipykernel)",
   "language": "python",
   "name": "python3"
  },
  "language_info": {
   "codemirror_mode": {
    "name": "ipython",
    "version": 3
   },
   "file_extension": ".py",
   "mimetype": "text/x-python",
   "name": "python",
   "nbconvert_exporter": "python",
   "pygments_lexer": "ipython3",
   "version": "3.9.7"
  }
 },
 "nbformat": 4,
 "nbformat_minor": 4
}
