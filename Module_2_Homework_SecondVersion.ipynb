{
  "cells": [
    {
      "cell_type": "markdown",
      "metadata": {
        "id": "view-in-github",
        "colab_type": "text"
      },
      "source": [
        "<a href=\"https://colab.research.google.com/github/wsuarez893/MC-Class-Homeworks/blob/main/Module_2_Homework_SecondVersion.ipynb\" target=\"_parent\"><img src=\"https://colab.research.google.com/assets/colab-badge.svg\" alt=\"Open In Colab\"/></a>"
      ]
    },
    {
      "cell_type": "markdown",
      "id": "c209b646",
      "metadata": {
        "id": "c209b646"
      },
      "source": [
        "### Homework #2"
      ]
    },
    {
      "cell_type": "markdown",
      "id": "869ebfd6",
      "metadata": {
        "id": "869ebfd6"
      },
      "source": [
        "1. Round 4.5667 to the nearest hundreth (2 decimals) using a build-in function, round()."
      ]
    },
    {
      "cell_type": "code",
      "execution_count": 1,
      "id": "123658aa",
      "metadata": {
        "colab": {
          "base_uri": "https://localhost:8080/"
        },
        "id": "123658aa",
        "outputId": "7d26176c-6374-4f1b-ca87-e357e89aede3"
      },
      "outputs": [
        {
          "output_type": "execute_result",
          "data": {
            "text/plain": [
              "4.57"
            ]
          },
          "metadata": {},
          "execution_count": 1
        }
      ],
      "source": [
        "round(4.5667,2)"
      ]
    },
    {
      "cell_type": "markdown",
      "id": "9d3f352c",
      "metadata": {
        "id": "9d3f352c"
      },
      "source": [
        "2. Convert \"657\" to an integer data type"
      ]
    },
    {
      "cell_type": "code",
      "execution_count": 2,
      "id": "d5a67683",
      "metadata": {
        "colab": {
          "base_uri": "https://localhost:8080/"
        },
        "id": "d5a67683",
        "outputId": "d8f0a3af-ff15-48f8-a3c4-e1555f571669"
      },
      "outputs": [
        {
          "output_type": "execute_result",
          "data": {
            "text/plain": [
              "int"
            ]
          },
          "metadata": {},
          "execution_count": 2
        }
      ],
      "source": [
        "type(int(657))"
      ]
    },
    {
      "cell_type": "markdown",
      "id": "a36f06d4",
      "metadata": {
        "id": "a36f06d4"
      },
      "source": [
        "3. Write a program to get two numbers from a user. Then, create a 6-digit code that is a series of randomly generated numbers between the two numbers given by the user. Print the 6-digit code so all digits are separated by a dash. "
      ]
    },
    {
      "cell_type": "code",
      "execution_count": 7,
      "id": "021c92d4",
      "metadata": {
        "colab": {
          "base_uri": "https://localhost:8080/"
        },
        "id": "021c92d4",
        "outputId": "c68eb89e-27b1-4b0a-d7f1-a72c77841e35"
      },
      "outputs": [
        {
          "output_type": "stream",
          "name": "stdout",
          "text": [
            "Give me a number:  1\n",
            "Give me another number:   9\n",
            "6-5-1-3-8-2\n"
          ]
        }
      ],
      "source": [
        "import random as rand \n",
        "n1 = int(input(\"Give me a number:  \"))\n",
        "n2 = int(input(\"Give me another number:   \"))\n",
        "\n",
        "print((rand.randint(n1,n2)),(rand.randint(n1,n2)), (rand.randint(n1,n2)),(rand.randint(n1,n2)),(rand.randint(n1,n2)),(rand.randint(n1,n2)),sep = \"-\") \n",
        "\n"
      ]
    },
    {
      "cell_type": "markdown",
      "id": "ee1441a1",
      "metadata": {
        "id": "ee1441a1"
      },
      "source": [
        "4. Write a program to remove ALL the white spaces from the following text:\n",
        "\n",
        "        Hickory, dickory, dock,     \n",
        "        The mouse ran up the clock.   \n",
        "        The clock struck one,   \n",
        "        The mouse ran down,                      \n",
        "        Hickory, dickory, dock                  "
      ]
    },
    {
      "cell_type": "code",
      "execution_count": 8,
      "id": "8bf680f1",
      "metadata": {
        "id": "8bf680f1"
      },
      "outputs": [],
      "source": [
        "line1='Hickory, dickory, dock,'\n",
        "line2='The mouse ran up the clock.'\n",
        "line3='The clock struck one,'\n",
        "line4= 'The mouse ran down,'\n",
        "line5= \"Hickory, dickory, dock\""
      ]
    },
    {
      "cell_type": "code",
      "execution_count": 9,
      "id": "59d9c718",
      "metadata": {
        "colab": {
          "base_uri": "https://localhost:8080/"
        },
        "id": "59d9c718",
        "outputId": "a82e4528-7401-46f5-a650-de44d501369b"
      },
      "outputs": [
        {
          "output_type": "stream",
          "name": "stdout",
          "text": [
            "Hickory,dickory,dock,\n",
            "Themouseranuptheclock.\n",
            "Theclockstruckone,\n",
            "Themouserandown,\n",
            "Hickory,dickory,dock\n"
          ]
        }
      ],
      "source": [
        "print(line1.replace(\" \",\"\"))\n",
        "print(line2.replace(\" \",\"\"))\n",
        "print(line3.replace(\" \",\"\"))\n",
        "print(line4.replace(\" \",\"\"))\n",
        "print(line5.replace(\" \",\"\"))"
      ]
    },
    {
      "cell_type": "markdown",
      "id": "72d87b5b",
      "metadata": {
        "id": "72d87b5b"
      },
      "source": [
        "5. Write a function to calculate the miles per gallon. Get a miles driven and gallons used from a user and call your function to calculate the miles per gallon."
      ]
    },
    {
      "cell_type": "code",
      "execution_count": 11,
      "id": "27be7372",
      "metadata": {
        "colab": {
          "base_uri": "https://localhost:8080/"
        },
        "id": "27be7372",
        "outputId": "796c7dc7-f35b-4ee2-f4f0-18798a369596"
      },
      "outputs": [
        {
          "output_type": "stream",
          "name": "stdout",
          "text": [
            "Please enter the miles driven:  60\n",
            "Please enter the gallons used:  15\n",
            "The miles per gallons is 4.0\n"
          ]
        }
      ],
      "source": [
        "def miles_per_gallon (m,g): \n",
        "  MPG = m/g\n",
        "  print(f\"The miles per gallons is {MPG}\")\n",
        "\n",
        "miles = int(input(\"Please enter the miles driven:  \"))\n",
        "gallons = int(input(\"Please enter the gallons used:  \"))\n",
        "\n",
        "miles_per_gallon (miles, gallons)"
      ]
    },
    {
      "cell_type": "markdown",
      "id": "1f3942b8",
      "metadata": {
        "id": "1f3942b8"
      },
      "source": [
        "6. Enhance the <b>compute()</b> function created during Module 2. Enhance the function to compute a circle's area and circumference where:\n",
        "\n",
        " - circle's area = 3.14 X (radius X radius)   \n",
        " - circle's circumference = 3.14 X diameter"
      ]
    },
    {
      "cell_type": "code",
      "execution_count": 12,
      "id": "df43daca",
      "metadata": {
        "colab": {
          "base_uri": "https://localhost:8080/"
        },
        "id": "df43daca",
        "outputId": "2a71af8b-1c17-40fb-f6a7-eb04b41e1e8c"
      },
      "outputs": [
        {
          "output_type": "stream",
          "name": "stdout",
          "text": [
            "Please enter the radius:   4\n",
            "Please enter the diameter:   7\n",
            "Area is 50.24\n",
            "Circumference is 21.98\n"
          ]
        }
      ],
      "source": [
        "def compute(area,circumference):\n",
        "    A=3.14*(r*r)\n",
        "    C=3.14*(d)\n",
        "    print(f\"Area is {A}\")\n",
        "    print(f\"Circumference is {C}\")\n",
        "\n",
        "r=int(input(\"Please enter the radius:   \"))\n",
        "d=int(input(\"Please enter the diameter:   \"))\n",
        "          \n",
        "compute(r,d)"
      ]
    },
    {
      "cell_type": "markdown",
      "id": "4c5d83bb",
      "metadata": {
        "id": "4c5d83bb"
      },
      "source": [
        "7. Write a function called multiply_two() that accepts two parameters. The function should print a message like '15 * 2 = 30'.  Randomly generate two numbers between 1 and 100, then call the function with the two random numbers."
      ]
    },
    {
      "cell_type": "code",
      "execution_count": 16,
      "id": "fe5ca2dc",
      "metadata": {
        "colab": {
          "base_uri": "https://localhost:8080/"
        },
        "id": "fe5ca2dc",
        "outputId": "7258cdf0-0bd9-40f1-c61d-8eca5ff2260f"
      },
      "outputs": [
        {
          "output_type": "stream",
          "name": "stdout",
          "text": [
            " 42*25 = 1050 \n"
          ]
        }
      ],
      "source": [
        "def multiply_two(x,y):\n",
        "    M = x*y\n",
        "    print(f\" {x}*{y} = {M} \")\n",
        "\n",
        "No1 = rand.randint(1,100)\n",
        "No2 = rand.randint(1,100)\n",
        "\n",
        "multiply_two(No1,No2)\n"
      ]
    },
    {
      "cell_type": "code",
      "execution_count": null,
      "id": "9f83774c",
      "metadata": {
        "id": "9f83774c"
      },
      "outputs": [],
      "source": [
        ""
      ]
    },
    {
      "cell_type": "markdown",
      "id": "36865477",
      "metadata": {
        "id": "36865477"
      },
      "source": [
        "8. Create a function for a multiplication table.  Get a number from a user and then call you function which produces a multiplication table for that number.\n",
        "The output should look something like this:\n",
        "\n",
        "        Enter a number: 3\n",
        "        3 X 1 = 3\n",
        "        3 X 2 = 6\n",
        "        3 X 3 = 9\n",
        "        3 X 4 = 12\n",
        "        3 X 5 = 15\n",
        "        3 X 6 = 18\n",
        "        3 X 7 = 21\n",
        "        3 X 8 = 24\n",
        "        3 X 9 = 27"
      ]
    },
    {
      "cell_type": "code",
      "execution_count": 21,
      "id": "b023e863",
      "metadata": {
        "colab": {
          "base_uri": "https://localhost:8080/"
        },
        "id": "b023e863",
        "outputId": "c4a2c37c-aab7-4fd5-bc0a-9f11c6efa9f2"
      },
      "outputs": [
        {
          "output_type": "stream",
          "name": "stdout",
          "text": [
            "Please give me a number:   3\n",
            "3 x 9 = 27 \n",
            "3 x 9 = 27 \n",
            "3 x 9 = 27 \n",
            "3 x 9 = 27 \n",
            "3 x 9 = 27 \n"
          ]
        }
      ],
      "source": [
        "def multiply(a,b):\n",
        "  T = a * b\n",
        "  print(f\"{a} x {b} = {T} \")\n",
        "  print(f\"{a} x {b} = {T} \")\n",
        "  print(f\"{a} x {b} = {T} \")\n",
        "  print(f\"{a} x {b} = {T} \")\n",
        "  print(f\"{a} x {b} = {T} \")\n",
        "\n",
        "\n",
        "Number1 = int(input(\"Please give me a number:   \"))\n",
        "Number2 = rand.randint(1,10)\n",
        "\n",
        "multiply(Number1,Number2) "
      ]
    },
    {
      "cell_type": "code",
      "execution_count": null,
      "id": "563c8445",
      "metadata": {
        "id": "563c8445"
      },
      "outputs": [],
      "source": [
        ""
      ]
    }
  ],
  "metadata": {
    "kernelspec": {
      "display_name": "Python 3",
      "language": "python",
      "name": "python3"
    },
    "language_info": {
      "codemirror_mode": {
        "name": "ipython",
        "version": 3
      },
      "file_extension": ".py",
      "mimetype": "text/x-python",
      "name": "python",
      "nbconvert_exporter": "python",
      "pygments_lexer": "ipython3",
      "version": "3.8.8"
    },
    "colab": {
      "name": "Module 2 - Homework.ipynb",
      "provenance": [],
      "include_colab_link": true
    }
  },
  "nbformat": 4,
  "nbformat_minor": 5
}